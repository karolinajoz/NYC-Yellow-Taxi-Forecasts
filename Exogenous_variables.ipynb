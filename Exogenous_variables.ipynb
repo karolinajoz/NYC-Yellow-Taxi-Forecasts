{
 "cells": [
  {
   "cell_type": "markdown",
   "metadata": {},
   "source": [
    "## Importing libraries"
   ]
  },
  {
   "cell_type": "code",
   "execution_count": 1,
   "metadata": {},
   "outputs": [],
   "source": [
    "import pandas as pd\n",
    "import numpy as np\n",
    "import requests\n",
    "import time\n",
    "from tqdm import tqdm_notebook\n",
    "import wget"
   ]
  },
  {
   "cell_type": "code",
   "execution_count": 2,
   "metadata": {},
   "outputs": [],
   "source": [
    "import gcsfs"
   ]
  },
  {
   "cell_type": "code",
   "execution_count": 3,
   "metadata": {},
   "outputs": [],
   "source": [
    "import glob"
   ]
  },
  {
   "cell_type": "code",
   "execution_count": 4,
   "metadata": {},
   "outputs": [],
   "source": [
    "import pyarrow"
   ]
  },
  {
   "cell_type": "code",
   "execution_count": 5,
   "metadata": {},
   "outputs": [],
   "source": [
    "import matplotlib.pyplot as plt\n",
    "%matplotlib inline\n",
    "from matplotlib.pylab import rcParams"
   ]
  },
  {
   "cell_type": "code",
   "execution_count": 8,
   "metadata": {},
   "outputs": [],
   "source": [
    "import seaborn as sns"
   ]
  },
  {
   "cell_type": "code",
   "execution_count": 6,
   "metadata": {},
   "outputs": [],
   "source": [
    "from dask.distributed import Client, progress, LocalCluster\n",
    "import dask"
   ]
  },
  {
   "cell_type": "code",
   "execution_count": 7,
   "metadata": {},
   "outputs": [],
   "source": [
    "import dask.dataframe as dd"
   ]
  },
  {
   "cell_type": "code",
   "execution_count": 108,
   "metadata": {},
   "outputs": [],
   "source": [
    "from dask.diagnostics import ProgressBar"
   ]
  },
  {
   "cell_type": "markdown",
   "metadata": {},
   "source": [
    "## Gathering data to use as exogenous variables in time series models"
   ]
  },
  {
   "cell_type": "code",
   "execution_count": 11,
   "metadata": {},
   "outputs": [],
   "source": [
    "cluster = LocalCluster(processes=True, n_workers=4)\n",
    "client = Client(cluster)"
   ]
  },
  {
   "cell_type": "code",
   "execution_count": 13,
   "metadata": {},
   "outputs": [
    {
     "data": {
      "text/plain": [
       "'2.8.0'"
      ]
     },
     "execution_count": 13,
     "metadata": {},
     "output_type": "execute_result"
    }
   ],
   "source": [
    "dask.__version__"
   ]
  },
  {
   "cell_type": "code",
   "execution_count": 14,
   "metadata": {},
   "outputs": [],
   "source": [
    "gcs = gcsfs.GCSFileSystem()"
   ]
  },
  {
   "cell_type": "code",
   "execution_count": 15,
   "metadata": {},
   "outputs": [
    {
     "data": {
      "text/plain": [
       "['gcs://nyc-taxi-data-2018-2019/yellow_tripdata_2018_hr/yellow_tripdata_2018-01.parquet',\n",
       " 'gcs://nyc-taxi-data-2018-2019/yellow_tripdata_2018_hr/yellow_tripdata_2018-02.parquet',\n",
       " 'gcs://nyc-taxi-data-2018-2019/yellow_tripdata_2018_hr/yellow_tripdata_2018-03.parquet',\n",
       " 'gcs://nyc-taxi-data-2018-2019/yellow_tripdata_2018_hr/yellow_tripdata_2018-04.parquet',\n",
       " 'gcs://nyc-taxi-data-2018-2019/yellow_tripdata_2018_hr/yellow_tripdata_2018-05.parquet',\n",
       " 'gcs://nyc-taxi-data-2018-2019/yellow_tripdata_2018_hr/yellow_tripdata_2018-06.parquet',\n",
       " 'gcs://nyc-taxi-data-2018-2019/yellow_tripdata_2018_hr/yellow_tripdata_2018-07.parquet',\n",
       " 'gcs://nyc-taxi-data-2018-2019/yellow_tripdata_2018_hr/yellow_tripdata_2018-08.parquet',\n",
       " 'gcs://nyc-taxi-data-2018-2019/yellow_tripdata_2018_hr/yellow_tripdata_2018-09.parquet',\n",
       " 'gcs://nyc-taxi-data-2018-2019/yellow_tripdata_2018_hr/yellow_tripdata_2018-10.parquet',\n",
       " 'gcs://nyc-taxi-data-2018-2019/yellow_tripdata_2018_hr/yellow_tripdata_2018-11.parquet',\n",
       " 'gcs://nyc-taxi-data-2018-2019/yellow_tripdata_2018_hr/yellow_tripdata_2018-12.parquet']"
      ]
     },
     "execution_count": 15,
     "metadata": {},
     "output_type": "execute_result"
    }
   ],
   "source": [
    "filelist = gcs.glob('nyc-taxi-data-2018-2019/yellow_tripdata_2018_hr/*.parquet/')\n",
    "filelist_gcs = ['gcs://' + x for x in filelist]\n",
    "filelist_gcs"
   ]
  },
  {
   "cell_type": "code",
   "execution_count": 16,
   "metadata": {},
   "outputs": [
    {
     "name": "stdout",
     "output_type": "stream",
     "text": [
      "CPU times: user 176 ms, sys: 12 ms, total: 188 ms\n",
      "Wall time: 889 ms\n"
     ]
    }
   ],
   "source": [
    "%time data_hr_2018 = dd.read_parquet(filelist_gcs)"
   ]
  },
  {
   "cell_type": "markdown",
   "metadata": {},
   "source": [
    "### Date features"
   ]
  },
  {
   "cell_type": "markdown",
   "metadata": {},
   "source": [
    "Creating variables for weekends, day of the week, month and time past since beginning of 2018"
   ]
  },
  {
   "cell_type": "code",
   "execution_count": 29,
   "metadata": {},
   "outputs": [],
   "source": [
    "lst_dates = data_hr_2018.index.compute()"
   ]
  },
  {
   "cell_type": "code",
   "execution_count": 37,
   "metadata": {},
   "outputs": [],
   "source": [
    "lst_days = lst_dates.day_name()"
   ]
  },
  {
   "cell_type": "code",
   "execution_count": 40,
   "metadata": {},
   "outputs": [],
   "source": [
    "lst_month = lst_dates.month_name()"
   ]
  },
  {
   "cell_type": "code",
   "execution_count": 43,
   "metadata": {},
   "outputs": [],
   "source": [
    "dates_table = pd.DataFrame({'date':lst_dates, 'weekday':lst_days, 'month':lst_month})"
   ]
  },
  {
   "cell_type": "code",
   "execution_count": 54,
   "metadata": {},
   "outputs": [],
   "source": [
    "dates_table['weekend'] = dates_table.date.apply(lambda x : 0 if int(x.weekday()) <5 else 1)"
   ]
  },
  {
   "cell_type": "code",
   "execution_count": 63,
   "metadata": {},
   "outputs": [],
   "source": [
    "dates_table['since_2018'] = dates_table.date.apply(lambda x: (pd.to_datetime(x)-pd.to_datetime('2018-01-01')).days)"
   ]
  },
  {
   "cell_type": "markdown",
   "metadata": {},
   "source": [
    "Saving date features to file"
   ]
  },
  {
   "cell_type": "code",
   "execution_count": 66,
   "metadata": {},
   "outputs": [],
   "source": [
    "dates_table.to_csv('gcs://nyc-taxi-data-2018-2019/date_features_2018.csv', index = False)"
   ]
  },
  {
   "cell_type": "markdown",
   "metadata": {},
   "source": [
    "### Weather data"
   ]
  },
  {
   "cell_type": "markdown",
   "metadata": {},
   "source": [
    "Weather data was gathered from NOAA website. It consists of historical daily weather information from JFK weather station. Full table has lots of different weather parameters. I decided to focus on info about wind, rain, temperature, snow and fog."
   ]
  },
  {
   "cell_type": "code",
   "execution_count": 18,
   "metadata": {},
   "outputs": [],
   "source": [
    "weather_df = dd.read_csv('gcs://nyc-taxi-data-2018-2019/weather_JFK.csv', parse_dates = ['DATE'])"
   ]
  },
  {
   "cell_type": "code",
   "execution_count": 19,
   "metadata": {},
   "outputs": [
    {
     "data": {
      "text/html": [
       "<div>\n",
       "<style scoped>\n",
       "    .dataframe tbody tr th:only-of-type {\n",
       "        vertical-align: middle;\n",
       "    }\n",
       "\n",
       "    .dataframe tbody tr th {\n",
       "        vertical-align: top;\n",
       "    }\n",
       "\n",
       "    .dataframe thead th {\n",
       "        text-align: right;\n",
       "    }\n",
       "</style>\n",
       "<table border=\"1\" class=\"dataframe\">\n",
       "  <thead>\n",
       "    <tr style=\"text-align: right;\">\n",
       "      <th></th>\n",
       "      <th>STATION</th>\n",
       "      <th>NAME</th>\n",
       "      <th>DATE</th>\n",
       "      <th>AWND</th>\n",
       "      <th>PGTM</th>\n",
       "      <th>PRCP</th>\n",
       "      <th>SNOW</th>\n",
       "      <th>SNWD</th>\n",
       "      <th>TAVG</th>\n",
       "      <th>TMAX</th>\n",
       "      <th>...</th>\n",
       "      <th>WSF2</th>\n",
       "      <th>WSF5</th>\n",
       "      <th>WT01</th>\n",
       "      <th>WT02</th>\n",
       "      <th>WT03</th>\n",
       "      <th>WT04</th>\n",
       "      <th>WT05</th>\n",
       "      <th>WT06</th>\n",
       "      <th>WT08</th>\n",
       "      <th>WT09</th>\n",
       "    </tr>\n",
       "  </thead>\n",
       "  <tbody>\n",
       "    <tr>\n",
       "      <th>0</th>\n",
       "      <td>USW00094789</td>\n",
       "      <td>JFK INTERNATIONAL AIRPORT, NY US</td>\n",
       "      <td>2015-12-01</td>\n",
       "      <td>10.96</td>\n",
       "      <td>NaN</td>\n",
       "      <td>0.29</td>\n",
       "      <td>0.0</td>\n",
       "      <td>0.0</td>\n",
       "      <td>48.0</td>\n",
       "      <td>53</td>\n",
       "      <td>...</td>\n",
       "      <td>21.9</td>\n",
       "      <td>25.1</td>\n",
       "      <td>1.0</td>\n",
       "      <td>NaN</td>\n",
       "      <td>NaN</td>\n",
       "      <td>NaN</td>\n",
       "      <td>NaN</td>\n",
       "      <td>NaN</td>\n",
       "      <td>NaN</td>\n",
       "      <td>NaN</td>\n",
       "    </tr>\n",
       "    <tr>\n",
       "      <th>1</th>\n",
       "      <td>USW00094789</td>\n",
       "      <td>JFK INTERNATIONAL AIRPORT, NY US</td>\n",
       "      <td>2015-12-02</td>\n",
       "      <td>4.47</td>\n",
       "      <td>NaN</td>\n",
       "      <td>0.12</td>\n",
       "      <td>0.0</td>\n",
       "      <td>0.0</td>\n",
       "      <td>50.0</td>\n",
       "      <td>57</td>\n",
       "      <td>...</td>\n",
       "      <td>17.0</td>\n",
       "      <td>23.0</td>\n",
       "      <td>1.0</td>\n",
       "      <td>1.0</td>\n",
       "      <td>NaN</td>\n",
       "      <td>NaN</td>\n",
       "      <td>NaN</td>\n",
       "      <td>NaN</td>\n",
       "      <td>NaN</td>\n",
       "      <td>NaN</td>\n",
       "    </tr>\n",
       "    <tr>\n",
       "      <th>2</th>\n",
       "      <td>USW00094789</td>\n",
       "      <td>JFK INTERNATIONAL AIRPORT, NY US</td>\n",
       "      <td>2015-12-03</td>\n",
       "      <td>16.11</td>\n",
       "      <td>NaN</td>\n",
       "      <td>0.00</td>\n",
       "      <td>0.0</td>\n",
       "      <td>0.0</td>\n",
       "      <td>52.0</td>\n",
       "      <td>56</td>\n",
       "      <td>...</td>\n",
       "      <td>25.9</td>\n",
       "      <td>33.1</td>\n",
       "      <td>NaN</td>\n",
       "      <td>NaN</td>\n",
       "      <td>NaN</td>\n",
       "      <td>NaN</td>\n",
       "      <td>NaN</td>\n",
       "      <td>NaN</td>\n",
       "      <td>NaN</td>\n",
       "      <td>NaN</td>\n",
       "    </tr>\n",
       "    <tr>\n",
       "      <th>3</th>\n",
       "      <td>USW00094789</td>\n",
       "      <td>JFK INTERNATIONAL AIRPORT, NY US</td>\n",
       "      <td>2015-12-04</td>\n",
       "      <td>10.51</td>\n",
       "      <td>NaN</td>\n",
       "      <td>0.00</td>\n",
       "      <td>0.0</td>\n",
       "      <td>0.0</td>\n",
       "      <td>47.0</td>\n",
       "      <td>53</td>\n",
       "      <td>...</td>\n",
       "      <td>18.1</td>\n",
       "      <td>25.9</td>\n",
       "      <td>NaN</td>\n",
       "      <td>NaN</td>\n",
       "      <td>NaN</td>\n",
       "      <td>NaN</td>\n",
       "      <td>NaN</td>\n",
       "      <td>NaN</td>\n",
       "      <td>NaN</td>\n",
       "      <td>NaN</td>\n",
       "    </tr>\n",
       "    <tr>\n",
       "      <th>4</th>\n",
       "      <td>USW00094789</td>\n",
       "      <td>JFK INTERNATIONAL AIRPORT, NY US</td>\n",
       "      <td>2015-12-05</td>\n",
       "      <td>5.37</td>\n",
       "      <td>NaN</td>\n",
       "      <td>0.00</td>\n",
       "      <td>0.0</td>\n",
       "      <td>0.0</td>\n",
       "      <td>45.0</td>\n",
       "      <td>53</td>\n",
       "      <td>...</td>\n",
       "      <td>12.1</td>\n",
       "      <td>NaN</td>\n",
       "      <td>NaN</td>\n",
       "      <td>NaN</td>\n",
       "      <td>NaN</td>\n",
       "      <td>NaN</td>\n",
       "      <td>NaN</td>\n",
       "      <td>NaN</td>\n",
       "      <td>NaN</td>\n",
       "      <td>NaN</td>\n",
       "    </tr>\n",
       "  </tbody>\n",
       "</table>\n",
       "<p>5 rows × 23 columns</p>\n",
       "</div>"
      ],
      "text/plain": [
       "       STATION                              NAME       DATE   AWND  PGTM  \\\n",
       "0  USW00094789  JFK INTERNATIONAL AIRPORT, NY US 2015-12-01  10.96   NaN   \n",
       "1  USW00094789  JFK INTERNATIONAL AIRPORT, NY US 2015-12-02   4.47   NaN   \n",
       "2  USW00094789  JFK INTERNATIONAL AIRPORT, NY US 2015-12-03  16.11   NaN   \n",
       "3  USW00094789  JFK INTERNATIONAL AIRPORT, NY US 2015-12-04  10.51   NaN   \n",
       "4  USW00094789  JFK INTERNATIONAL AIRPORT, NY US 2015-12-05   5.37   NaN   \n",
       "\n",
       "   PRCP  SNOW  SNWD  TAVG  TMAX  ...  WSF2  WSF5  WT01  WT02  WT03  WT04  \\\n",
       "0  0.29   0.0   0.0  48.0    53  ...  21.9  25.1   1.0   NaN   NaN   NaN   \n",
       "1  0.12   0.0   0.0  50.0    57  ...  17.0  23.0   1.0   1.0   NaN   NaN   \n",
       "2  0.00   0.0   0.0  52.0    56  ...  25.9  33.1   NaN   NaN   NaN   NaN   \n",
       "3  0.00   0.0   0.0  47.0    53  ...  18.1  25.9   NaN   NaN   NaN   NaN   \n",
       "4  0.00   0.0   0.0  45.0    53  ...  12.1   NaN   NaN   NaN   NaN   NaN   \n",
       "\n",
       "   WT05  WT06  WT08  WT09  \n",
       "0   NaN   NaN   NaN   NaN  \n",
       "1   NaN   NaN   NaN   NaN  \n",
       "2   NaN   NaN   NaN   NaN  \n",
       "3   NaN   NaN   NaN   NaN  \n",
       "4   NaN   NaN   NaN   NaN  \n",
       "\n",
       "[5 rows x 23 columns]"
      ]
     },
     "execution_count": 19,
     "metadata": {},
     "output_type": "execute_result"
    }
   ],
   "source": [
    "weather_df.head()"
   ]
  },
  {
   "cell_type": "code",
   "execution_count": 65,
   "metadata": {},
   "outputs": [],
   "source": [
    "weather_df = weather_df.set_index('DATE').drop(['STATION', 'NAME'], axis = 1)"
   ]
  },
  {
   "cell_type": "code",
   "execution_count": 66,
   "metadata": {},
   "outputs": [
    {
     "data": {
      "text/plain": [
       "AWND       1\n",
       "PGTM    1445\n",
       "PRCP       0\n",
       "SNOW       0\n",
       "SNWD       0\n",
       "TAVG       1\n",
       "TMAX       0\n",
       "TMIN       0\n",
       "WDF2       1\n",
       "WDF5      14\n",
       "WSF2       1\n",
       "WSF5      14\n",
       "WT01     862\n",
       "WT02    1331\n",
       "WT03    1334\n",
       "WT04    1426\n",
       "WT05    1445\n",
       "WT06    1438\n",
       "WT08    1363\n",
       "WT09    1440\n",
       "dtype: int64"
      ]
     },
     "execution_count": 66,
     "metadata": {},
     "output_type": "execute_result"
    }
   ],
   "source": [
    "weather_df.isna().sum().compute()"
   ]
  },
  {
   "cell_type": "code",
   "execution_count": 70,
   "metadata": {},
   "outputs": [
    {
     "data": {
      "text/plain": [
       "(1446, 20)"
      ]
     },
     "execution_count": 70,
     "metadata": {},
     "output_type": "execute_result"
    }
   ],
   "source": [
    "weather_df.compute().shape"
   ]
  },
  {
   "cell_type": "code",
   "execution_count": 71,
   "metadata": {},
   "outputs": [],
   "source": [
    "weather_df = weather_df.drop(['PGTM', 'WDF5', 'WSF5', 'WT02','WT03','WT04', 'WT05', 'WT06', 'WT08', 'WT09'], axis = 1)"
   ]
  },
  {
   "cell_type": "markdown",
   "metadata": {},
   "source": [
    "No information about the fog filling with 0"
   ]
  },
  {
   "cell_type": "code",
   "execution_count": 73,
   "metadata": {},
   "outputs": [],
   "source": [
    "weather_df.WT01 = weather_df.WT01.fillna(0)"
   ]
  },
  {
   "cell_type": "code",
   "execution_count": 78,
   "metadata": {},
   "outputs": [
    {
     "data": {
      "text/html": [
       "<div>\n",
       "<style scoped>\n",
       "    .dataframe tbody tr th:only-of-type {\n",
       "        vertical-align: middle;\n",
       "    }\n",
       "\n",
       "    .dataframe tbody tr th {\n",
       "        vertical-align: top;\n",
       "    }\n",
       "\n",
       "    .dataframe thead th {\n",
       "        text-align: right;\n",
       "    }\n",
       "</style>\n",
       "<table border=\"1\" class=\"dataframe\">\n",
       "  <thead>\n",
       "    <tr style=\"text-align: right;\">\n",
       "      <th></th>\n",
       "      <th>AWND</th>\n",
       "      <th>PRCP</th>\n",
       "      <th>SNOW</th>\n",
       "      <th>SNWD</th>\n",
       "      <th>TAVG</th>\n",
       "      <th>TMAX</th>\n",
       "      <th>TMIN</th>\n",
       "      <th>WDF2</th>\n",
       "      <th>WSF2</th>\n",
       "      <th>WT01</th>\n",
       "    </tr>\n",
       "  </thead>\n",
       "  <tbody>\n",
       "    <tr>\n",
       "      <th>count</th>\n",
       "      <td>1445.000000</td>\n",
       "      <td>1446.00000</td>\n",
       "      <td>1446.000000</td>\n",
       "      <td>1446.000000</td>\n",
       "      <td>1445.000000</td>\n",
       "      <td>1446.000000</td>\n",
       "      <td>1446.000000</td>\n",
       "      <td>1445.00000</td>\n",
       "      <td>1445.000000</td>\n",
       "      <td>1446.000000</td>\n",
       "    </tr>\n",
       "    <tr>\n",
       "      <th>mean</th>\n",
       "      <td>11.459896</td>\n",
       "      <td>0.12713</td>\n",
       "      <td>0.084716</td>\n",
       "      <td>0.221577</td>\n",
       "      <td>55.784775</td>\n",
       "      <td>63.060166</td>\n",
       "      <td>48.838174</td>\n",
       "      <td>211.99308</td>\n",
       "      <td>22.090173</td>\n",
       "      <td>0.403873</td>\n",
       "    </tr>\n",
       "    <tr>\n",
       "      <th>std</th>\n",
       "      <td>4.386223</td>\n",
       "      <td>0.31803</td>\n",
       "      <td>0.963461</td>\n",
       "      <td>1.522138</td>\n",
       "      <td>16.438588</td>\n",
       "      <td>17.254532</td>\n",
       "      <td>16.498173</td>\n",
       "      <td>98.15987</td>\n",
       "      <td>6.818516</td>\n",
       "      <td>0.490842</td>\n",
       "    </tr>\n",
       "    <tr>\n",
       "      <th>min</th>\n",
       "      <td>2.010000</td>\n",
       "      <td>0.00000</td>\n",
       "      <td>0.000000</td>\n",
       "      <td>0.000000</td>\n",
       "      <td>8.000000</td>\n",
       "      <td>14.000000</td>\n",
       "      <td>1.000000</td>\n",
       "      <td>10.00000</td>\n",
       "      <td>8.100000</td>\n",
       "      <td>0.000000</td>\n",
       "    </tr>\n",
       "    <tr>\n",
       "      <th>25%</th>\n",
       "      <td>8.280000</td>\n",
       "      <td>0.00000</td>\n",
       "      <td>0.000000</td>\n",
       "      <td>0.000000</td>\n",
       "      <td>43.000000</td>\n",
       "      <td>49.000000</td>\n",
       "      <td>36.000000</td>\n",
       "      <td>150.00000</td>\n",
       "      <td>17.000000</td>\n",
       "      <td>0.000000</td>\n",
       "    </tr>\n",
       "    <tr>\n",
       "      <th>50%</th>\n",
       "      <td>10.740000</td>\n",
       "      <td>0.00000</td>\n",
       "      <td>0.000000</td>\n",
       "      <td>0.000000</td>\n",
       "      <td>55.000000</td>\n",
       "      <td>63.000000</td>\n",
       "      <td>49.000000</td>\n",
       "      <td>200.00000</td>\n",
       "      <td>21.000000</td>\n",
       "      <td>0.000000</td>\n",
       "    </tr>\n",
       "    <tr>\n",
       "      <th>75%</th>\n",
       "      <td>13.650000</td>\n",
       "      <td>0.06000</td>\n",
       "      <td>0.000000</td>\n",
       "      <td>0.000000</td>\n",
       "      <td>71.000000</td>\n",
       "      <td>78.000000</td>\n",
       "      <td>64.000000</td>\n",
       "      <td>310.00000</td>\n",
       "      <td>25.900000</td>\n",
       "      <td>1.000000</td>\n",
       "    </tr>\n",
       "    <tr>\n",
       "      <th>max</th>\n",
       "      <td>29.970000</td>\n",
       "      <td>2.90000</td>\n",
       "      <td>30.300000</td>\n",
       "      <td>28.000000</td>\n",
       "      <td>89.000000</td>\n",
       "      <td>99.000000</td>\n",
       "      <td>82.000000</td>\n",
       "      <td>360.00000</td>\n",
       "      <td>51.000000</td>\n",
       "      <td>1.000000</td>\n",
       "    </tr>\n",
       "  </tbody>\n",
       "</table>\n",
       "</div>"
      ],
      "text/plain": [
       "              AWND        PRCP         SNOW         SNWD         TAVG  \\\n",
       "count  1445.000000  1446.00000  1446.000000  1446.000000  1445.000000   \n",
       "mean     11.459896     0.12713     0.084716     0.221577    55.784775   \n",
       "std       4.386223     0.31803     0.963461     1.522138    16.438588   \n",
       "min       2.010000     0.00000     0.000000     0.000000     8.000000   \n",
       "25%       8.280000     0.00000     0.000000     0.000000    43.000000   \n",
       "50%      10.740000     0.00000     0.000000     0.000000    55.000000   \n",
       "75%      13.650000     0.06000     0.000000     0.000000    71.000000   \n",
       "max      29.970000     2.90000    30.300000    28.000000    89.000000   \n",
       "\n",
       "              TMAX         TMIN        WDF2         WSF2         WT01  \n",
       "count  1446.000000  1446.000000  1445.00000  1445.000000  1446.000000  \n",
       "mean     63.060166    48.838174   211.99308    22.090173     0.403873  \n",
       "std      17.254532    16.498173    98.15987     6.818516     0.490842  \n",
       "min      14.000000     1.000000    10.00000     8.100000     0.000000  \n",
       "25%      49.000000    36.000000   150.00000    17.000000     0.000000  \n",
       "50%      63.000000    49.000000   200.00000    21.000000     0.000000  \n",
       "75%      78.000000    64.000000   310.00000    25.900000     1.000000  \n",
       "max      99.000000    82.000000   360.00000    51.000000     1.000000  "
      ]
     },
     "execution_count": 78,
     "metadata": {},
     "output_type": "execute_result"
    }
   ],
   "source": [
    "weather_df.describe().compute()"
   ]
  },
  {
   "cell_type": "code",
   "execution_count": 79,
   "metadata": {},
   "outputs": [],
   "source": [
    "weather_df = weather_df.fillna(method='ffill')"
   ]
  },
  {
   "cell_type": "markdown",
   "metadata": {},
   "source": [
    "Saving weather features to file"
   ]
  },
  {
   "cell_type": "code",
   "execution_count": 85,
   "metadata": {},
   "outputs": [],
   "source": [
    "weather_df.compute().to_csv('gcs://nyc-taxi-data-2018-2019/weather_filled.csv')"
   ]
  },
  {
   "cell_type": "code",
   "execution_count": 24,
   "metadata": {},
   "outputs": [],
   "source": [
    "weather_df = weather_df.set_index('DATE')"
   ]
  },
  {
   "cell_type": "code",
   "execution_count": 69,
   "metadata": {},
   "outputs": [],
   "source": [
    "weather_df_2018 = weather_df['2018'].compute()"
   ]
  },
  {
   "cell_type": "code",
   "execution_count": 83,
   "metadata": {},
   "outputs": [],
   "source": [
    "dates_table.columns = ['DATE', 'weekday', 'month', 'weekend', 'since_2018']"
   ]
  },
  {
   "cell_type": "markdown",
   "metadata": {},
   "source": [
    "Join date and weather features on date, fill whole day with same weather information"
   ]
  },
  {
   "cell_type": "code",
   "execution_count": 91,
   "metadata": {},
   "outputs": [],
   "source": [
    "joined_2018 = dates_table.join(weather_df_2018, on='DATE').fillna(method = 'ffill')"
   ]
  },
  {
   "cell_type": "code",
   "execution_count": 92,
   "metadata": {},
   "outputs": [],
   "source": [
    "joined_2018.to_csv('gcs://nyc-taxi-data-2018-2019/date_weather_features_2018.csv', index = False)"
   ]
  },
  {
   "cell_type": "markdown",
   "metadata": {},
   "source": [
    "### City Bike data"
   ]
  },
  {
   "cell_type": "markdown",
   "metadata": {},
   "source": [
    "Downloading files with City Bike data for whole 2018"
   ]
  },
  {
   "cell_type": "code",
   "execution_count": 93,
   "metadata": {},
   "outputs": [],
   "source": [
    "url = 'https://s3.amazonaws.com/tripdata/201801-citibike-tripdata.csv.zip'"
   ]
  },
  {
   "cell_type": "code",
   "execution_count": 97,
   "metadata": {},
   "outputs": [
    {
     "data": {
      "application/vnd.jupyter.widget-view+json": {
       "model_id": "a4b092a0604e40feb5ce5610fe42f37d",
       "version_major": 2,
       "version_minor": 0
      },
      "text/plain": [
       "HBox(children=(IntProgress(value=0, max=12), HTML(value='')))"
      ]
     },
     "metadata": {},
     "output_type": "display_data"
    },
    {
     "name": "stdout",
     "output_type": "stream",
     "text": [
      "\n",
      "--- 926.3888111114502 seconds ---\n"
     ]
    }
   ],
   "source": [
    "start_time = time.time()\n",
    "\n",
    "for i in tqdm_notebook(['01','02','03','04', '05', '06', '07', '08', '09', '10', '11', '12']):\n",
    "    url = f'https://s3.amazonaws.com/tripdata/2018{i}-citibike-tripdata.csv.zip'\n",
    "    df = pd.read_csv(url)\n",
    "    df.to_csv(f'gs://nyc-taxi-data-2018-2019/bike_2018/citibike_2018-{i}.csv')\n",
    "\n",
    "print(\"--- %s seconds ---\" % (time.time() - start_time))"
   ]
  },
  {
   "cell_type": "markdown",
   "metadata": {},
   "source": [
    "Convert to parquet files"
   ]
  },
  {
   "cell_type": "code",
   "execution_count": 106,
   "metadata": {},
   "outputs": [],
   "source": [
    "def conv_to_parq(i):\n",
    "    df = dd.read_csv(f'gs://nyc-taxi-data-2018-2019/bike_2018/citibike_2018-{i}.csv', parse_dates = ['starttime', 'stoptime'])\n",
    "    df.to_parquet(f'gcs://nyc-taxi-data-2018-2019/bike_2018/citibike_2018-{i}.parquet', engine = 'pyarrow')"
   ]
  },
  {
   "cell_type": "code",
   "execution_count": 107,
   "metadata": {
    "collapsed": true
   },
   "outputs": [
    {
     "data": {
      "application/vnd.jupyter.widget-view+json": {
       "model_id": "424e8c2b800e466995a9d11258c1e1a9",
       "version_major": 2,
       "version_minor": 0
      },
      "text/plain": [
       "HBox(children=(IntProgress(value=0, max=12), HTML(value='')))"
      ]
     },
     "metadata": {},
     "output_type": "display_data"
    },
    {
     "name": "stdout",
     "output_type": "stream",
     "text": [
      "\n"
     ]
    },
    {
     "data": {
      "application/vnd.jupyter.widget-view+json": {
       "model_id": "a4f1fb19a0b64c48a2177456e3e233d0",
       "version_major": 2,
       "version_minor": 0
      },
      "text/plain": [
       "VBox()"
      ]
     },
     "metadata": {},
     "output_type": "display_data"
    },
    {
     "name": "stderr",
     "output_type": "stream",
     "text": [
      "tornado.application - ERROR - Exception in callback functools.partial(<function wrap.<locals>.null_wrapper at 0x7faa688d96a8>, <Task finished coro=<MultiProgressBar.listen() done, defined at /opt/conda/anaconda/lib/python3.6/site-packages/distributed/diagnostics/progressbar.py:238> exception=AttributeError(\"'MultiProgressWidget' object has no attribute 'elapsed_time'\",)>)\n",
      "Traceback (most recent call last):\n",
      "  File \"/opt/conda/anaconda/lib/python3.6/site-packages/tornado/ioloop.py\", line 759, in _run_callback\n",
      "    ret = callback()\n",
      "  File \"/opt/conda/anaconda/lib/python3.6/site-packages/tornado/stack_context.py\", line 276, in null_wrapper\n",
      "    return fn(*args, **kwargs)\n",
      "  File \"/opt/conda/anaconda/lib/python3.6/site-packages/tornado/ioloop.py\", line 780, in _discard_future_result\n",
      "    future.result()\n",
      "  File \"/opt/conda/anaconda/lib/python3.6/site-packages/distributed/diagnostics/progressbar.py\", line 282, in listen\n",
      "    self._draw_stop(**response)\n",
      "  File \"/opt/conda/anaconda/lib/python3.6/site-packages/distributed/diagnostics/progressbar.py\", line 381, in _draw_stop\n",
      "    + \"</div>\"\n",
      "AttributeError: 'MultiProgressWidget' object has no attribute 'elapsed_time'\n"
     ]
    }
   ],
   "source": [
    "y = []\n",
    "for x in tqdm_notebook(['01','02','03','04', '05', '06', '07', '08', '09', '10', '11', '12']):\n",
    "    y.append(dask.delayed(conv_to_parq)(x))\n",
    "progress(dask.compute(y))"
   ]
  },
  {
   "cell_type": "markdown",
   "metadata": {},
   "source": [
    "Extract needed information from City Bike dataset first for January 2018"
   ]
  },
  {
   "cell_type": "code",
   "execution_count": 111,
   "metadata": {},
   "outputs": [],
   "source": [
    "with ProgressBar():\n",
    "    df = dd.read_parquet(f'gcs://nyc-taxi-data-2018-2019/bike_2018/citibike_2018-01.parquet', parse_dates = ['starttime', 'stoptime'], columns = ['starttime', 'stoptime','tripduration', 'start station id'])\n",
    "    df = df.set_index('starttime')\n",
    "    rng = f'2018-01'\n",
    "    df = df[rng:rng]\n",
    "    \n",
    "    # calculate hourly bike demand in whole NYC area\n",
    "    demand_hr = df['tripduration'].resample('h').count()\n",
    "    demand_hr = demand_hr.rename(\"demand\")\n",
    "    \n",
    "    # calculate hourly average bike trip distance\n",
    "    duration_avg = df['tripduration'].resample('h').mean()\n",
    "    \n",
    "    # merge dataframes\n",
    "    df_2 = dd.concat([demand_hr, duration_avg], axis=1)\n",
    "    df_2 = df_2.compute()\n",
    "    \n",
    "    #save to parquet\n",
    "    df_2.to_parquet(f'gcs://nyc-taxi-data-2018-2019/bike_2018_hr/citibike_2018-01.parquet', engine = 'pyarrow')"
   ]
  },
  {
   "cell_type": "markdown",
   "metadata": {},
   "source": [
    "Repeat for all months in 2018"
   ]
  },
  {
   "cell_type": "code",
   "execution_count": 115,
   "metadata": {},
   "outputs": [],
   "source": [
    "def create_hr_parq(month):\n",
    "    df = dd.read_parquet(f'gcs://nyc-taxi-data-2018-2019/bike_2018/citibike_2018-{month}.parquet', parse_dates = ['starttime', 'stoptime'], columns = ['starttime', 'stoptime','tripduration', 'start station id'])\n",
    "    df = df.set_index('starttime')\n",
    "    rng = f'2018-{month}'\n",
    "    df = df[rng:rng]\n",
    "    demand_hr = df['tripduration'].resample('h').count()\n",
    "    demand_hr = demand_hr.rename(\"demand\")\n",
    "    duration_avg = df['tripduration'].resample('h').mean()\n",
    "    df_2 = dd.concat([demand_hr, duration_avg], axis=1)\n",
    "    df_2 = df_2.compute()\n",
    "    df_2.to_parquet(f'gcs://nyc-taxi-data-2018-2019/bike_2018_hr/citibike_2018-{month}.parquet', engine = 'pyarrow')"
   ]
  },
  {
   "cell_type": "code",
   "execution_count": 116,
   "metadata": {},
   "outputs": [
    {
     "data": {
      "application/vnd.jupyter.widget-view+json": {
       "model_id": "d96208a0c8c5470dace142542d2f4d6b",
       "version_major": 2,
       "version_minor": 0
      },
      "text/plain": [
       "HBox(children=(IntProgress(value=0, max=11), HTML(value='')))"
      ]
     },
     "metadata": {},
     "output_type": "display_data"
    },
    {
     "name": "stdout",
     "output_type": "stream",
     "text": [
      "\n"
     ]
    }
   ],
   "source": [
    "for month in tqdm_notebook(['02','03','04', '05', '06', '07', '08', '09', '10', '11', '12']):\n",
    "    create_hr_parq(month)"
   ]
  },
  {
   "cell_type": "markdown",
   "metadata": {},
   "source": [
    "#### City Bike data exploration"
   ]
  },
  {
   "cell_type": "markdown",
   "metadata": {},
   "source": [
    "Average trip distance"
   ]
  },
  {
   "cell_type": "code",
   "execution_count": 126,
   "metadata": {},
   "outputs": [
    {
     "data": {
      "text/plain": [
       "<matplotlib.axes._subplots.AxesSubplot at 0x7faa6b1ede48>"
      ]
     },
     "execution_count": 126,
     "metadata": {},
     "output_type": "execute_result"
    },
    {
     "data": {
      "image/png": "[encoded data removed]",
      "text/plain": [
       "<Figure size 432x288 with 1 Axes>"
      ]
     },
     "metadata": {
      "needs_background": "light"
     },
     "output_type": "display_data"
    }
   ],
   "source": [
    "df_2[df_2.tripduration < 1000].tripduration.hist()"
   ]
  },
  {
   "cell_type": "markdown",
   "metadata": {},
   "source": [
    "Average hourly and weekday bike demand"
   ]
  },
  {
   "cell_type": "code",
   "execution_count": 131,
   "metadata": {},
   "outputs": [
    {
     "data": {
      "text/plain": [
       "<matplotlib.axes._subplots.AxesSubplot at 0x7faa7d69cd68>"
      ]
     },
     "execution_count": 131,
     "metadata": {},
     "output_type": "execute_result"
    },
    {
     "data": {
      "image/png": "[encoded data removed]",
      "text/plain": [
       "<Figure size 432x288 with 1 Axes>"
      ]
     },
     "metadata": {
      "needs_background": "light"
     },
     "output_type": "display_data"
    }
   ],
   "source": [
    "df_2[['demand']].groupby([df_2.index.hour,df_2.index.weekday]).mean().unstack().plot()"
   ]
  },
  {
   "cell_type": "markdown",
   "metadata": {},
   "source": [
    "Average trip duration time"
   ]
  },
  {
   "cell_type": "code",
   "execution_count": 136,
   "metadata": {},
   "outputs": [
    {
     "data": {
      "text/plain": [
       "<matplotlib.axes._subplots.AxesSubplot at 0x7faa68d72860>"
      ]
     },
     "execution_count": 136,
     "metadata": {},
     "output_type": "execute_result"
    },
    {
     "data": {
      "image/png": "[encoded data removed]",
      "text/plain": [
       "<Figure size 432x288 with 1 Axes>"
      ]
     },
     "metadata": {
      "needs_background": "light"
     },
     "output_type": "display_data"
    }
   ],
   "source": [
    "df_2[df_2.tripduration < 2000][['tripduration']].groupby([df_2[df_2.tripduration < 2000].index.hour,df_2[df_2.tripduration < 2000].index.weekday]).mean().unstack().plot()"
   ]
  },
  {
   "cell_type": "markdown",
   "metadata": {},
   "source": [
    "#### Combine all months to one file"
   ]
  },
  {
   "cell_type": "code",
   "execution_count": 137,
   "metadata": {},
   "outputs": [
    {
     "data": {
      "text/plain": [
       "['gcs://nyc-taxi-data-2018-2019/bike_2018_hr/citibike_2018-01.parquet',\n",
       " 'gcs://nyc-taxi-data-2018-2019/bike_2018_hr/citibike_2018-02.parquet',\n",
       " 'gcs://nyc-taxi-data-2018-2019/bike_2018_hr/citibike_2018-03.parquet',\n",
       " 'gcs://nyc-taxi-data-2018-2019/bike_2018_hr/citibike_2018-04.parquet',\n",
       " 'gcs://nyc-taxi-data-2018-2019/bike_2018_hr/citibike_2018-05.parquet',\n",
       " 'gcs://nyc-taxi-data-2018-2019/bike_2018_hr/citibike_2018-06.parquet',\n",
       " 'gcs://nyc-taxi-data-2018-2019/bike_2018_hr/citibike_2018-07.parquet',\n",
       " 'gcs://nyc-taxi-data-2018-2019/bike_2018_hr/citibike_2018-08.parquet',\n",
       " 'gcs://nyc-taxi-data-2018-2019/bike_2018_hr/citibike_2018-09.parquet',\n",
       " 'gcs://nyc-taxi-data-2018-2019/bike_2018_hr/citibike_2018-10.parquet',\n",
       " 'gcs://nyc-taxi-data-2018-2019/bike_2018_hr/citibike_2018-11.parquet',\n",
       " 'gcs://nyc-taxi-data-2018-2019/bike_2018_hr/citibike_2018-12.parquet']"
      ]
     },
     "execution_count": 137,
     "metadata": {},
     "output_type": "execute_result"
    }
   ],
   "source": [
    "filelist = gcs.glob('nyc-taxi-data-2018-2019/bike_2018_hr/*.parquet/')\n",
    "filelist_gcs = ['gcs://' + x for x in filelist]\n",
    "filelist_gcs"
   ]
  },
  {
   "cell_type": "code",
   "execution_count": 138,
   "metadata": {},
   "outputs": [
    {
     "name": "stdout",
     "output_type": "stream",
     "text": [
      "CPU times: user 144 ms, sys: 8 ms, total: 152 ms\n",
      "Wall time: 984 ms\n"
     ]
    }
   ],
   "source": [
    "%time bike_hr_2018 = dd.read_parquet(filelist_gcs)"
   ]
  },
  {
   "cell_type": "code",
   "execution_count": 153,
   "metadata": {},
   "outputs": [],
   "source": [
    "bike_hr_2018.compute().to_csv('gcs://nyc-taxi-data-2018-2019/bike_hr_features_2018.csv', index = False)"
   ]
  },
  {
   "cell_type": "code",
   "execution_count": 158,
   "metadata": {},
   "outputs": [],
   "source": [
    "bike_hr_2018.index = bike_hr_2018.index.rename('DATE')"
   ]
  },
  {
   "cell_type": "code",
   "execution_count": 162,
   "metadata": {},
   "outputs": [
    {
     "data": {
      "text/html": [
       "<div><strong>Dask DataFrame Structure:</strong></div>\n",
       "<div>\n",
       "<style scoped>\n",
       "    .dataframe tbody tr th:only-of-type {\n",
       "        vertical-align: middle;\n",
       "    }\n",
       "\n",
       "    .dataframe tbody tr th {\n",
       "        vertical-align: top;\n",
       "    }\n",
       "\n",
       "    .dataframe thead th {\n",
       "        text-align: right;\n",
       "    }\n",
       "</style>\n",
       "<table border=\"1\" class=\"dataframe\">\n",
       "  <thead>\n",
       "    <tr style=\"text-align: right;\">\n",
       "      <th></th>\n",
       "      <th>DATE</th>\n",
       "      <th>demand</th>\n",
       "      <th>tripduration</th>\n",
       "    </tr>\n",
       "    <tr>\n",
       "      <th>npartitions=12</th>\n",
       "      <th></th>\n",
       "      <th></th>\n",
       "      <th></th>\n",
       "    </tr>\n",
       "  </thead>\n",
       "  <tbody>\n",
       "    <tr>\n",
       "      <th></th>\n",
       "      <td>datetime64[ns]</td>\n",
       "      <td>int64</td>\n",
       "      <td>float64</td>\n",
       "    </tr>\n",
       "    <tr>\n",
       "      <th></th>\n",
       "      <td>...</td>\n",
       "      <td>...</td>\n",
       "      <td>...</td>\n",
       "    </tr>\n",
       "    <tr>\n",
       "      <th>...</th>\n",
       "      <td>...</td>\n",
       "      <td>...</td>\n",
       "      <td>...</td>\n",
       "    </tr>\n",
       "    <tr>\n",
       "      <th></th>\n",
       "      <td>...</td>\n",
       "      <td>...</td>\n",
       "      <td>...</td>\n",
       "    </tr>\n",
       "    <tr>\n",
       "      <th></th>\n",
       "      <td>...</td>\n",
       "      <td>...</td>\n",
       "      <td>...</td>\n",
       "    </tr>\n",
       "  </tbody>\n",
       "</table>\n",
       "</div>\n",
       "<div>Dask Name: reset_index, 60 tasks</div>"
      ],
      "text/plain": [
       "Dask DataFrame Structure:\n",
       "                          DATE demand tripduration\n",
       "npartitions=12                                    \n",
       "                datetime64[ns]  int64      float64\n",
       "                           ...    ...          ...\n",
       "...                        ...    ...          ...\n",
       "                           ...    ...          ...\n",
       "                           ...    ...          ...\n",
       "Dask Name: reset_index, 60 tasks"
      ]
     },
     "execution_count": 162,
     "metadata": {},
     "output_type": "execute_result"
    }
   ],
   "source": [
    "bike_hr_2018.reset_index()"
   ]
  },
  {
   "cell_type": "markdown",
   "metadata": {},
   "source": [
    "#### Join exogenous varaible table on date"
   ]
  },
  {
   "cell_type": "code",
   "execution_count": 164,
   "metadata": {},
   "outputs": [],
   "source": [
    "joined_bike_2018 = joined_2018.join(bike_hr_2018.compute(), on='DATE')"
   ]
  },
  {
   "cell_type": "code",
   "execution_count": 173,
   "metadata": {},
   "outputs": [
    {
     "name": "stdout",
     "output_type": "stream",
     "text": [
      "<class 'pandas.core.frame.DataFrame'>\n",
      "RangeIndex: 8760 entries, 0 to 8759\n",
      "Data columns (total 17 columns):\n",
      "DATE            8760 non-null datetime64[ns]\n",
      "weekday         8760 non-null object\n",
      "month           8760 non-null object\n",
      "weekend         8760 non-null int64\n",
      "since_2018      8760 non-null int64\n",
      "AWND            8760 non-null float64\n",
      "PRCP            8760 non-null float64\n",
      "SNOW            8760 non-null float64\n",
      "SNWD            8760 non-null float64\n",
      "TAVG            8760 non-null float64\n",
      "TMAX            8760 non-null float64\n",
      "TMIN            8760 non-null float64\n",
      "WDF2            8760 non-null float64\n",
      "WSF2            8760 non-null float64\n",
      "WT01            8760 non-null float64\n",
      "demand          8760 non-null int64\n",
      "tripduration    8743 non-null float64\n",
      "dtypes: datetime64[ns](1), float64(11), int64(3), object(2)\n",
      "memory usage: 1.1+ MB\n"
     ]
    }
   ],
   "source": [
    "joined_bike_2018.info()"
   ]
  },
  {
   "cell_type": "code",
   "execution_count": 178,
   "metadata": {},
   "outputs": [],
   "source": [
    "joined_bike_2018 = joined_bike_2018.fillna(0)"
   ]
  },
  {
   "cell_type": "code",
   "execution_count": 179,
   "metadata": {},
   "outputs": [
    {
     "data": {
      "text/html": [
       "<div>\n",
       "<style scoped>\n",
       "    .dataframe tbody tr th:only-of-type {\n",
       "        vertical-align: middle;\n",
       "    }\n",
       "\n",
       "    .dataframe tbody tr th {\n",
       "        vertical-align: top;\n",
       "    }\n",
       "\n",
       "    .dataframe thead th {\n",
       "        text-align: right;\n",
       "    }\n",
       "</style>\n",
       "<table border=\"1\" class=\"dataframe\">\n",
       "  <thead>\n",
       "    <tr style=\"text-align: right;\">\n",
       "      <th></th>\n",
       "      <th>DATE</th>\n",
       "      <th>weekday</th>\n",
       "      <th>month</th>\n",
       "      <th>weekend</th>\n",
       "      <th>since_2018</th>\n",
       "      <th>AWND</th>\n",
       "      <th>PRCP</th>\n",
       "      <th>SNOW</th>\n",
       "      <th>SNWD</th>\n",
       "      <th>TAVG</th>\n",
       "      <th>TMAX</th>\n",
       "      <th>TMIN</th>\n",
       "      <th>WDF2</th>\n",
       "      <th>WSF2</th>\n",
       "      <th>WT01</th>\n",
       "      <th>demand</th>\n",
       "      <th>tripduration</th>\n",
       "    </tr>\n",
       "  </thead>\n",
       "  <tbody>\n",
       "    <tr>\n",
       "      <th>0</th>\n",
       "      <td>2018-01-01 00:00:00</td>\n",
       "      <td>Monday</td>\n",
       "      <td>January</td>\n",
       "      <td>0</td>\n",
       "      <td>0</td>\n",
       "      <td>17.67</td>\n",
       "      <td>0.0</td>\n",
       "      <td>0.0</td>\n",
       "      <td>0.0</td>\n",
       "      <td>12.0</td>\n",
       "      <td>18.0</td>\n",
       "      <td>7.0</td>\n",
       "      <td>310.0</td>\n",
       "      <td>29.1</td>\n",
       "      <td>0.0</td>\n",
       "      <td>119</td>\n",
       "      <td>704.831933</td>\n",
       "    </tr>\n",
       "    <tr>\n",
       "      <th>1</th>\n",
       "      <td>2018-01-01 01:00:00</td>\n",
       "      <td>Monday</td>\n",
       "      <td>January</td>\n",
       "      <td>0</td>\n",
       "      <td>0</td>\n",
       "      <td>17.67</td>\n",
       "      <td>0.0</td>\n",
       "      <td>0.0</td>\n",
       "      <td>0.0</td>\n",
       "      <td>12.0</td>\n",
       "      <td>18.0</td>\n",
       "      <td>7.0</td>\n",
       "      <td>310.0</td>\n",
       "      <td>29.1</td>\n",
       "      <td>0.0</td>\n",
       "      <td>168</td>\n",
       "      <td>1298.660714</td>\n",
       "    </tr>\n",
       "    <tr>\n",
       "      <th>2</th>\n",
       "      <td>2018-01-01 02:00:00</td>\n",
       "      <td>Monday</td>\n",
       "      <td>January</td>\n",
       "      <td>0</td>\n",
       "      <td>0</td>\n",
       "      <td>17.67</td>\n",
       "      <td>0.0</td>\n",
       "      <td>0.0</td>\n",
       "      <td>0.0</td>\n",
       "      <td>12.0</td>\n",
       "      <td>18.0</td>\n",
       "      <td>7.0</td>\n",
       "      <td>310.0</td>\n",
       "      <td>29.1</td>\n",
       "      <td>0.0</td>\n",
       "      <td>98</td>\n",
       "      <td>539.020408</td>\n",
       "    </tr>\n",
       "    <tr>\n",
       "      <th>3</th>\n",
       "      <td>2018-01-01 03:00:00</td>\n",
       "      <td>Monday</td>\n",
       "      <td>January</td>\n",
       "      <td>0</td>\n",
       "      <td>0</td>\n",
       "      <td>17.67</td>\n",
       "      <td>0.0</td>\n",
       "      <td>0.0</td>\n",
       "      <td>0.0</td>\n",
       "      <td>12.0</td>\n",
       "      <td>18.0</td>\n",
       "      <td>7.0</td>\n",
       "      <td>310.0</td>\n",
       "      <td>29.1</td>\n",
       "      <td>0.0</td>\n",
       "      <td>72</td>\n",
       "      <td>647.138889</td>\n",
       "    </tr>\n",
       "    <tr>\n",
       "      <th>4</th>\n",
       "      <td>2018-01-01 04:00:00</td>\n",
       "      <td>Monday</td>\n",
       "      <td>January</td>\n",
       "      <td>0</td>\n",
       "      <td>0</td>\n",
       "      <td>17.67</td>\n",
       "      <td>0.0</td>\n",
       "      <td>0.0</td>\n",
       "      <td>0.0</td>\n",
       "      <td>12.0</td>\n",
       "      <td>18.0</td>\n",
       "      <td>7.0</td>\n",
       "      <td>310.0</td>\n",
       "      <td>29.1</td>\n",
       "      <td>0.0</td>\n",
       "      <td>34</td>\n",
       "      <td>502.205882</td>\n",
       "    </tr>\n",
       "  </tbody>\n",
       "</table>\n",
       "</div>"
      ],
      "text/plain": [
       "                 DATE weekday    month  weekend  since_2018   AWND  PRCP  \\\n",
       "0 2018-01-01 00:00:00  Monday  January        0           0  17.67   0.0   \n",
       "1 2018-01-01 01:00:00  Monday  January        0           0  17.67   0.0   \n",
       "2 2018-01-01 02:00:00  Monday  January        0           0  17.67   0.0   \n",
       "3 2018-01-01 03:00:00  Monday  January        0           0  17.67   0.0   \n",
       "4 2018-01-01 04:00:00  Monday  January        0           0  17.67   0.0   \n",
       "\n",
       "   SNOW  SNWD  TAVG  TMAX  TMIN   WDF2  WSF2  WT01  demand  tripduration  \n",
       "0   0.0   0.0  12.0  18.0   7.0  310.0  29.1   0.0     119    704.831933  \n",
       "1   0.0   0.0  12.0  18.0   7.0  310.0  29.1   0.0     168   1298.660714  \n",
       "2   0.0   0.0  12.0  18.0   7.0  310.0  29.1   0.0      98    539.020408  \n",
       "3   0.0   0.0  12.0  18.0   7.0  310.0  29.1   0.0      72    647.138889  \n",
       "4   0.0   0.0  12.0  18.0   7.0  310.0  29.1   0.0      34    502.205882  "
      ]
     },
     "execution_count": 179,
     "metadata": {},
     "output_type": "execute_result"
    }
   ],
   "source": [
    "joined_bike_2018.head()"
   ]
  },
  {
   "cell_type": "code",
   "execution_count": 180,
   "metadata": {},
   "outputs": [],
   "source": [
    "joined_bike_2018.to_csv('gcs://nyc-taxi-data-2018-2019/date_weather_bike_hr_features_2018.csv', index = False)"
   ]
  }
 ],
 "metadata": {
  "kernelspec": {
   "display_name": "Python 3",
   "language": "python",
   "name": "python3"
  },
  "language_info": {
   "codemirror_mode": {
    "name": "ipython",
    "version": 3
   },
   "file_extension": ".py",
   "mimetype": "text/x-python",
   "name": "python",
   "nbconvert_exporter": "python",
   "pygments_lexer": "ipython3",
   "version": "3.7.3"
  }
 },
 "nbformat": 4,
 "nbformat_minor": 2
}
