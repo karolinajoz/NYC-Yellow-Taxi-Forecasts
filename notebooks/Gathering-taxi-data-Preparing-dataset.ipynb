{
 "cells": [
  {
   "cell_type": "markdown",
   "metadata": {},
   "source": [
    "## Importing libraries"
   ]
  },
  {
   "cell_type": "code",
   "execution_count": 46,
   "metadata": {},
   "outputs": [],
   "source": [
    "import pandas as pd\n",
    "import numpy as np\n",
    "import requests"
   ]
  },
  {
   "cell_type": "code",
   "execution_count": 2,
   "metadata": {},
   "outputs": [],
   "source": [
    "import gcsfs"
   ]
  },
  {
   "cell_type": "code",
   "execution_count": 12,
   "metadata": {},
   "outputs": [],
   "source": [
    "import time"
   ]
  },
  {
   "cell_type": "code",
   "execution_count": 154,
   "metadata": {},
   "outputs": [],
   "source": [
    "import glob"
   ]
  },
  {
   "cell_type": "code",
   "execution_count": 3,
   "metadata": {},
   "outputs": [],
   "source": [
    "import pyarrow"
   ]
  },
  {
   "cell_type": "code",
   "execution_count": 24,
   "metadata": {},
   "outputs": [],
   "source": [
    "from tqdm import tqdm_notebook"
   ]
  },
  {
   "cell_type": "code",
   "execution_count": 27,
   "metadata": {},
   "outputs": [],
   "source": [
    "import pyspark"
   ]
  },
  {
   "cell_type": "code",
   "execution_count": 5,
   "metadata": {},
   "outputs": [],
   "source": [
    "from dask.distributed import Client, progress, LocalCluster\n",
    "import dask"
   ]
  },
  {
   "cell_type": "code",
   "execution_count": 8,
   "metadata": {},
   "outputs": [],
   "source": [
    "import dask.dataframe as dd"
   ]
  },
  {
   "cell_type": "code",
   "execution_count": 130,
   "metadata": {},
   "outputs": [],
   "source": [
    "import matplotlib.pyplot as plt\n",
    "%matplotlib inline"
   ]
  },
  {
   "cell_type": "markdown",
   "metadata": {},
   "source": [
    "## Gathering data"
   ]
  },
  {
   "cell_type": "code",
   "execution_count": 3,
   "metadata": {},
   "outputs": [],
   "source": [
    "url = 'https://s3.amazonaws.com/nyc-tlc/trip+data/yellow_tripdata_2018-01.csv'"
   ]
  },
  {
   "cell_type": "code",
   "execution_count": 4,
   "metadata": {},
   "outputs": [
    {
     "data": {
      "text/html": [
       "<div>\n",
       "<style scoped>\n",
       "    .dataframe tbody tr th:only-of-type {\n",
       "        vertical-align: middle;\n",
       "    }\n",
       "\n",
       "    .dataframe tbody tr th {\n",
       "        vertical-align: top;\n",
       "    }\n",
       "\n",
       "    .dataframe thead th {\n",
       "        text-align: right;\n",
       "    }\n",
       "</style>\n",
       "<table border=\"1\" class=\"dataframe\">\n",
       "  <thead>\n",
       "    <tr style=\"text-align: right;\">\n",
       "      <th></th>\n",
       "      <th>VendorID</th>\n",
       "      <th>tpep_pickup_datetime</th>\n",
       "      <th>tpep_dropoff_datetime</th>\n",
       "      <th>passenger_count</th>\n",
       "      <th>trip_distance</th>\n",
       "      <th>RatecodeID</th>\n",
       "      <th>store_and_fwd_flag</th>\n",
       "      <th>PULocationID</th>\n",
       "      <th>DOLocationID</th>\n",
       "      <th>payment_type</th>\n",
       "      <th>fare_amount</th>\n",
       "      <th>extra</th>\n",
       "      <th>mta_tax</th>\n",
       "      <th>tip_amount</th>\n",
       "      <th>tolls_amount</th>\n",
       "      <th>improvement_surcharge</th>\n",
       "      <th>total_amount</th>\n",
       "    </tr>\n",
       "  </thead>\n",
       "  <tbody>\n",
       "    <tr>\n",
       "      <th>0</th>\n",
       "      <td>1</td>\n",
       "      <td>2018-01-01 00:21:05</td>\n",
       "      <td>2018-01-01 00:24:23</td>\n",
       "      <td>1</td>\n",
       "      <td>0.5</td>\n",
       "      <td>1</td>\n",
       "      <td>N</td>\n",
       "      <td>41</td>\n",
       "      <td>24</td>\n",
       "      <td>2</td>\n",
       "      <td>4.5</td>\n",
       "      <td>0.5</td>\n",
       "      <td>0.5</td>\n",
       "      <td>0.00</td>\n",
       "      <td>0.0</td>\n",
       "      <td>0.3</td>\n",
       "      <td>5.80</td>\n",
       "    </tr>\n",
       "    <tr>\n",
       "      <th>1</th>\n",
       "      <td>1</td>\n",
       "      <td>2018-01-01 00:44:55</td>\n",
       "      <td>2018-01-01 01:03:05</td>\n",
       "      <td>1</td>\n",
       "      <td>2.7</td>\n",
       "      <td>1</td>\n",
       "      <td>N</td>\n",
       "      <td>239</td>\n",
       "      <td>140</td>\n",
       "      <td>2</td>\n",
       "      <td>14.0</td>\n",
       "      <td>0.5</td>\n",
       "      <td>0.5</td>\n",
       "      <td>0.00</td>\n",
       "      <td>0.0</td>\n",
       "      <td>0.3</td>\n",
       "      <td>15.30</td>\n",
       "    </tr>\n",
       "    <tr>\n",
       "      <th>2</th>\n",
       "      <td>1</td>\n",
       "      <td>2018-01-01 00:08:26</td>\n",
       "      <td>2018-01-01 00:14:21</td>\n",
       "      <td>2</td>\n",
       "      <td>0.8</td>\n",
       "      <td>1</td>\n",
       "      <td>N</td>\n",
       "      <td>262</td>\n",
       "      <td>141</td>\n",
       "      <td>1</td>\n",
       "      <td>6.0</td>\n",
       "      <td>0.5</td>\n",
       "      <td>0.5</td>\n",
       "      <td>1.00</td>\n",
       "      <td>0.0</td>\n",
       "      <td>0.3</td>\n",
       "      <td>8.30</td>\n",
       "    </tr>\n",
       "    <tr>\n",
       "      <th>3</th>\n",
       "      <td>1</td>\n",
       "      <td>2018-01-01 00:20:22</td>\n",
       "      <td>2018-01-01 00:52:51</td>\n",
       "      <td>1</td>\n",
       "      <td>10.2</td>\n",
       "      <td>1</td>\n",
       "      <td>N</td>\n",
       "      <td>140</td>\n",
       "      <td>257</td>\n",
       "      <td>2</td>\n",
       "      <td>33.5</td>\n",
       "      <td>0.5</td>\n",
       "      <td>0.5</td>\n",
       "      <td>0.00</td>\n",
       "      <td>0.0</td>\n",
       "      <td>0.3</td>\n",
       "      <td>34.80</td>\n",
       "    </tr>\n",
       "    <tr>\n",
       "      <th>4</th>\n",
       "      <td>1</td>\n",
       "      <td>2018-01-01 00:09:18</td>\n",
       "      <td>2018-01-01 00:27:06</td>\n",
       "      <td>2</td>\n",
       "      <td>2.5</td>\n",
       "      <td>1</td>\n",
       "      <td>N</td>\n",
       "      <td>246</td>\n",
       "      <td>239</td>\n",
       "      <td>1</td>\n",
       "      <td>12.5</td>\n",
       "      <td>0.5</td>\n",
       "      <td>0.5</td>\n",
       "      <td>2.75</td>\n",
       "      <td>0.0</td>\n",
       "      <td>0.3</td>\n",
       "      <td>16.55</td>\n",
       "    </tr>\n",
       "  </tbody>\n",
       "</table>\n",
       "</div>"
      ],
      "text/plain": [
       "   VendorID tpep_pickup_datetime tpep_dropoff_datetime  passenger_count  \\\n",
       "0         1  2018-01-01 00:21:05   2018-01-01 00:24:23                1   \n",
       "1         1  2018-01-01 00:44:55   2018-01-01 01:03:05                1   \n",
       "2         1  2018-01-01 00:08:26   2018-01-01 00:14:21                2   \n",
       "3         1  2018-01-01 00:20:22   2018-01-01 00:52:51                1   \n",
       "4         1  2018-01-01 00:09:18   2018-01-01 00:27:06                2   \n",
       "\n",
       "   trip_distance  RatecodeID store_and_fwd_flag  PULocationID  DOLocationID  \\\n",
       "0            0.5           1                  N            41            24   \n",
       "1            2.7           1                  N           239           140   \n",
       "2            0.8           1                  N           262           141   \n",
       "3           10.2           1                  N           140           257   \n",
       "4            2.5           1                  N           246           239   \n",
       "\n",
       "   payment_type  fare_amount  extra  mta_tax  tip_amount  tolls_amount  \\\n",
       "0             2          4.5    0.5      0.5        0.00           0.0   \n",
       "1             2         14.0    0.5      0.5        0.00           0.0   \n",
       "2             1          6.0    0.5      0.5        1.00           0.0   \n",
       "3             2         33.5    0.5      0.5        0.00           0.0   \n",
       "4             1         12.5    0.5      0.5        2.75           0.0   \n",
       "\n",
       "   improvement_surcharge  total_amount  \n",
       "0                    0.3          5.80  \n",
       "1                    0.3         15.30  \n",
       "2                    0.3          8.30  \n",
       "3                    0.3         34.80  \n",
       "4                    0.3         16.55  "
      ]
     },
     "execution_count": 4,
     "metadata": {},
     "output_type": "execute_result"
    }
   ],
   "source": [
    "first_df = pd.read_csv(url)\n",
    "first_df.head()"
   ]
  },
  {
   "cell_type": "code",
   "execution_count": 5,
   "metadata": {},
   "outputs": [
    {
     "name": "stdout",
     "output_type": "stream",
     "text": [
      "<class 'pandas.core.frame.DataFrame'>\n",
      "RangeIndex: 8759874 entries, 0 to 8759873\n",
      "Data columns (total 17 columns):\n",
      "VendorID                 int64\n",
      "tpep_pickup_datetime     object\n",
      "tpep_dropoff_datetime    object\n",
      "passenger_count          int64\n",
      "trip_distance            float64\n",
      "RatecodeID               int64\n",
      "store_and_fwd_flag       object\n",
      "PULocationID             int64\n",
      "DOLocationID             int64\n",
      "payment_type             int64\n",
      "fare_amount              float64\n",
      "extra                    float64\n",
      "mta_tax                  float64\n",
      "tip_amount               float64\n",
      "tolls_amount             float64\n",
      "improvement_surcharge    float64\n",
      "total_amount             float64\n",
      "dtypes: float64(8), int64(6), object(3)\n",
      "memory usage: 1.1+ GB\n"
     ]
    }
   ],
   "source": [
    "first_df.info()"
   ]
  },
  {
   "cell_type": "markdown",
   "metadata": {},
   "source": [
    "Save data for January 2018"
   ]
  },
  {
   "cell_type": "code",
   "execution_count": 10,
   "metadata": {},
   "outputs": [],
   "source": [
    "first_df.to_csv('gs://nyc-taxi-data-2018-2019/yellow_tripdata_2018-01.csv')"
   ]
  },
  {
   "cell_type": "markdown",
   "metadata": {},
   "source": [
    "#### Iterate through each month to gather yellow taxi data for whole 2018"
   ]
  },
  {
   "cell_type": "code",
   "execution_count": null,
   "metadata": {},
   "outputs": [
    {
     "name": "stderr",
     "output_type": "stream",
     "text": [
      "/opt/conda/anaconda/lib/python3.6/site-packages/ipykernel_launcher.py:3: TqdmDeprecationWarning: This function will be removed in tqdm==5.0.0\n",
      "Please use `tqdm.notebook.tqdm` instead of `tqdm.tqdm_notebook`\n",
      "  This is separate from the ipykernel package so we can avoid doing imports until\n"
     ]
    },
    {
     "data": {
      "application/vnd.jupyter.widget-view+json": {
       "model_id": "ef70eb7c64ae4fa28761efc635152bfc",
       "version_major": 2,
       "version_minor": 0
      },
      "text/plain": [
       "HBox(children=(IntProgress(value=0, max=9), HTML(value='')))"
      ]
     },
     "metadata": {},
     "output_type": "display_data"
    },
    {
     "name": "stdout",
     "output_type": "stream",
     "text": [
      "\n",
      "--- 1564.2293634414673 seconds ---\n"
     ]
    }
   ],
   "source": [
    "start_time = time.time()\n",
    "\n",
    "for i in tqdm_notebook(['02','03','04', '05', '06', '07', '08', '09', '10', '11', '12']):\n",
    "    url = f'https://s3.amazonaws.com/nyc-tlc/trip+data/yellow_tripdata_2018-{i}.csv'\n",
    "    df = pd.read_csv(url)\n",
    "    df.to_csv(f'gs://nyc-taxi-data-2018-2019/yellow_tripdata_2018-{i}.csv')\n",
    "\n",
    "print(\"--- %s seconds ---\" % (time.time() - start_time))"
   ]
  },
  {
   "cell_type": "markdown",
   "metadata": {},
   "source": [
    "#### Verification if everything works"
   ]
  },
  {
   "cell_type": "code",
   "execution_count": 37,
   "metadata": {},
   "outputs": [],
   "source": [
    "spark = pyspark.sql.SparkSession.builder.getOrCreate()\n",
    "sc = spark.sparkContext"
   ]
  },
  {
   "cell_type": "code",
   "execution_count": 11,
   "metadata": {},
   "outputs": [],
   "source": [
    "gs_path = 'gs://nyc-taxi-data-2018-2019'"
   ]
  },
  {
   "cell_type": "code",
   "execution_count": 43,
   "metadata": {},
   "outputs": [],
   "source": [
    "months = ['01','02', '03','04', '05', '06', '07', '08', '09', '10', '11', '12']\n",
    "full_2018 = [gs_path + f'/yellow_tripdata_2018-{i}.csv' for i in months]"
   ]
  },
  {
   "cell_type": "code",
   "execution_count": 44,
   "metadata": {},
   "outputs": [
    {
     "data": {
      "text/plain": [
       "['gs://nyc-taxi-data-2018-2019/yellow_tripdata_2018-01.csv',\n",
       " 'gs://nyc-taxi-data-2018-2019/yellow_tripdata_2018-02.csv',\n",
       " 'gs://nyc-taxi-data-2018-2019/yellow_tripdata_2018-03.csv',\n",
       " 'gs://nyc-taxi-data-2018-2019/yellow_tripdata_2018-04.csv',\n",
       " 'gs://nyc-taxi-data-2018-2019/yellow_tripdata_2018-05.csv',\n",
       " 'gs://nyc-taxi-data-2018-2019/yellow_tripdata_2018-06.csv',\n",
       " 'gs://nyc-taxi-data-2018-2019/yellow_tripdata_2018-07.csv',\n",
       " 'gs://nyc-taxi-data-2018-2019/yellow_tripdata_2018-08.csv',\n",
       " 'gs://nyc-taxi-data-2018-2019/yellow_tripdata_2018-09.csv',\n",
       " 'gs://nyc-taxi-data-2018-2019/yellow_tripdata_2018-10.csv',\n",
       " 'gs://nyc-taxi-data-2018-2019/yellow_tripdata_2018-11.csv',\n",
       " 'gs://nyc-taxi-data-2018-2019/yellow_tripdata_2018-12.csv']"
      ]
     },
     "execution_count": 44,
     "metadata": {},
     "output_type": "execute_result"
    }
   ],
   "source": [
    "full_2018"
   ]
  },
  {
   "cell_type": "code",
   "execution_count": 45,
   "metadata": {},
   "outputs": [],
   "source": [
    "df_2018 = spark.read.csv(full_2018[0], header=True)\n",
    "for f in full_2018[1:]:\n",
    "    temp_df = spark.read.csv(f, header=True)\n",
    "    df_2018 = df_2018.union(temp_df)"
   ]
  },
  {
   "cell_type": "code",
   "execution_count": 47,
   "metadata": {},
   "outputs": [],
   "source": [
    "def show(df, n=5):\n",
    "    return df.limit(n).toPandas()"
   ]
  },
  {
   "cell_type": "code",
   "execution_count": 51,
   "metadata": {},
   "outputs": [
    {
     "data": {
      "text/plain": [
       "102804250"
      ]
     },
     "execution_count": 51,
     "metadata": {},
     "output_type": "execute_result"
    }
   ],
   "source": [
    "df_2018.count()"
   ]
  },
  {
   "cell_type": "code",
   "execution_count": 52,
   "metadata": {},
   "outputs": [
    {
     "data": {
      "text/html": [
       "<div>\n",
       "<style scoped>\n",
       "    .dataframe tbody tr th:only-of-type {\n",
       "        vertical-align: middle;\n",
       "    }\n",
       "\n",
       "    .dataframe tbody tr th {\n",
       "        vertical-align: top;\n",
       "    }\n",
       "\n",
       "    .dataframe thead th {\n",
       "        text-align: right;\n",
       "    }\n",
       "</style>\n",
       "<table border=\"1\" class=\"dataframe\">\n",
       "  <thead>\n",
       "    <tr style=\"text-align: right;\">\n",
       "      <th></th>\n",
       "      <th>_c0</th>\n",
       "      <th>VendorID</th>\n",
       "      <th>tpep_pickup_datetime</th>\n",
       "      <th>tpep_dropoff_datetime</th>\n",
       "      <th>passenger_count</th>\n",
       "      <th>trip_distance</th>\n",
       "      <th>RatecodeID</th>\n",
       "      <th>store_and_fwd_flag</th>\n",
       "      <th>PULocationID</th>\n",
       "      <th>DOLocationID</th>\n",
       "      <th>payment_type</th>\n",
       "      <th>fare_amount</th>\n",
       "      <th>extra</th>\n",
       "      <th>mta_tax</th>\n",
       "      <th>tip_amount</th>\n",
       "      <th>tolls_amount</th>\n",
       "      <th>improvement_surcharge</th>\n",
       "      <th>total_amount</th>\n",
       "    </tr>\n",
       "  </thead>\n",
       "  <tbody>\n",
       "    <tr>\n",
       "      <th>0</th>\n",
       "      <td>0</td>\n",
       "      <td>1</td>\n",
       "      <td>2018-01-01 00:21:05</td>\n",
       "      <td>2018-01-01 00:24:23</td>\n",
       "      <td>1</td>\n",
       "      <td>0.5</td>\n",
       "      <td>1</td>\n",
       "      <td>N</td>\n",
       "      <td>41</td>\n",
       "      <td>24</td>\n",
       "      <td>2</td>\n",
       "      <td>4.5</td>\n",
       "      <td>0.5</td>\n",
       "      <td>0.5</td>\n",
       "      <td>0.0</td>\n",
       "      <td>0.0</td>\n",
       "      <td>0.3</td>\n",
       "      <td>5.8</td>\n",
       "    </tr>\n",
       "    <tr>\n",
       "      <th>1</th>\n",
       "      <td>1</td>\n",
       "      <td>1</td>\n",
       "      <td>2018-01-01 00:44:55</td>\n",
       "      <td>2018-01-01 01:03:05</td>\n",
       "      <td>1</td>\n",
       "      <td>2.7</td>\n",
       "      <td>1</td>\n",
       "      <td>N</td>\n",
       "      <td>239</td>\n",
       "      <td>140</td>\n",
       "      <td>2</td>\n",
       "      <td>14.0</td>\n",
       "      <td>0.5</td>\n",
       "      <td>0.5</td>\n",
       "      <td>0.0</td>\n",
       "      <td>0.0</td>\n",
       "      <td>0.3</td>\n",
       "      <td>15.3</td>\n",
       "    </tr>\n",
       "    <tr>\n",
       "      <th>2</th>\n",
       "      <td>2</td>\n",
       "      <td>1</td>\n",
       "      <td>2018-01-01 00:08:26</td>\n",
       "      <td>2018-01-01 00:14:21</td>\n",
       "      <td>2</td>\n",
       "      <td>0.8</td>\n",
       "      <td>1</td>\n",
       "      <td>N</td>\n",
       "      <td>262</td>\n",
       "      <td>141</td>\n",
       "      <td>1</td>\n",
       "      <td>6.0</td>\n",
       "      <td>0.5</td>\n",
       "      <td>0.5</td>\n",
       "      <td>1.0</td>\n",
       "      <td>0.0</td>\n",
       "      <td>0.3</td>\n",
       "      <td>8.3</td>\n",
       "    </tr>\n",
       "    <tr>\n",
       "      <th>3</th>\n",
       "      <td>3</td>\n",
       "      <td>1</td>\n",
       "      <td>2018-01-01 00:20:22</td>\n",
       "      <td>2018-01-01 00:52:51</td>\n",
       "      <td>1</td>\n",
       "      <td>10.2</td>\n",
       "      <td>1</td>\n",
       "      <td>N</td>\n",
       "      <td>140</td>\n",
       "      <td>257</td>\n",
       "      <td>2</td>\n",
       "      <td>33.5</td>\n",
       "      <td>0.5</td>\n",
       "      <td>0.5</td>\n",
       "      <td>0.0</td>\n",
       "      <td>0.0</td>\n",
       "      <td>0.3</td>\n",
       "      <td>34.8</td>\n",
       "    </tr>\n",
       "    <tr>\n",
       "      <th>4</th>\n",
       "      <td>4</td>\n",
       "      <td>1</td>\n",
       "      <td>2018-01-01 00:09:18</td>\n",
       "      <td>2018-01-01 00:27:06</td>\n",
       "      <td>2</td>\n",
       "      <td>2.5</td>\n",
       "      <td>1</td>\n",
       "      <td>N</td>\n",
       "      <td>246</td>\n",
       "      <td>239</td>\n",
       "      <td>1</td>\n",
       "      <td>12.5</td>\n",
       "      <td>0.5</td>\n",
       "      <td>0.5</td>\n",
       "      <td>2.75</td>\n",
       "      <td>0.0</td>\n",
       "      <td>0.3</td>\n",
       "      <td>16.55</td>\n",
       "    </tr>\n",
       "  </tbody>\n",
       "</table>\n",
       "</div>"
      ],
      "text/plain": [
       "  _c0 VendorID tpep_pickup_datetime tpep_dropoff_datetime passenger_count  \\\n",
       "0   0        1  2018-01-01 00:21:05   2018-01-01 00:24:23               1   \n",
       "1   1        1  2018-01-01 00:44:55   2018-01-01 01:03:05               1   \n",
       "2   2        1  2018-01-01 00:08:26   2018-01-01 00:14:21               2   \n",
       "3   3        1  2018-01-01 00:20:22   2018-01-01 00:52:51               1   \n",
       "4   4        1  2018-01-01 00:09:18   2018-01-01 00:27:06               2   \n",
       "\n",
       "  trip_distance RatecodeID store_and_fwd_flag PULocationID DOLocationID  \\\n",
       "0           0.5          1                  N           41           24   \n",
       "1           2.7          1                  N          239          140   \n",
       "2           0.8          1                  N          262          141   \n",
       "3          10.2          1                  N          140          257   \n",
       "4           2.5          1                  N          246          239   \n",
       "\n",
       "  payment_type fare_amount extra mta_tax tip_amount tolls_amount  \\\n",
       "0            2         4.5   0.5     0.5        0.0          0.0   \n",
       "1            2        14.0   0.5     0.5        0.0          0.0   \n",
       "2            1         6.0   0.5     0.5        1.0          0.0   \n",
       "3            2        33.5   0.5     0.5        0.0          0.0   \n",
       "4            1        12.5   0.5     0.5       2.75          0.0   \n",
       "\n",
       "  improvement_surcharge total_amount  \n",
       "0                   0.3          5.8  \n",
       "1                   0.3         15.3  \n",
       "2                   0.3          8.3  \n",
       "3                   0.3         34.8  \n",
       "4                   0.3        16.55  "
      ]
     },
     "execution_count": 52,
     "metadata": {},
     "output_type": "execute_result"
    }
   ],
   "source": [
    "show(df_2018)"
   ]
  },
  {
   "cell_type": "code",
   "execution_count": 55,
   "metadata": {
    "scrolled": true
   },
   "outputs": [
    {
     "data": {
      "text/plain": [
       "[('_c0', 'string'),\n",
       " ('VendorID', 'string'),\n",
       " ('tpep_pickup_datetime', 'string'),\n",
       " ('tpep_dropoff_datetime', 'string'),\n",
       " ('passenger_count', 'string'),\n",
       " ('trip_distance', 'string'),\n",
       " ('RatecodeID', 'string'),\n",
       " ('store_and_fwd_flag', 'string'),\n",
       " ('PULocationID', 'string'),\n",
       " ('DOLocationID', 'string'),\n",
       " ('payment_type', 'string'),\n",
       " ('fare_amount', 'string'),\n",
       " ('extra', 'string'),\n",
       " ('mta_tax', 'string'),\n",
       " ('tip_amount', 'string'),\n",
       " ('tolls_amount', 'string'),\n",
       " ('improvement_surcharge', 'string'),\n",
       " ('total_amount', 'string')]"
      ]
     },
     "execution_count": 55,
     "metadata": {},
     "output_type": "execute_result"
    }
   ],
   "source": [
    "df_2018.dtypes"
   ]
  },
  {
   "cell_type": "markdown",
   "metadata": {},
   "source": [
    "## Preparing dataset for whole NYC"
   ]
  },
  {
   "cell_type": "markdown",
   "metadata": {},
   "source": [
    "### Picking columns for further use and converting everything to parquet files"
   ]
  },
  {
   "cell_type": "code",
   "execution_count": 24,
   "metadata": {},
   "outputs": [
    {
     "name": "stderr",
     "output_type": "stream",
     "text": [
      "/opt/conda/anaconda/lib/python3.6/site-packages/bokeh/themes/theme.py:94: YAMLLoadWarning: calling yaml.load() without Loader=... is deprecated, as the default Loader is unsafe. Please read https://msg.pyyaml.org/load for full details.\n",
      "  json = yaml.load(f)\n",
      "/opt/conda/anaconda/lib/python3.6/site-packages/distributed/dashboard/core.py:12: UserWarning: \n",
      "Dask needs bokeh >= 0.13.0 for the dashboard.\n",
      "Continuing without the dashboard.\n",
      "  \"\\nDask needs bokeh >= 0.13.0 for the dashboard.\"\n"
     ]
    }
   ],
   "source": [
    "cluster = LocalCluster(processes=True, n_workers=4)\n",
    "client = Client(cluster)"
   ]
  },
  {
   "cell_type": "code",
   "execution_count": 6,
   "metadata": {
    "scrolled": true
   },
   "outputs": [
    {
     "data": {
      "text/plain": [
       "'2.8.0'"
      ]
     },
     "execution_count": 6,
     "metadata": {},
     "output_type": "execute_result"
    }
   ],
   "source": [
    "dask.__version__"
   ]
  },
  {
   "cell_type": "markdown",
   "metadata": {},
   "source": [
    "#### Converting to parquet to increase speed of operations"
   ]
  },
  {
   "cell_type": "code",
   "execution_count": 12,
   "metadata": {},
   "outputs": [],
   "source": [
    "def conv_to_parq(i):\n",
    "    df = dd.read_csv(f'gcs://nyc-taxi-data-2018-2019/yellow_tripdata_2018-{i}.csv', parse_dates=['tpep_pickup_datetime', 'tpep_dropoff_datetime'])\n",
    "    df['store_and_fwd_flag'] = df.store_and_fwd_flag.apply(lambda x: 1 if x == \"Y\" else 0)\n",
    "    df.to_parquet(f'gcs://nyc-taxi-data-2018-2019/yellow_tripdata_2018/yellow_tripdata_2018-{i}.parquet', engine = 'pyarrow')"
   ]
  },
  {
   "cell_type": "code",
   "execution_count": null,
   "metadata": {
    "scrolled": true
   },
   "outputs": [
    {
     "name": "stderr",
     "output_type": "stream",
     "text": [
      "/opt/conda/anaconda/lib/python3.6/site-packages/ipykernel_launcher.py:3: TqdmDeprecationWarning: This function will be removed in tqdm==5.0.0\n",
      "Please use `tqdm.notebook.tqdm` instead of `tqdm.tqdm_notebook`\n",
      "  This is separate from the ipykernel package so we can avoid doing imports until\n"
     ]
    },
    {
     "data": {
      "application/vnd.jupyter.widget-view+json": {
       "model_id": "12735e93f4564bc6a21f5635e8087854",
       "version_major": 2,
       "version_minor": 0
      },
      "text/plain": [
       "HBox(children=(IntProgress(value=0, max=10), HTML(value='')))"
      ]
     },
     "metadata": {},
     "output_type": "display_data"
    },
    {
     "name": "stdout",
     "output_type": "stream",
     "text": [
      "\n"
     ]
    },
    {
     "data": {
      "text/plain": [
       "([None, None, None, None, None, None, None, None, None, None],)"
      ]
     },
     "execution_count": 15,
     "metadata": {},
     "output_type": "execute_result"
    }
   ],
   "source": [
    "y = []\n",
    "for x in tqdm_notebook(['01','02','03','04', '05', '06', '07', '08', '09', '10', '11', '12']):\n",
    "    y.append(dask.delayed(conv_to_parq)(x))\n",
    "dask.compute(y)"
   ]
  },
  {
   "cell_type": "code",
   "execution_count": 24,
   "metadata": {},
   "outputs": [],
   "source": [
    "gcs = gcsfs.GCSFileSystem()\n",
    "filelist = gcs.glob('nyc-taxi-data-2018-2019/yellow_tripdata_2018/*/*.parquet/')\n",
    "filelist_gcs = ['gcs://' + x for x in filelist]"
   ]
  },
  {
   "cell_type": "code",
   "execution_count": 26,
   "metadata": {},
   "outputs": [
    {
     "name": "stdout",
     "output_type": "stream",
     "text": [
      "CPU times: user 2.24 s, sys: 184 ms, total: 2.42 s\n",
      "Wall time: 18.9 s\n"
     ]
    }
   ],
   "source": [
    "%time data_2018 = dd.read_parquet(filelist_gcs)"
   ]
  },
  {
   "cell_type": "code",
   "execution_count": 29,
   "metadata": {},
   "outputs": [
    {
     "data": {
      "text/plain": [
       "102804250"
      ]
     },
     "execution_count": 29,
     "metadata": {},
     "output_type": "execute_result"
    }
   ],
   "source": [
    "len(data_2018)"
   ]
  },
  {
   "cell_type": "code",
   "execution_count": 30,
   "metadata": {
    "scrolled": true
   },
   "outputs": [
    {
     "data": {
      "text/html": [
       "<div>\n",
       "<style scoped>\n",
       "    .dataframe tbody tr th:only-of-type {\n",
       "        vertical-align: middle;\n",
       "    }\n",
       "\n",
       "    .dataframe tbody tr th {\n",
       "        vertical-align: top;\n",
       "    }\n",
       "\n",
       "    .dataframe thead th {\n",
       "        text-align: right;\n",
       "    }\n",
       "</style>\n",
       "<table border=\"1\" class=\"dataframe\">\n",
       "  <thead>\n",
       "    <tr style=\"text-align: right;\">\n",
       "      <th></th>\n",
       "      <th>Unnamed: 0</th>\n",
       "      <th>VendorID</th>\n",
       "      <th>tpep_pickup_datetime</th>\n",
       "      <th>tpep_dropoff_datetime</th>\n",
       "      <th>passenger_count</th>\n",
       "      <th>trip_distance</th>\n",
       "      <th>RatecodeID</th>\n",
       "      <th>store_and_fwd_flag</th>\n",
       "      <th>PULocationID</th>\n",
       "      <th>DOLocationID</th>\n",
       "      <th>payment_type</th>\n",
       "      <th>fare_amount</th>\n",
       "      <th>extra</th>\n",
       "      <th>mta_tax</th>\n",
       "      <th>tip_amount</th>\n",
       "      <th>tolls_amount</th>\n",
       "      <th>improvement_surcharge</th>\n",
       "      <th>total_amount</th>\n",
       "    </tr>\n",
       "    <tr>\n",
       "      <th>index</th>\n",
       "      <th></th>\n",
       "      <th></th>\n",
       "      <th></th>\n",
       "      <th></th>\n",
       "      <th></th>\n",
       "      <th></th>\n",
       "      <th></th>\n",
       "      <th></th>\n",
       "      <th></th>\n",
       "      <th></th>\n",
       "      <th></th>\n",
       "      <th></th>\n",
       "      <th></th>\n",
       "      <th></th>\n",
       "      <th></th>\n",
       "      <th></th>\n",
       "      <th></th>\n",
       "      <th></th>\n",
       "    </tr>\n",
       "  </thead>\n",
       "  <tbody>\n",
       "    <tr>\n",
       "      <th>510232</th>\n",
       "      <td>8173226</td>\n",
       "      <td>2</td>\n",
       "      <td>2018-12-31 23:40:45</td>\n",
       "      <td>2018-12-31 23:49:52</td>\n",
       "      <td>3</td>\n",
       "      <td>1.08</td>\n",
       "      <td>1</td>\n",
       "      <td>0</td>\n",
       "      <td>161</td>\n",
       "      <td>237</td>\n",
       "      <td>2</td>\n",
       "      <td>7.5</td>\n",
       "      <td>0.5</td>\n",
       "      <td>0.5</td>\n",
       "      <td>0.00</td>\n",
       "      <td>0.0</td>\n",
       "      <td>0.3</td>\n",
       "      <td>8.80</td>\n",
       "    </tr>\n",
       "    <tr>\n",
       "      <th>510233</th>\n",
       "      <td>8173227</td>\n",
       "      <td>2</td>\n",
       "      <td>2018-12-31 23:16:46</td>\n",
       "      <td>2018-12-31 23:28:09</td>\n",
       "      <td>2</td>\n",
       "      <td>2.68</td>\n",
       "      <td>1</td>\n",
       "      <td>0</td>\n",
       "      <td>263</td>\n",
       "      <td>24</td>\n",
       "      <td>1</td>\n",
       "      <td>11.0</td>\n",
       "      <td>0.5</td>\n",
       "      <td>0.5</td>\n",
       "      <td>4.92</td>\n",
       "      <td>0.0</td>\n",
       "      <td>0.3</td>\n",
       "      <td>17.22</td>\n",
       "    </tr>\n",
       "    <tr>\n",
       "      <th>510234</th>\n",
       "      <td>8173228</td>\n",
       "      <td>2</td>\n",
       "      <td>2018-12-31 23:29:01</td>\n",
       "      <td>2018-12-31 23:33:39</td>\n",
       "      <td>1</td>\n",
       "      <td>0.75</td>\n",
       "      <td>1</td>\n",
       "      <td>0</td>\n",
       "      <td>41</td>\n",
       "      <td>43</td>\n",
       "      <td>2</td>\n",
       "      <td>5.0</td>\n",
       "      <td>0.5</td>\n",
       "      <td>0.5</td>\n",
       "      <td>0.00</td>\n",
       "      <td>0.0</td>\n",
       "      <td>0.3</td>\n",
       "      <td>6.30</td>\n",
       "    </tr>\n",
       "    <tr>\n",
       "      <th>510235</th>\n",
       "      <td>8173229</td>\n",
       "      <td>2</td>\n",
       "      <td>2018-12-31 23:55:39</td>\n",
       "      <td>2018-12-31 23:59:15</td>\n",
       "      <td>1</td>\n",
       "      <td>0.92</td>\n",
       "      <td>1</td>\n",
       "      <td>0</td>\n",
       "      <td>263</td>\n",
       "      <td>75</td>\n",
       "      <td>1</td>\n",
       "      <td>5.0</td>\n",
       "      <td>0.5</td>\n",
       "      <td>0.5</td>\n",
       "      <td>1.26</td>\n",
       "      <td>0.0</td>\n",
       "      <td>0.3</td>\n",
       "      <td>7.56</td>\n",
       "    </tr>\n",
       "    <tr>\n",
       "      <th>510236</th>\n",
       "      <td>8173230</td>\n",
       "      <td>2</td>\n",
       "      <td>2018-12-31 23:13:26</td>\n",
       "      <td>2018-12-31 23:13:31</td>\n",
       "      <td>1</td>\n",
       "      <td>0.00</td>\n",
       "      <td>1</td>\n",
       "      <td>0</td>\n",
       "      <td>264</td>\n",
       "      <td>193</td>\n",
       "      <td>2</td>\n",
       "      <td>0.0</td>\n",
       "      <td>0.0</td>\n",
       "      <td>0.0</td>\n",
       "      <td>0.00</td>\n",
       "      <td>0.0</td>\n",
       "      <td>0.0</td>\n",
       "      <td>0.00</td>\n",
       "    </tr>\n",
       "  </tbody>\n",
       "</table>\n",
       "</div>"
      ],
      "text/plain": [
       "        Unnamed: 0  VendorID tpep_pickup_datetime tpep_dropoff_datetime  \\\n",
       "index                                                                     \n",
       "510232     8173226         2  2018-12-31 23:40:45   2018-12-31 23:49:52   \n",
       "510233     8173227         2  2018-12-31 23:16:46   2018-12-31 23:28:09   \n",
       "510234     8173228         2  2018-12-31 23:29:01   2018-12-31 23:33:39   \n",
       "510235     8173229         2  2018-12-31 23:55:39   2018-12-31 23:59:15   \n",
       "510236     8173230         2  2018-12-31 23:13:26   2018-12-31 23:13:31   \n",
       "\n",
       "        passenger_count  trip_distance  RatecodeID  store_and_fwd_flag  \\\n",
       "index                                                                    \n",
       "510232                3           1.08           1                   0   \n",
       "510233                2           2.68           1                   0   \n",
       "510234                1           0.75           1                   0   \n",
       "510235                1           0.92           1                   0   \n",
       "510236                1           0.00           1                   0   \n",
       "\n",
       "        PULocationID  DOLocationID  payment_type  fare_amount  extra  mta_tax  \\\n",
       "index                                                                           \n",
       "510232           161           237             2          7.5    0.5      0.5   \n",
       "510233           263            24             1         11.0    0.5      0.5   \n",
       "510234            41            43             2          5.0    0.5      0.5   \n",
       "510235           263            75             1          5.0    0.5      0.5   \n",
       "510236           264           193             2          0.0    0.0      0.0   \n",
       "\n",
       "        tip_amount  tolls_amount  improvement_surcharge  total_amount  \n",
       "index                                                                  \n",
       "510232        0.00           0.0                    0.3          8.80  \n",
       "510233        4.92           0.0                    0.3         17.22  \n",
       "510234        0.00           0.0                    0.3          6.30  \n",
       "510235        1.26           0.0                    0.3          7.56  \n",
       "510236        0.00           0.0                    0.0          0.00  "
      ]
     },
     "execution_count": 30,
     "metadata": {},
     "output_type": "execute_result"
    }
   ],
   "source": [
    "data_2018.tail()"
   ]
  },
  {
   "cell_type": "markdown",
   "metadata": {},
   "source": [
    "#### Choosing columns for further use"
   ]
  },
  {
   "cell_type": "markdown",
   "metadata": {},
   "source": [
    "Start with January 2018"
   ]
  },
  {
   "cell_type": "code",
   "execution_count": 66,
   "metadata": {
    "scrolled": false
   },
   "outputs": [
    {
     "name": "stdout",
     "output_type": "stream",
     "text": [
      "CPU times: user 188 ms, sys: 0 ns, total: 188 ms\n",
      "Wall time: 340 ms\n"
     ]
    }
   ],
   "source": [
    "%time data_2018_01_par = dd.read_parquet('gcs://nyc-taxi-data-2018-2019/yellow_tripdata_2018/yellow_tripdata_2018-01.parquet/')"
   ]
  },
  {
   "cell_type": "code",
   "execution_count": 67,
   "metadata": {},
   "outputs": [
    {
     "name": "stdout",
     "output_type": "stream",
     "text": [
      "CPU times: user 16 ms, sys: 0 ns, total: 16 ms\n",
      "Wall time: 15.9 ms\n"
     ]
    }
   ],
   "source": [
    "%time data_2018_01_par['tip_ratio'] = data_2018_01_par.tip_amount / data_2018_01_par.total_amount"
   ]
  },
  {
   "cell_type": "code",
   "execution_count": 69,
   "metadata": {},
   "outputs": [
    {
     "name": "stdout",
     "output_type": "stream",
     "text": [
      "CPU times: user 936 ms, sys: 76 ms, total: 1.01 s\n",
      "Wall time: 8.52 s\n"
     ]
    }
   ],
   "source": [
    "%time data_2018_01_par = data_2018_01_par[['tpep_pickup_datetime','trip_distance','fare_amount','tip_amount','total_amount','tip_ratio']].set_index('tpep_pickup_datetime')"
   ]
  },
  {
   "cell_type": "code",
   "execution_count": 70,
   "metadata": {},
   "outputs": [
    {
     "name": "stdout",
     "output_type": "stream",
     "text": [
      "CPU times: user 816 ms, sys: 32 ms, total: 848 ms\n",
      "Wall time: 8.45 s\n"
     ]
    },
    {
     "data": {
      "text/html": [
       "<div>\n",
       "<style scoped>\n",
       "    .dataframe tbody tr th:only-of-type {\n",
       "        vertical-align: middle;\n",
       "    }\n",
       "\n",
       "    .dataframe tbody tr th {\n",
       "        vertical-align: top;\n",
       "    }\n",
       "\n",
       "    .dataframe thead th {\n",
       "        text-align: right;\n",
       "    }\n",
       "</style>\n",
       "<table border=\"1\" class=\"dataframe\">\n",
       "  <thead>\n",
       "    <tr style=\"text-align: right;\">\n",
       "      <th></th>\n",
       "      <th>trip_distance</th>\n",
       "      <th>fare_amount</th>\n",
       "      <th>tip_amount</th>\n",
       "      <th>total_amount</th>\n",
       "      <th>tip_ratio</th>\n",
       "    </tr>\n",
       "    <tr>\n",
       "      <th>tpep_pickup_datetime</th>\n",
       "      <th></th>\n",
       "      <th></th>\n",
       "      <th></th>\n",
       "      <th></th>\n",
       "      <th></th>\n",
       "    </tr>\n",
       "  </thead>\n",
       "  <tbody>\n",
       "    <tr>\n",
       "      <th>2018-01-31 23:59:55</th>\n",
       "      <td>1.4</td>\n",
       "      <td>6.5</td>\n",
       "      <td>0.00</td>\n",
       "      <td>7.80</td>\n",
       "      <td>0.000000</td>\n",
       "    </tr>\n",
       "    <tr>\n",
       "      <th>2018-01-31 23:59:56</th>\n",
       "      <td>8.8</td>\n",
       "      <td>31.0</td>\n",
       "      <td>9.65</td>\n",
       "      <td>41.95</td>\n",
       "      <td>0.230036</td>\n",
       "    </tr>\n",
       "    <tr>\n",
       "      <th>2018-01-31 23:59:56</th>\n",
       "      <td>3.2</td>\n",
       "      <td>12.0</td>\n",
       "      <td>1.00</td>\n",
       "      <td>14.30</td>\n",
       "      <td>0.069930</td>\n",
       "    </tr>\n",
       "    <tr>\n",
       "      <th>2018-01-31 23:59:56</th>\n",
       "      <td>0.5</td>\n",
       "      <td>3.5</td>\n",
       "      <td>0.00</td>\n",
       "      <td>4.80</td>\n",
       "      <td>0.000000</td>\n",
       "    </tr>\n",
       "    <tr>\n",
       "      <th>2018-01-31 23:59:57</th>\n",
       "      <td>0.9</td>\n",
       "      <td>5.5</td>\n",
       "      <td>1.00</td>\n",
       "      <td>7.80</td>\n",
       "      <td>0.128205</td>\n",
       "    </tr>\n",
       "  </tbody>\n",
       "</table>\n",
       "</div>"
      ],
      "text/plain": [
       "                      trip_distance  fare_amount  tip_amount  total_amount  \\\n",
       "tpep_pickup_datetime                                                         \n",
       "2018-01-31 23:59:55             1.4          6.5        0.00          7.80   \n",
       "2018-01-31 23:59:56             8.8         31.0        9.65         41.95   \n",
       "2018-01-31 23:59:56             3.2         12.0        1.00         14.30   \n",
       "2018-01-31 23:59:56             0.5          3.5        0.00          4.80   \n",
       "2018-01-31 23:59:57             0.9          5.5        1.00          7.80   \n",
       "\n",
       "                      tip_ratio  \n",
       "tpep_pickup_datetime             \n",
       "2018-01-31 23:59:55    0.000000  \n",
       "2018-01-31 23:59:56    0.230036  \n",
       "2018-01-31 23:59:56    0.069930  \n",
       "2018-01-31 23:59:56    0.000000  \n",
       "2018-01-31 23:59:57    0.128205  "
      ]
     },
     "execution_count": 70,
     "metadata": {},
     "output_type": "execute_result"
    }
   ],
   "source": [
    "%time data_2018_01_par['2018-01':'2018-01'].tail()"
   ]
  },
  {
   "cell_type": "code",
   "execution_count": 71,
   "metadata": {},
   "outputs": [
    {
     "name": "stdout",
     "output_type": "stream",
     "text": [
      "CPU times: user 4 ms, sys: 0 ns, total: 4 ms\n",
      "Wall time: 12.2 ms\n"
     ]
    }
   ],
   "source": [
    "%time data_2018_01_par = data_2018_01_par['2018-01':'2018-01']"
   ]
  },
  {
   "cell_type": "markdown",
   "metadata": {},
   "source": [
    "#### Calculating demand in whole NYC"
   ]
  },
  {
   "cell_type": "code",
   "execution_count": 78,
   "metadata": {},
   "outputs": [
    {
     "name": "stdout",
     "output_type": "stream",
     "text": [
      "CPU times: user 12 ms, sys: 0 ns, total: 12 ms\n",
      "Wall time: 10.5 ms\n"
     ]
    }
   ],
   "source": [
    "%time demand_hr = data_2018_01_par['trip_distance'].resample('h').count()"
   ]
  },
  {
   "cell_type": "code",
   "execution_count": 93,
   "metadata": {},
   "outputs": [],
   "source": [
    "demand_hr = demand_hr.rename(\"demand\")"
   ]
  },
  {
   "cell_type": "markdown",
   "metadata": {},
   "source": [
    "#### Calculating total amount of tips and prices"
   ]
  },
  {
   "cell_type": "code",
   "execution_count": 79,
   "metadata": {},
   "outputs": [
    {
     "name": "stdout",
     "output_type": "stream",
     "text": [
      "CPU times: user 12 ms, sys: 4 ms, total: 16 ms\n",
      "Wall time: 15.9 ms\n"
     ]
    }
   ],
   "source": [
    "%time total_hr = data_2018_01_par[['tip_amount','total_amount', 'fare_amount']].resample('h').sum()"
   ]
  },
  {
   "cell_type": "code",
   "execution_count": 85,
   "metadata": {},
   "outputs": [],
   "source": [
    "total_hr.columns = [str(col) + '_sum' for col in total_hr.columns]"
   ]
  },
  {
   "cell_type": "markdown",
   "metadata": {},
   "source": [
    "#### Calculating average values of all picked columns"
   ]
  },
  {
   "cell_type": "code",
   "execution_count": 80,
   "metadata": {
    "scrolled": true
   },
   "outputs": [
    {
     "name": "stdout",
     "output_type": "stream",
     "text": [
      "CPU times: user 16 ms, sys: 4 ms, total: 20 ms\n",
      "Wall time: 18.1 ms\n"
     ]
    }
   ],
   "source": [
    "%time all_avg = data_2018_01_par.resample('h').mean()"
   ]
  },
  {
   "cell_type": "code",
   "execution_count": 88,
   "metadata": {},
   "outputs": [],
   "source": [
    "all_avg.columns = [str(col) + '_avg' for col in all_avg.columns]"
   ]
  },
  {
   "cell_type": "code",
   "execution_count": 115,
   "metadata": {},
   "outputs": [
    {
     "data": {
      "text/plain": [
       "Index(['trip_distance_avg', 'fare_amount_avg', 'tip_amount_avg',\n",
       "       'total_amount_avg', 'tip_ratio_avg'],\n",
       "      dtype='object')"
      ]
     },
     "execution_count": 115,
     "metadata": {},
     "output_type": "execute_result"
    }
   ],
   "source": [
    "all_avg.columns"
   ]
  },
  {
   "cell_type": "markdown",
   "metadata": {},
   "source": [
    "#### Combining dataframe"
   ]
  },
  {
   "cell_type": "code",
   "execution_count": 95,
   "metadata": {},
   "outputs": [
    {
     "name": "stdout",
     "output_type": "stream",
     "text": [
      "CPU times: user 36 ms, sys: 0 ns, total: 36 ms\n",
      "Wall time: 39.3 ms\n"
     ]
    }
   ],
   "source": [
    "%time data_2018_01_par = dd.concat([demand_hr, total_hr, all_avg], axis=1)"
   ]
  },
  {
   "cell_type": "code",
   "execution_count": 96,
   "metadata": {},
   "outputs": [
    {
     "name": "stdout",
     "output_type": "stream",
     "text": [
      "CPU times: user 2.44 s, sys: 52 ms, total: 2.5 s\n",
      "Wall time: 17.3 s\n"
     ]
    }
   ],
   "source": [
    "%time data_2018_01_par = data_2018_01_par.compute()"
   ]
  },
  {
   "cell_type": "code",
   "execution_count": 97,
   "metadata": {
    "scrolled": true
   },
   "outputs": [
    {
     "data": {
      "text/html": [
       "<div>\n",
       "<style scoped>\n",
       "    .dataframe tbody tr th:only-of-type {\n",
       "        vertical-align: middle;\n",
       "    }\n",
       "\n",
       "    .dataframe tbody tr th {\n",
       "        vertical-align: top;\n",
       "    }\n",
       "\n",
       "    .dataframe thead th {\n",
       "        text-align: right;\n",
       "    }\n",
       "</style>\n",
       "<table border=\"1\" class=\"dataframe\">\n",
       "  <thead>\n",
       "    <tr style=\"text-align: right;\">\n",
       "      <th></th>\n",
       "      <th>demand</th>\n",
       "      <th>tip_amount_sum</th>\n",
       "      <th>total_amount_sum</th>\n",
       "      <th>fare_amount_sum</th>\n",
       "      <th>trip_distance_avg</th>\n",
       "      <th>fare_amount_avg</th>\n",
       "      <th>tip_amount_avg</th>\n",
       "      <th>total_amount_avg</th>\n",
       "      <th>tip_ratio_avg</th>\n",
       "    </tr>\n",
       "    <tr>\n",
       "      <th>tpep_pickup_datetime</th>\n",
       "      <th></th>\n",
       "      <th></th>\n",
       "      <th></th>\n",
       "      <th></th>\n",
       "      <th></th>\n",
       "      <th></th>\n",
       "      <th></th>\n",
       "      <th></th>\n",
       "      <th></th>\n",
       "    </tr>\n",
       "  </thead>\n",
       "  <tbody>\n",
       "    <tr>\n",
       "      <th>2018-01-01 00:00:00</th>\n",
       "      <td>16458</td>\n",
       "      <td>26623.96</td>\n",
       "      <td>257503.82</td>\n",
       "      <td>207728.90</td>\n",
       "      <td>2.754618</td>\n",
       "      <td>12.621758</td>\n",
       "      <td>1.617691</td>\n",
       "      <td>15.646119</td>\n",
       "      <td>0.094985</td>\n",
       "    </tr>\n",
       "    <tr>\n",
       "      <th>2018-01-01 01:00:00</th>\n",
       "      <td>18985</td>\n",
       "      <td>32791.72</td>\n",
       "      <td>304282.14</td>\n",
       "      <td>244231.91</td>\n",
       "      <td>2.957461</td>\n",
       "      <td>12.864467</td>\n",
       "      <td>1.727244</td>\n",
       "      <td>16.027503</td>\n",
       "      <td>0.099037</td>\n",
       "    </tr>\n",
       "    <tr>\n",
       "      <th>2018-01-01 02:00:00</th>\n",
       "      <td>16561</td>\n",
       "      <td>28550.99</td>\n",
       "      <td>267512.86</td>\n",
       "      <td>215108.50</td>\n",
       "      <td>3.083759</td>\n",
       "      <td>12.988859</td>\n",
       "      <td>1.723989</td>\n",
       "      <td>16.153183</td>\n",
       "      <td>0.098159</td>\n",
       "    </tr>\n",
       "    <tr>\n",
       "      <th>2018-01-01 03:00:00</th>\n",
       "      <td>12611</td>\n",
       "      <td>20573.25</td>\n",
       "      <td>201875.63</td>\n",
       "      <td>163322.54</td>\n",
       "      <td>3.167346</td>\n",
       "      <td>12.950800</td>\n",
       "      <td>1.631373</td>\n",
       "      <td>16.007900</td>\n",
       "      <td>0.094318</td>\n",
       "    </tr>\n",
       "    <tr>\n",
       "      <th>2018-01-01 04:00:00</th>\n",
       "      <td>8726</td>\n",
       "      <td>13269.78</td>\n",
       "      <td>147613.79</td>\n",
       "      <td>121276.90</td>\n",
       "      <td>3.562889</td>\n",
       "      <td>13.898338</td>\n",
       "      <td>1.520717</td>\n",
       "      <td>16.916547</td>\n",
       "      <td>0.083468</td>\n",
       "    </tr>\n",
       "  </tbody>\n",
       "</table>\n",
       "</div>"
      ],
      "text/plain": [
       "                      demand  tip_amount_sum  total_amount_sum  \\\n",
       "tpep_pickup_datetime                                             \n",
       "2018-01-01 00:00:00    16458        26623.96         257503.82   \n",
       "2018-01-01 01:00:00    18985        32791.72         304282.14   \n",
       "2018-01-01 02:00:00    16561        28550.99         267512.86   \n",
       "2018-01-01 03:00:00    12611        20573.25         201875.63   \n",
       "2018-01-01 04:00:00     8726        13269.78         147613.79   \n",
       "\n",
       "                      fare_amount_sum  trip_distance_avg  fare_amount_avg  \\\n",
       "tpep_pickup_datetime                                                        \n",
       "2018-01-01 00:00:00         207728.90           2.754618        12.621758   \n",
       "2018-01-01 01:00:00         244231.91           2.957461        12.864467   \n",
       "2018-01-01 02:00:00         215108.50           3.083759        12.988859   \n",
       "2018-01-01 03:00:00         163322.54           3.167346        12.950800   \n",
       "2018-01-01 04:00:00         121276.90           3.562889        13.898338   \n",
       "\n",
       "                      tip_amount_avg  total_amount_avg  tip_ratio_avg  \n",
       "tpep_pickup_datetime                                                   \n",
       "2018-01-01 00:00:00         1.617691         15.646119       0.094985  \n",
       "2018-01-01 01:00:00         1.727244         16.027503       0.099037  \n",
       "2018-01-01 02:00:00         1.723989         16.153183       0.098159  \n",
       "2018-01-01 03:00:00         1.631373         16.007900       0.094318  \n",
       "2018-01-01 04:00:00         1.520717         16.916547       0.083468  "
      ]
     },
     "execution_count": 97,
     "metadata": {},
     "output_type": "execute_result"
    }
   ],
   "source": [
    "data_2018_01_par.head()"
   ]
  },
  {
   "cell_type": "markdown",
   "metadata": {},
   "source": [
    "Saving processed parquet file for January 2018"
   ]
  },
  {
   "cell_type": "code",
   "execution_count": 100,
   "metadata": {},
   "outputs": [],
   "source": [
    "data_2018_01_par.to_parquet('gcs://nyc-taxi-data-2018-2019/yellow_tripdata_2018_hr/yellow_tripdata_2018-01.parquet', engine = 'pyarrow')"
   ]
  },
  {
   "cell_type": "code",
   "execution_count": 129,
   "metadata": {
    "scrolled": true
   },
   "outputs": [
    {
     "data": {
      "text/html": [
       "<div>\n",
       "<style scoped>\n",
       "    .dataframe tbody tr th:only-of-type {\n",
       "        vertical-align: middle;\n",
       "    }\n",
       "\n",
       "    .dataframe tbody tr th {\n",
       "        vertical-align: top;\n",
       "    }\n",
       "\n",
       "    .dataframe thead th {\n",
       "        text-align: right;\n",
       "    }\n",
       "</style>\n",
       "<table border=\"1\" class=\"dataframe\">\n",
       "  <thead>\n",
       "    <tr style=\"text-align: right;\">\n",
       "      <th></th>\n",
       "      <th>demand</th>\n",
       "      <th>tip_amount_sum</th>\n",
       "      <th>total_amount_sum</th>\n",
       "      <th>fare_amount_sum</th>\n",
       "      <th>trip_distance_avg</th>\n",
       "      <th>fare_amount_avg</th>\n",
       "      <th>tip_amount_avg</th>\n",
       "      <th>total_amount_avg</th>\n",
       "      <th>tip_ratio_avg</th>\n",
       "    </tr>\n",
       "  </thead>\n",
       "  <tbody>\n",
       "    <tr>\n",
       "      <th>demand</th>\n",
       "      <td>1.000000</td>\n",
       "      <td>0.979720</td>\n",
       "      <td>0.987778</td>\n",
       "      <td>0.989567</td>\n",
       "      <td>0.595388</td>\n",
       "      <td>0.554618</td>\n",
       "      <td>0.150473</td>\n",
       "      <td>0.469047</td>\n",
       "      <td>0.765966</td>\n",
       "    </tr>\n",
       "    <tr>\n",
       "      <th>tip_amount_sum</th>\n",
       "      <td>0.979720</td>\n",
       "      <td>1.000000</td>\n",
       "      <td>0.993010</td>\n",
       "      <td>0.987217</td>\n",
       "      <td>0.525642</td>\n",
       "      <td>0.459893</td>\n",
       "      <td>0.309449</td>\n",
       "      <td>0.348863</td>\n",
       "      <td>0.797833</td>\n",
       "    </tr>\n",
       "    <tr>\n",
       "      <th>total_amount_sum</th>\n",
       "      <td>0.987778</td>\n",
       "      <td>0.993010</td>\n",
       "      <td>1.000000</td>\n",
       "      <td>0.997394</td>\n",
       "      <td>0.538946</td>\n",
       "      <td>0.460975</td>\n",
       "      <td>0.259526</td>\n",
       "      <td>0.358516</td>\n",
       "      <td>0.752159</td>\n",
       "    </tr>\n",
       "    <tr>\n",
       "      <th>fare_amount_sum</th>\n",
       "      <td>0.989567</td>\n",
       "      <td>0.987217</td>\n",
       "      <td>0.997394</td>\n",
       "      <td>1.000000</td>\n",
       "      <td>0.546438</td>\n",
       "      <td>0.464381</td>\n",
       "      <td>0.235868</td>\n",
       "      <td>0.376433</td>\n",
       "      <td>0.745589</td>\n",
       "    </tr>\n",
       "    <tr>\n",
       "      <th>trip_distance_avg</th>\n",
       "      <td>0.595388</td>\n",
       "      <td>0.525642</td>\n",
       "      <td>0.538946</td>\n",
       "      <td>0.546438</td>\n",
       "      <td>1.000000</td>\n",
       "      <td>0.728843</td>\n",
       "      <td>0.308839</td>\n",
       "      <td>0.705171</td>\n",
       "      <td>0.529059</td>\n",
       "    </tr>\n",
       "    <tr>\n",
       "      <th>fare_amount_avg</th>\n",
       "      <td>0.554618</td>\n",
       "      <td>0.459893</td>\n",
       "      <td>0.460975</td>\n",
       "      <td>0.464381</td>\n",
       "      <td>0.728843</td>\n",
       "      <td>1.000000</td>\n",
       "      <td>0.507243</td>\n",
       "      <td>0.971319</td>\n",
       "      <td>0.618288</td>\n",
       "    </tr>\n",
       "    <tr>\n",
       "      <th>tip_amount_avg</th>\n",
       "      <td>0.150473</td>\n",
       "      <td>0.309449</td>\n",
       "      <td>0.259526</td>\n",
       "      <td>0.235868</td>\n",
       "      <td>0.308839</td>\n",
       "      <td>0.507243</td>\n",
       "      <td>1.000000</td>\n",
       "      <td>0.637106</td>\n",
       "      <td>0.312442</td>\n",
       "    </tr>\n",
       "    <tr>\n",
       "      <th>total_amount_avg</th>\n",
       "      <td>0.469047</td>\n",
       "      <td>0.348863</td>\n",
       "      <td>0.358516</td>\n",
       "      <td>0.376433</td>\n",
       "      <td>0.705171</td>\n",
       "      <td>0.971319</td>\n",
       "      <td>0.637106</td>\n",
       "      <td>1.000000</td>\n",
       "      <td>0.508839</td>\n",
       "    </tr>\n",
       "    <tr>\n",
       "      <th>tip_ratio_avg</th>\n",
       "      <td>0.765966</td>\n",
       "      <td>0.797833</td>\n",
       "      <td>0.752159</td>\n",
       "      <td>0.745589</td>\n",
       "      <td>0.529059</td>\n",
       "      <td>0.618288</td>\n",
       "      <td>0.312442</td>\n",
       "      <td>0.508839</td>\n",
       "      <td>1.000000</td>\n",
       "    </tr>\n",
       "  </tbody>\n",
       "</table>\n",
       "</div>"
      ],
      "text/plain": [
       "                     demand  tip_amount_sum  total_amount_sum  \\\n",
       "demand             1.000000        0.979720          0.987778   \n",
       "tip_amount_sum     0.979720        1.000000          0.993010   \n",
       "total_amount_sum   0.987778        0.993010          1.000000   \n",
       "fare_amount_sum    0.989567        0.987217          0.997394   \n",
       "trip_distance_avg  0.595388        0.525642          0.538946   \n",
       "fare_amount_avg    0.554618        0.459893          0.460975   \n",
       "tip_amount_avg     0.150473        0.309449          0.259526   \n",
       "total_amount_avg   0.469047        0.348863          0.358516   \n",
       "tip_ratio_avg      0.765966        0.797833          0.752159   \n",
       "\n",
       "                   fare_amount_sum  trip_distance_avg  fare_amount_avg  \\\n",
       "demand                    0.989567           0.595388         0.554618   \n",
       "tip_amount_sum            0.987217           0.525642         0.459893   \n",
       "total_amount_sum          0.997394           0.538946         0.460975   \n",
       "fare_amount_sum           1.000000           0.546438         0.464381   \n",
       "trip_distance_avg         0.546438           1.000000         0.728843   \n",
       "fare_amount_avg           0.464381           0.728843         1.000000   \n",
       "tip_amount_avg            0.235868           0.308839         0.507243   \n",
       "total_amount_avg          0.376433           0.705171         0.971319   \n",
       "tip_ratio_avg             0.745589           0.529059         0.618288   \n",
       "\n",
       "                   tip_amount_avg  total_amount_avg  tip_ratio_avg  \n",
       "demand                   0.150473          0.469047       0.765966  \n",
       "tip_amount_sum           0.309449          0.348863       0.797833  \n",
       "total_amount_sum         0.259526          0.358516       0.752159  \n",
       "fare_amount_sum          0.235868          0.376433       0.745589  \n",
       "trip_distance_avg        0.308839          0.705171       0.529059  \n",
       "fare_amount_avg          0.507243          0.971319       0.618288  \n",
       "tip_amount_avg           1.000000          0.637106       0.312442  \n",
       "total_amount_avg         0.637106          1.000000       0.508839  \n",
       "tip_ratio_avg            0.312442          0.508839       1.000000  "
      ]
     },
     "execution_count": 129,
     "metadata": {},
     "output_type": "execute_result"
    }
   ],
   "source": [
    "abs(data_2018_01_par.corr())"
   ]
  },
  {
   "cell_type": "markdown",
   "metadata": {},
   "source": [
    "### Repeat all steps for other months of 2018"
   ]
  },
  {
   "cell_type": "code",
   "execution_count": 1,
   "metadata": {},
   "outputs": [],
   "source": [
    "def create_hr_parq(month):\n",
    "    df = dd.read_parquet(f'gcs://nyc-taxi-data-2018-2019/yellow_tripdata_2018/yellow_tripdata_2018-{month}.parquet/')\n",
    "    \n",
    "    # calculate tip ratio\n",
    "    df['tip_ratio'] = df.tip_amount / df.total_amount\n",
    "    \n",
    "    # choose columns\n",
    "    df = df[['tpep_pickup_datetime','trip_distance','fare_amount','tip_amount','total_amount','tip_ratio']].set_index('tpep_pickup_datetime')\n",
    "    rng = f'2018-{month}'\n",
    "    df = df[rng:rng]\n",
    "    \n",
    "    # calculate demand\n",
    "    demand_hr = df['trip_distance'].resample('h').count()\n",
    "    demand_hr = demand_hr.rename(\"demand\")\n",
    "    \n",
    "    # calculate total values\n",
    "    total_hr = df[['tip_amount','total_amount', 'fare_amount']].resample('h').sum()\n",
    "    total_hr.columns = [str(col) + '_sum' for col in total_hr.columns]\n",
    "    \n",
    "    # calculate average values\n",
    "    all_avg = df.resample('h').mean()\n",
    "    all_avg.columns = [str(col) + '_avg' for col in all_avg.columns]\n",
    "    \n",
    "    # combine dataframes\n",
    "    df = dd.concat([demand_hr, total_hr, all_avg], axis=1)\n",
    "    df = df.compute()\n",
    "    df.to_parquet(f'gcs://nyc-taxi-data-2018-2019/yellow_tripdata_2018_hr/yellow_tripdata_2018-{month}.parquet', engine = 'pyarrow')\n",
    "    "
   ]
  },
  {
   "cell_type": "code",
   "execution_count": 153,
   "metadata": {
    "scrolled": true
   },
   "outputs": [
    {
     "name": "stderr",
     "output_type": "stream",
     "text": [
      "/opt/conda/anaconda/lib/python3.6/site-packages/ipykernel_launcher.py:1: TqdmDeprecationWarning: This function will be removed in tqdm==5.0.0\n",
      "Please use `tqdm.notebook.tqdm` instead of `tqdm.tqdm_notebook`\n",
      "  \"\"\"Entry point for launching an IPython kernel.\n"
     ]
    },
    {
     "data": {
      "application/vnd.jupyter.widget-view+json": {
       "model_id": "7e042653368c4372b871343395bcf915",
       "version_major": 2,
       "version_minor": 0
      },
      "text/plain": [
       "HBox(children=(IntProgress(value=0, max=11), HTML(value='')))"
      ]
     },
     "metadata": {},
     "output_type": "display_data"
    },
    {
     "name": "stdout",
     "output_type": "stream",
     "text": [
      "\n"
     ]
    }
   ],
   "source": [
    "for month in tqdm_notebook(['02','03','04', '05', '06', '07', '08', '09', '10', '11', '12']):\n",
    "    create_hr_parq(month)"
   ]
  },
  {
   "cell_type": "markdown",
   "metadata": {},
   "source": [
    "#### Verification if everything works"
   ]
  },
  {
   "cell_type": "code",
   "execution_count": 158,
   "metadata": {},
   "outputs": [
    {
     "data": {
      "text/plain": [
       "['gcs://nyc-taxi-data-2018-2019/yellow_tripdata_2018_hr/yellow_tripdata_2018-01.parquet',\n",
       " 'gcs://nyc-taxi-data-2018-2019/yellow_tripdata_2018_hr/yellow_tripdata_2018-02.parquet',\n",
       " 'gcs://nyc-taxi-data-2018-2019/yellow_tripdata_2018_hr/yellow_tripdata_2018-03.parquet',\n",
       " 'gcs://nyc-taxi-data-2018-2019/yellow_tripdata_2018_hr/yellow_tripdata_2018-04.parquet',\n",
       " 'gcs://nyc-taxi-data-2018-2019/yellow_tripdata_2018_hr/yellow_tripdata_2018-05.parquet',\n",
       " 'gcs://nyc-taxi-data-2018-2019/yellow_tripdata_2018_hr/yellow_tripdata_2018-06.parquet',\n",
       " 'gcs://nyc-taxi-data-2018-2019/yellow_tripdata_2018_hr/yellow_tripdata_2018-07.parquet',\n",
       " 'gcs://nyc-taxi-data-2018-2019/yellow_tripdata_2018_hr/yellow_tripdata_2018-08.parquet',\n",
       " 'gcs://nyc-taxi-data-2018-2019/yellow_tripdata_2018_hr/yellow_tripdata_2018-09.parquet',\n",
       " 'gcs://nyc-taxi-data-2018-2019/yellow_tripdata_2018_hr/yellow_tripdata_2018-10.parquet',\n",
       " 'gcs://nyc-taxi-data-2018-2019/yellow_tripdata_2018_hr/yellow_tripdata_2018-11.parquet',\n",
       " 'gcs://nyc-taxi-data-2018-2019/yellow_tripdata_2018_hr/yellow_tripdata_2018-12.parquet']"
      ]
     },
     "execution_count": 158,
     "metadata": {},
     "output_type": "execute_result"
    }
   ],
   "source": [
    "filelist = gcs.glob('nyc-taxi-data-2018-2019/yellow_tripdata_2018_hr/*.parquet/')\n",
    "filelist_gcs = ['gcs://' + x for x in filelist]\n",
    "filelist_gcs"
   ]
  },
  {
   "cell_type": "code",
   "execution_count": 159,
   "metadata": {},
   "outputs": [
    {
     "name": "stdout",
     "output_type": "stream",
     "text": [
      "CPU times: user 228 ms, sys: 12 ms, total: 240 ms\n",
      "Wall time: 1.11 s\n"
     ]
    }
   ],
   "source": [
    "%time data_hr_2018 = dd.read_parquet(filelist_gcs)"
   ]
  },
  {
   "cell_type": "markdown",
   "metadata": {},
   "source": [
    "Hourly and weekday average fare in whole NYC area"
   ]
  },
  {
   "cell_type": "code",
   "execution_count": 194,
   "metadata": {},
   "outputs": [
    {
     "data": {
      "text/plain": [
       "<matplotlib.axes._subplots.AxesSubplot at 0x7f5bb71184e0>"
      ]
     },
     "execution_count": 194,
     "metadata": {},
     "output_type": "execute_result"
    },
    {
     "data": {
      "image/png": "[encoded data removed]",
      "text/plain": [
       "<Figure size 432x288 with 1 Axes>"
      ]
     },
     "metadata": {
      "needs_background": "light"
     },
     "output_type": "display_data"
    }
   ],
   "source": [
    "data_hr_2018_fare = data_hr_2018[[ 'fare_amount_avg']].groupby([data_hr_2018.index.hour,data_hr_2018.index.weekday]).mean().compute().unstack()\n",
    "data_hr_2018_fare.plot()"
   ]
  }
 ],
 "metadata": {
  "kernelspec": {
   "display_name": "Python 3",
   "language": "python",
   "name": "python3"
  },
  "language_info": {
   "codemirror_mode": {
    "name": "ipython",
    "version": 3
   },
   "file_extension": ".py",
   "mimetype": "text/x-python",
   "name": "python",
   "nbconvert_exporter": "python",
   "pygments_lexer": "ipython3",
   "version": "3.7.3"
  }
 },
 "nbformat": 4,
 "nbformat_minor": 2
}
