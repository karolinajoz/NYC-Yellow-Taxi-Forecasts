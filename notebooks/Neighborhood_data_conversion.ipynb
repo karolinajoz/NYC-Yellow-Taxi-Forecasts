{
 "cells": [
  {
   "cell_type": "markdown",
   "metadata": {},
   "source": [
    "## Importing libraries"
   ]
  },
  {
   "cell_type": "code",
   "execution_count": 32,
   "metadata": {},
   "outputs": [],
   "source": [
    "import pandas as pd\n",
    "import numpy as np\n",
    "\n",
    "import time\n",
    "from tqdm import tqdm_notebook"
   ]
  },
  {
   "cell_type": "code",
   "execution_count": 10,
   "metadata": {},
   "outputs": [],
   "source": [
    "import gcsfs"
   ]
  },
  {
   "cell_type": "code",
   "execution_count": 11,
   "metadata": {},
   "outputs": [],
   "source": [
    "import glob"
   ]
  },
  {
   "cell_type": "code",
   "execution_count": 12,
   "metadata": {},
   "outputs": [],
   "source": [
    "import pyarrow"
   ]
  },
  {
   "cell_type": "code",
   "execution_count": 13,
   "metadata": {},
   "outputs": [],
   "source": [
    "import matplotlib.pyplot as plt\n",
    "%matplotlib inline\n",
    "from matplotlib.pylab import rcParams"
   ]
  },
  {
   "cell_type": "code",
   "execution_count": 8,
   "metadata": {},
   "outputs": [],
   "source": [
    "import seaborn as sns"
   ]
  },
  {
   "cell_type": "markdown",
   "metadata": {},
   "source": [
    "Spark libraries"
   ]
  },
  {
   "cell_type": "code",
   "execution_count": 1,
   "metadata": {},
   "outputs": [],
   "source": [
    "import pyspark"
   ]
  },
  {
   "cell_type": "code",
   "execution_count": 15,
   "metadata": {},
   "outputs": [],
   "source": [
    "from pyspark.sql.functions import when, col\n",
    "import pyspark.sql.types as pst\n",
    "import pyspark.sql.functions as psf"
   ]
  },
  {
   "cell_type": "markdown",
   "metadata": {},
   "source": [
    "Dask libraries"
   ]
  },
  {
   "cell_type": "code",
   "execution_count": 6,
   "metadata": {},
   "outputs": [],
   "source": [
    "from dask.distributed import Client, progress, LocalCluster\n",
    "import dask"
   ]
  },
  {
   "cell_type": "code",
   "execution_count": 7,
   "metadata": {},
   "outputs": [],
   "source": [
    "import dask.dataframe as dd"
   ]
  },
  {
   "cell_type": "markdown",
   "metadata": {},
   "source": [
    "## Preparing dataset"
   ]
  },
  {
   "cell_type": "markdown",
   "metadata": {},
   "source": [
    "### Converting data to hourly information for each neighborhood"
   ]
  },
  {
   "cell_type": "code",
   "execution_count": 2,
   "metadata": {},
   "outputs": [],
   "source": [
    "spark = pyspark.sql.SparkSession.builder.getOrCreate()\n",
    "sc = spark.sparkContext"
   ]
  },
  {
   "cell_type": "code",
   "execution_count": 16,
   "metadata": {},
   "outputs": [
    {
     "data": {
      "text/plain": [
       "'2.4.4'"
      ]
     },
     "execution_count": 16,
     "metadata": {},
     "output_type": "execute_result"
    }
   ],
   "source": [
    "pyspark.__version__"
   ]
  },
  {
   "cell_type": "code",
   "execution_count": null,
   "metadata": {},
   "outputs": [],
   "source": [
    "gcsfs.GCSFileSystem(project='project-name')"
   ]
  },
  {
   "cell_type": "markdown",
   "metadata": {},
   "source": [
    "First try with one month - January 2018"
   ]
  },
  {
   "cell_type": "code",
   "execution_count": 20,
   "metadata": {
    "scrolled": true
   },
   "outputs": [
    {
     "name": "stdout",
     "output_type": "stream",
     "text": [
      "CPU times: user 4 ms, sys: 0 ns, total: 4 ms\n",
      "Wall time: 5.74 s\n"
     ]
    }
   ],
   "source": [
    "%time data_2018_01_par = spark.read.parquet('gs://nyc-taxi-data-2018-2019/yellow_tripdata_2018/yellow_tripdata_2018-01.parquet/')"
   ]
  },
  {
   "cell_type": "code",
   "execution_count": 21,
   "metadata": {
    "scrolled": true
   },
   "outputs": [
    {
     "data": {
      "text/plain": [
       "DataFrame[Unnamed: 0: bigint, VendorID: bigint, tpep_pickup_datetime: timestamp, tpep_dropoff_datetime: timestamp, passenger_count: bigint, trip_distance: double, RatecodeID: bigint, store_and_fwd_flag: bigint, PULocationID: bigint, DOLocationID: bigint, payment_type: bigint, fare_amount: double, extra: double, mta_tax: double, tip_amount: double, tolls_amount: double, improvement_surcharge: double, total_amount: double, index: bigint]"
      ]
     },
     "execution_count": 21,
     "metadata": {},
     "output_type": "execute_result"
    }
   ],
   "source": [
    "data_2018_01_par"
   ]
  },
  {
   "cell_type": "code",
   "execution_count": 22,
   "metadata": {},
   "outputs": [],
   "source": [
    "def show(df, n=5):\n",
    "    return df.limit(n).toPandas()"
   ]
  },
  {
   "cell_type": "markdown",
   "metadata": {},
   "source": [
    "Selecting only the columns I will use later - Time, Location and Fare"
   ]
  },
  {
   "cell_type": "code",
   "execution_count": 164,
   "metadata": {},
   "outputs": [],
   "source": [
    "fare_df = data_2018_01_par.select(\n",
    "            psf.to_timestamp(data_2018_01_par['tpep_pickup_datetime'], 'yyyy-MM-dd HH:mm:ss').alias('dt'),\n",
    "            data_2018_01_par.PULocationID,\n",
    "            data_2018_01_par.fare_amount)"
   ]
  },
  {
   "cell_type": "code",
   "execution_count": 165,
   "metadata": {},
   "outputs": [
    {
     "data": {
      "text/html": [
       "<div>\n",
       "<style scoped>\n",
       "    .dataframe tbody tr th:only-of-type {\n",
       "        vertical-align: middle;\n",
       "    }\n",
       "\n",
       "    .dataframe tbody tr th {\n",
       "        vertical-align: top;\n",
       "    }\n",
       "\n",
       "    .dataframe thead th {\n",
       "        text-align: right;\n",
       "    }\n",
       "</style>\n",
       "<table border=\"1\" class=\"dataframe\">\n",
       "  <thead>\n",
       "    <tr style=\"text-align: right;\">\n",
       "      <th></th>\n",
       "      <th>dt</th>\n",
       "      <th>PULocationID</th>\n",
       "      <th>fare_amount</th>\n",
       "    </tr>\n",
       "  </thead>\n",
       "  <tbody>\n",
       "    <tr>\n",
       "      <th>0</th>\n",
       "      <td>2018-01-03 17:43:56</td>\n",
       "      <td>211</td>\n",
       "      <td>10.5</td>\n",
       "    </tr>\n",
       "    <tr>\n",
       "      <th>1</th>\n",
       "      <td>2018-01-03 17:59:09</td>\n",
       "      <td>186</td>\n",
       "      <td>5.5</td>\n",
       "    </tr>\n",
       "    <tr>\n",
       "      <th>2</th>\n",
       "      <td>2018-01-03 17:14:59</td>\n",
       "      <td>229</td>\n",
       "      <td>36.0</td>\n",
       "    </tr>\n",
       "    <tr>\n",
       "      <th>3</th>\n",
       "      <td>2018-01-03 17:18:01</td>\n",
       "      <td>142</td>\n",
       "      <td>8.0</td>\n",
       "    </tr>\n",
       "    <tr>\n",
       "      <th>4</th>\n",
       "      <td>2018-01-03 17:31:10</td>\n",
       "      <td>239</td>\n",
       "      <td>12.0</td>\n",
       "    </tr>\n",
       "  </tbody>\n",
       "</table>\n",
       "</div>"
      ],
      "text/plain": [
       "                   dt  PULocationID  fare_amount\n",
       "0 2018-01-03 17:43:56           211         10.5\n",
       "1 2018-01-03 17:59:09           186          5.5\n",
       "2 2018-01-03 17:14:59           229         36.0\n",
       "3 2018-01-03 17:18:01           142          8.0\n",
       "4 2018-01-03 17:31:10           239         12.0"
      ]
     },
     "execution_count": 165,
     "metadata": {},
     "output_type": "execute_result"
    }
   ],
   "source": [
    "show(fare_df)"
   ]
  },
  {
   "cell_type": "markdown",
   "metadata": {},
   "source": [
    "### Hourly demand"
   ]
  },
  {
   "cell_type": "markdown",
   "metadata": {},
   "source": [
    "To calculate pick-up demand I am grouping everything by date and hour and pivoting the table to have separate information for each location. This way I calculate the count of taxi pick-up at each location at each our of the year."
   ]
  },
  {
   "cell_type": "code",
   "execution_count": 166,
   "metadata": {
    "scrolled": true
   },
   "outputs": [
    {
     "name": "stdout",
     "output_type": "stream",
     "text": [
      "CPU times: user 68 ms, sys: 8 ms, total: 76 ms\n",
      "Wall time: 1min 20s\n"
     ]
    }
   ],
   "source": [
    "%time demand_neigh = (fare_df.groupBy(psf.date_format('dt', 'yyyy-MM-dd HH').alias('ds')).pivot('PULocationID').count().orderBy('ds').toPandas())"
   ]
  },
  {
   "cell_type": "code",
   "execution_count": 48,
   "metadata": {},
   "outputs": [],
   "source": [
    "demand_neigh['ds'] = pd.to_datetime(demand_neigh['ds'])\n",
    "demand_neigh.set_index('ds', inplace=True)"
   ]
  },
  {
   "cell_type": "markdown",
   "metadata": {},
   "source": [
    "Save data for January 2018"
   ]
  },
  {
   "cell_type": "code",
   "execution_count": 170,
   "metadata": {},
   "outputs": [],
   "source": [
    "demand_neigh.to_parquet('gs://nyc-taxi-data-2018-2019/nyc_neighborhoods/yellow_neigh_demand_2018-01a.parquet')"
   ]
  },
  {
   "cell_type": "markdown",
   "metadata": {},
   "source": [
    "Preparing helper function to do the same for every month in 2018"
   ]
  },
  {
   "cell_type": "code",
   "execution_count": 71,
   "metadata": {},
   "outputs": [],
   "source": [
    "def conv_to_parq(i):\n",
    "    df = spark.read.parquet(f'gs://nyc-taxi-data-2018-2019/yellow_tripdata_2018/yellow_tripdata_2018-{i}.parquet/')\n",
    "    \n",
    "    # selecting proper columns\n",
    "    df = df.select(\n",
    "            psf.to_timestamp(df['tpep_pickup_datetime'], 'yyyy-MM-dd HH:mm:ss').alias('dt'),\n",
    "            df.PULocationID,\n",
    "            df.fare_amount)\n",
    "    \n",
    "    # hourly and by location data grouping\n",
    "    demand_df = (df.groupBy(psf.date_format('dt', 'yyyy-MM-dd HH').alias('ds')).pivot('PULocationID').count().orderBy('ds').toPandas())\n",
    "    \n",
    "    # saving to parquet file\n",
    "    demand_df.to_parquet(f'gs://nyc-taxi-data-2018-2019/nyc_neighborhoods/yellow_neigh_demand_2018-{i}.parquet', engine = 'pyarrow')"
   ]
  },
  {
   "cell_type": "markdown",
   "metadata": {},
   "source": [
    "Iterating through each month"
   ]
  },
  {
   "cell_type": "code",
   "execution_count": 62,
   "metadata": {},
   "outputs": [],
   "source": [
    "months = ['02', '03','04', '05', '06', '07', '08', '09', '10', '11', '12']\n",
    "gs_path = 'gs://nyc-taxi-data-2018-2019'\n",
    "full_2018 = [gs_path + f'/nyc_neighborhoods/yellow_neigh_demand_2018-{i}.parquet' for i in months]"
   ]
  },
  {
   "cell_type": "code",
   "execution_count": null,
   "metadata": {},
   "outputs": [],
   "source": [
    "y = []\n",
    "for x in tqdm_notebook(months):\n",
    "    conv_to_parq(x)"
   ]
  },
  {
   "cell_type": "code",
   "execution_count": 75,
   "metadata": {
    "scrolled": true
   },
   "outputs": [
    {
     "data": {
      "text/html": [
       "<div>\n",
       "<style scoped>\n",
       "    .dataframe tbody tr th:only-of-type {\n",
       "        vertical-align: middle;\n",
       "    }\n",
       "\n",
       "    .dataframe tbody tr th {\n",
       "        vertical-align: top;\n",
       "    }\n",
       "\n",
       "    .dataframe thead th {\n",
       "        text-align: right;\n",
       "    }\n",
       "</style>\n",
       "<table border=\"1\" class=\"dataframe\">\n",
       "  <thead>\n",
       "    <tr style=\"text-align: right;\">\n",
       "      <th></th>\n",
       "      <th>ds</th>\n",
       "      <th>1</th>\n",
       "      <th>2</th>\n",
       "      <th>3</th>\n",
       "      <th>4</th>\n",
       "      <th>5</th>\n",
       "      <th>6</th>\n",
       "      <th>7</th>\n",
       "      <th>8</th>\n",
       "      <th>9</th>\n",
       "      <th>...</th>\n",
       "      <th>256</th>\n",
       "      <th>257</th>\n",
       "      <th>258</th>\n",
       "      <th>259</th>\n",
       "      <th>260</th>\n",
       "      <th>261</th>\n",
       "      <th>262</th>\n",
       "      <th>263</th>\n",
       "      <th>264</th>\n",
       "      <th>265</th>\n",
       "    </tr>\n",
       "  </thead>\n",
       "  <tbody>\n",
       "    <tr>\n",
       "      <th>0</th>\n",
       "      <td>2008-12-31 05</td>\n",
       "      <td>None</td>\n",
       "      <td>None</td>\n",
       "      <td>None</td>\n",
       "      <td>None</td>\n",
       "      <td>None</td>\n",
       "      <td>None</td>\n",
       "      <td>None</td>\n",
       "      <td>None</td>\n",
       "      <td>None</td>\n",
       "      <td>...</td>\n",
       "      <td>None</td>\n",
       "      <td>None</td>\n",
       "      <td>None</td>\n",
       "      <td>None</td>\n",
       "      <td>None</td>\n",
       "      <td>None</td>\n",
       "      <td>NaN</td>\n",
       "      <td>None</td>\n",
       "      <td>None</td>\n",
       "      <td>None</td>\n",
       "    </tr>\n",
       "    <tr>\n",
       "      <th>1</th>\n",
       "      <td>2008-12-31 07</td>\n",
       "      <td>None</td>\n",
       "      <td>None</td>\n",
       "      <td>None</td>\n",
       "      <td>None</td>\n",
       "      <td>None</td>\n",
       "      <td>None</td>\n",
       "      <td>None</td>\n",
       "      <td>None</td>\n",
       "      <td>None</td>\n",
       "      <td>...</td>\n",
       "      <td>None</td>\n",
       "      <td>None</td>\n",
       "      <td>None</td>\n",
       "      <td>None</td>\n",
       "      <td>None</td>\n",
       "      <td>None</td>\n",
       "      <td>NaN</td>\n",
       "      <td>None</td>\n",
       "      <td>None</td>\n",
       "      <td>None</td>\n",
       "    </tr>\n",
       "    <tr>\n",
       "      <th>2</th>\n",
       "      <td>2008-12-31 09</td>\n",
       "      <td>None</td>\n",
       "      <td>None</td>\n",
       "      <td>None</td>\n",
       "      <td>None</td>\n",
       "      <td>None</td>\n",
       "      <td>None</td>\n",
       "      <td>None</td>\n",
       "      <td>None</td>\n",
       "      <td>None</td>\n",
       "      <td>...</td>\n",
       "      <td>None</td>\n",
       "      <td>None</td>\n",
       "      <td>None</td>\n",
       "      <td>None</td>\n",
       "      <td>None</td>\n",
       "      <td>None</td>\n",
       "      <td>2.0</td>\n",
       "      <td>None</td>\n",
       "      <td>None</td>\n",
       "      <td>None</td>\n",
       "    </tr>\n",
       "    <tr>\n",
       "      <th>3</th>\n",
       "      <td>2008-12-31 11</td>\n",
       "      <td>None</td>\n",
       "      <td>None</td>\n",
       "      <td>None</td>\n",
       "      <td>None</td>\n",
       "      <td>None</td>\n",
       "      <td>None</td>\n",
       "      <td>None</td>\n",
       "      <td>None</td>\n",
       "      <td>None</td>\n",
       "      <td>...</td>\n",
       "      <td>None</td>\n",
       "      <td>None</td>\n",
       "      <td>None</td>\n",
       "      <td>None</td>\n",
       "      <td>None</td>\n",
       "      <td>None</td>\n",
       "      <td>NaN</td>\n",
       "      <td>None</td>\n",
       "      <td>None</td>\n",
       "      <td>None</td>\n",
       "    </tr>\n",
       "    <tr>\n",
       "      <th>4</th>\n",
       "      <td>2008-12-31 17</td>\n",
       "      <td>None</td>\n",
       "      <td>None</td>\n",
       "      <td>None</td>\n",
       "      <td>None</td>\n",
       "      <td>None</td>\n",
       "      <td>None</td>\n",
       "      <td>None</td>\n",
       "      <td>None</td>\n",
       "      <td>None</td>\n",
       "      <td>...</td>\n",
       "      <td>None</td>\n",
       "      <td>None</td>\n",
       "      <td>None</td>\n",
       "      <td>None</td>\n",
       "      <td>None</td>\n",
       "      <td>None</td>\n",
       "      <td>NaN</td>\n",
       "      <td>None</td>\n",
       "      <td>None</td>\n",
       "      <td>None</td>\n",
       "    </tr>\n",
       "  </tbody>\n",
       "</table>\n",
       "<p>5 rows × 264 columns</p>\n",
       "</div>"
      ],
      "text/plain": [
       "              ds     1     2     3     4     5     6     7     8     9  ...  \\\n",
       "0  2008-12-31 05  None  None  None  None  None  None  None  None  None  ...   \n",
       "1  2008-12-31 07  None  None  None  None  None  None  None  None  None  ...   \n",
       "2  2008-12-31 09  None  None  None  None  None  None  None  None  None  ...   \n",
       "3  2008-12-31 11  None  None  None  None  None  None  None  None  None  ...   \n",
       "4  2008-12-31 17  None  None  None  None  None  None  None  None  None  ...   \n",
       "\n",
       "    256   257   258   259   260   261  262   263   264   265  \n",
       "0  None  None  None  None  None  None  NaN  None  None  None  \n",
       "1  None  None  None  None  None  None  NaN  None  None  None  \n",
       "2  None  None  None  None  None  None  2.0  None  None  None  \n",
       "3  None  None  None  None  None  None  NaN  None  None  None  \n",
       "4  None  None  None  None  None  None  NaN  None  None  None  \n",
       "\n",
       "[5 rows x 264 columns]"
      ]
     },
     "execution_count": 75,
     "metadata": {},
     "output_type": "execute_result"
    }
   ],
   "source": [
    "demand_df.head()"
   ]
  },
  {
   "cell_type": "markdown",
   "metadata": {},
   "source": [
    "### Hourly average fare"
   ]
  },
  {
   "cell_type": "markdown",
   "metadata": {},
   "source": [
    "To have information about fare in each neighborhood I am grouping everything hourly and calculating the mean value for each neighborhood."
   ]
  },
  {
   "cell_type": "code",
   "execution_count": 164,
   "metadata": {},
   "outputs": [],
   "source": [
    "fare_df = data_2018_01_par.select(\n",
    "            psf.to_timestamp(data_2018_01_par['tpep_pickup_datetime'], 'yyyy-MM-dd HH:mm:ss').alias('dt'),\n",
    "            data_2018_01_par.PULocationID,\n",
    "            data_2018_01_par.fare_amount)"
   ]
  },
  {
   "cell_type": "code",
   "execution_count": 173,
   "metadata": {},
   "outputs": [
    {
     "name": "stdout",
     "output_type": "stream",
     "text": [
      "CPU times: user 72 ms, sys: 16 ms, total: 88 ms\n",
      "Wall time: 1min 30s\n"
     ]
    }
   ],
   "source": [
    "%time fare_neigh = (fare_df.groupBy(psf.date_format('dt', 'yyyy-MM-dd HH').alias('ds')).pivot('PULocationID').mean('fare_amount').orderBy('ds').toPandas())"
   ]
  },
  {
   "cell_type": "code",
   "execution_count": 82,
   "metadata": {},
   "outputs": [],
   "source": [
    "fare_neigh['ds'] = pd.to_datetime(fare_neigh['ds'])\n",
    "fare_neigh.set_index('ds', inplace=True)"
   ]
  },
  {
   "cell_type": "markdown",
   "metadata": {},
   "source": [
    "Save data for January 2018"
   ]
  },
  {
   "cell_type": "code",
   "execution_count": 174,
   "metadata": {
    "scrolled": true
   },
   "outputs": [
    {
     "name": "stdout",
     "output_type": "stream",
     "text": [
      "CPU times: user 64 ms, sys: 0 ns, total: 64 ms\n",
      "Wall time: 507 ms\n"
     ]
    }
   ],
   "source": [
    "%time fare_neigh.to_parquet('gs://nyc-taxi-data-2018-2019/nyc_neighborhoods/yellow_neigh_fare_2018-01.parquet')"
   ]
  },
  {
   "cell_type": "markdown",
   "metadata": {},
   "source": [
    "Preparing helper function to do the same for every month in 2018"
   ]
  },
  {
   "cell_type": "code",
   "execution_count": 103,
   "metadata": {},
   "outputs": [],
   "source": [
    "def conv_to_parq_fare(i):\n",
    "    df = spark.read.parquet(f'gs://nyc-taxi-data-2018-2019/yellow_tripdata_2018/yellow_tripdata_2018-{i}.parquet/')\n",
    "    \n",
    "    # selecting proper columns\n",
    "    df = df.select(\n",
    "            psf.to_timestamp(df['tpep_pickup_datetime'], 'yyyy-MM-dd HH:mm:ss').alias('dt'),\n",
    "            df.PULocationID,\n",
    "            df.fare_amount)\n",
    "    \n",
    "    # hourly and by location data grouping and averaging\n",
    "    fare_neigh = (df.groupBy(psf.date_format('dt', 'yyyy-MM-dd HH').alias('ds')).pivot('PULocationID').mean('fare_amount').orderBy('ds').toPandas())\n",
    "    \n",
    "    # saving to parquet file\n",
    "    fare_neigh.to_parquet(f'gs://nyc-taxi-data-2018-2019/nyc_neighborhoods/yellow_neigh_fare_2018-{i}.parquet', engine = 'pyarrow')"
   ]
  },
  {
   "cell_type": "markdown",
   "metadata": {},
   "source": [
    "Iterating through each month"
   ]
  },
  {
   "cell_type": "code",
   "execution_count": 104,
   "metadata": {
    "scrolled": true
   },
   "outputs": [
    {
     "name": "stderr",
     "output_type": "stream",
     "text": [
      "/opt/conda/anaconda/lib/python3.6/site-packages/ipykernel_launcher.py:1: TqdmDeprecationWarning: This function will be removed in tqdm==5.0.0\n",
      "Please use `tqdm.notebook.tqdm` instead of `tqdm.tqdm_notebook`\n",
      "  \"\"\"Entry point for launching an IPython kernel.\n"
     ]
    },
    {
     "data": {
      "application/vnd.jupyter.widget-view+json": {
       "model_id": "a81875d232454b889de6ebaf3e6c69e1",
       "version_major": 2,
       "version_minor": 0
      },
      "text/plain": [
       "HBox(children=(IntProgress(value=0, max=11), HTML(value='')))"
      ]
     },
     "metadata": {},
     "output_type": "display_data"
    },
    {
     "name": "stdout",
     "output_type": "stream",
     "text": [
      "\n"
     ]
    }
   ],
   "source": [
    "for x in tqdm_notebook(months):\n",
    "    conv_to_parq_fare(x)"
   ]
  },
  {
   "cell_type": "markdown",
   "metadata": {},
   "source": [
    "### Hourly average trip distance"
   ]
  },
  {
   "cell_type": "markdown",
   "metadata": {},
   "source": [
    "To have information about trip distance in each neighborhood I am grouping everything hourly and calculating the mean value for each neighborhood."
   ]
  },
  {
   "cell_type": "code",
   "execution_count": 105,
   "metadata": {},
   "outputs": [],
   "source": [
    "trip_df = data_2018_01_par.select(\n",
    "            psf.to_timestamp(data_2018_01_par['tpep_pickup_datetime'], 'yyyy-MM-dd HH:mm:ss').alias('dt'),\n",
    "            data_2018_01_par.PULocationID,\n",
    "            data_2018_01_par.trip_distance)"
   ]
  },
  {
   "cell_type": "code",
   "execution_count": 106,
   "metadata": {},
   "outputs": [
    {
     "data": {
      "text/html": [
       "<div>\n",
       "<style scoped>\n",
       "    .dataframe tbody tr th:only-of-type {\n",
       "        vertical-align: middle;\n",
       "    }\n",
       "\n",
       "    .dataframe tbody tr th {\n",
       "        vertical-align: top;\n",
       "    }\n",
       "\n",
       "    .dataframe thead th {\n",
       "        text-align: right;\n",
       "    }\n",
       "</style>\n",
       "<table border=\"1\" class=\"dataframe\">\n",
       "  <thead>\n",
       "    <tr style=\"text-align: right;\">\n",
       "      <th></th>\n",
       "      <th>dt</th>\n",
       "      <th>PULocationID</th>\n",
       "      <th>trip_distance</th>\n",
       "    </tr>\n",
       "  </thead>\n",
       "  <tbody>\n",
       "    <tr>\n",
       "      <th>0</th>\n",
       "      <td>2018-01-03 17:43:56</td>\n",
       "      <td>211</td>\n",
       "      <td>2.10</td>\n",
       "    </tr>\n",
       "    <tr>\n",
       "      <th>1</th>\n",
       "      <td>2018-01-03 17:59:09</td>\n",
       "      <td>186</td>\n",
       "      <td>0.60</td>\n",
       "    </tr>\n",
       "    <tr>\n",
       "      <th>2</th>\n",
       "      <td>2018-01-03 17:14:59</td>\n",
       "      <td>229</td>\n",
       "      <td>8.00</td>\n",
       "    </tr>\n",
       "    <tr>\n",
       "      <th>3</th>\n",
       "      <td>2018-01-03 17:18:01</td>\n",
       "      <td>142</td>\n",
       "      <td>1.62</td>\n",
       "    </tr>\n",
       "    <tr>\n",
       "      <th>4</th>\n",
       "      <td>2018-01-03 17:31:10</td>\n",
       "      <td>239</td>\n",
       "      <td>2.01</td>\n",
       "    </tr>\n",
       "  </tbody>\n",
       "</table>\n",
       "</div>"
      ],
      "text/plain": [
       "                   dt  PULocationID  trip_distance\n",
       "0 2018-01-03 17:43:56           211           2.10\n",
       "1 2018-01-03 17:59:09           186           0.60\n",
       "2 2018-01-03 17:14:59           229           8.00\n",
       "3 2018-01-03 17:18:01           142           1.62\n",
       "4 2018-01-03 17:31:10           239           2.01"
      ]
     },
     "execution_count": 106,
     "metadata": {},
     "output_type": "execute_result"
    }
   ],
   "source": [
    "show(trip_df)"
   ]
  },
  {
   "cell_type": "code",
   "execution_count": 177,
   "metadata": {},
   "outputs": [
    {
     "name": "stdout",
     "output_type": "stream",
     "text": [
      "CPU times: user 84 ms, sys: 4 ms, total: 88 ms\n",
      "Wall time: 1min 19s\n"
     ]
    }
   ],
   "source": [
    "%time trip_neigh = (trip_df.groupBy(psf.date_format('dt', 'yyyy-MM-dd HH').alias('ds')).pivot('PULocationID').mean('trip_distance').orderBy('ds').toPandas())"
   ]
  },
  {
   "cell_type": "code",
   "execution_count": 216,
   "metadata": {
    "collapsed": true
   },
   "outputs": [
    {
     "data": {
      "text/html": [
       "<div>\n",
       "<style scoped>\n",
       "    .dataframe tbody tr th:only-of-type {\n",
       "        vertical-align: middle;\n",
       "    }\n",
       "\n",
       "    .dataframe tbody tr th {\n",
       "        vertical-align: top;\n",
       "    }\n",
       "\n",
       "    .dataframe thead th {\n",
       "        text-align: right;\n",
       "    }\n",
       "</style>\n",
       "<table border=\"1\" class=\"dataframe\">\n",
       "  <thead>\n",
       "    <tr style=\"text-align: right;\">\n",
       "      <th></th>\n",
       "      <th>ds</th>\n",
       "      <th>1</th>\n",
       "      <th>2</th>\n",
       "      <th>3</th>\n",
       "      <th>4</th>\n",
       "      <th>5</th>\n",
       "      <th>6</th>\n",
       "      <th>7</th>\n",
       "      <th>8</th>\n",
       "      <th>9</th>\n",
       "      <th>...</th>\n",
       "      <th>256</th>\n",
       "      <th>257</th>\n",
       "      <th>258</th>\n",
       "      <th>259</th>\n",
       "      <th>260</th>\n",
       "      <th>261</th>\n",
       "      <th>262</th>\n",
       "      <th>263</th>\n",
       "      <th>264</th>\n",
       "      <th>265</th>\n",
       "    </tr>\n",
       "  </thead>\n",
       "  <tbody>\n",
       "    <tr>\n",
       "      <th>29</th>\n",
       "      <td>2018-01-01 00</td>\n",
       "      <td>NaN</td>\n",
       "      <td>NaN</td>\n",
       "      <td>6.2</td>\n",
       "      <td>2.652874</td>\n",
       "      <td>NaN</td>\n",
       "      <td>NaN</td>\n",
       "      <td>2.970488</td>\n",
       "      <td>NaN</td>\n",
       "      <td>NaN</td>\n",
       "      <td>...</td>\n",
       "      <td>3.702500</td>\n",
       "      <td>1.170000</td>\n",
       "      <td>NaN</td>\n",
       "      <td>NaN</td>\n",
       "      <td>3.175000</td>\n",
       "      <td>4.034545</td>\n",
       "      <td>2.361492</td>\n",
       "      <td>2.453485</td>\n",
       "      <td>2.433731</td>\n",
       "      <td>0.345000</td>\n",
       "    </tr>\n",
       "    <tr>\n",
       "      <th>30</th>\n",
       "      <td>2018-01-01 01</td>\n",
       "      <td>NaN</td>\n",
       "      <td>NaN</td>\n",
       "      <td>6.9</td>\n",
       "      <td>3.013571</td>\n",
       "      <td>NaN</td>\n",
       "      <td>NaN</td>\n",
       "      <td>3.177400</td>\n",
       "      <td>NaN</td>\n",
       "      <td>0.8</td>\n",
       "      <td>...</td>\n",
       "      <td>3.663288</td>\n",
       "      <td>3.708333</td>\n",
       "      <td>NaN</td>\n",
       "      <td>NaN</td>\n",
       "      <td>3.579474</td>\n",
       "      <td>4.146000</td>\n",
       "      <td>2.769487</td>\n",
       "      <td>2.529883</td>\n",
       "      <td>2.735600</td>\n",
       "      <td>0.425455</td>\n",
       "    </tr>\n",
       "    <tr>\n",
       "      <th>31</th>\n",
       "      <td>2018-01-01 02</td>\n",
       "      <td>NaN</td>\n",
       "      <td>NaN</td>\n",
       "      <td>NaN</td>\n",
       "      <td>3.018954</td>\n",
       "      <td>0.0</td>\n",
       "      <td>NaN</td>\n",
       "      <td>2.709398</td>\n",
       "      <td>NaN</td>\n",
       "      <td>NaN</td>\n",
       "      <td>...</td>\n",
       "      <td>3.200421</td>\n",
       "      <td>7.220000</td>\n",
       "      <td>NaN</td>\n",
       "      <td>NaN</td>\n",
       "      <td>3.658864</td>\n",
       "      <td>5.358519</td>\n",
       "      <td>2.782340</td>\n",
       "      <td>2.428959</td>\n",
       "      <td>2.709448</td>\n",
       "      <td>2.988500</td>\n",
       "    </tr>\n",
       "    <tr>\n",
       "      <th>32</th>\n",
       "      <td>2018-01-01 03</td>\n",
       "      <td>0.01</td>\n",
       "      <td>NaN</td>\n",
       "      <td>NaN</td>\n",
       "      <td>3.301881</td>\n",
       "      <td>NaN</td>\n",
       "      <td>NaN</td>\n",
       "      <td>2.734860</td>\n",
       "      <td>NaN</td>\n",
       "      <td>NaN</td>\n",
       "      <td>...</td>\n",
       "      <td>3.177800</td>\n",
       "      <td>9.480000</td>\n",
       "      <td>8.47</td>\n",
       "      <td>NaN</td>\n",
       "      <td>1.702333</td>\n",
       "      <td>4.015556</td>\n",
       "      <td>2.829434</td>\n",
       "      <td>2.456787</td>\n",
       "      <td>2.873709</td>\n",
       "      <td>1.160400</td>\n",
       "    </tr>\n",
       "    <tr>\n",
       "      <th>33</th>\n",
       "      <td>2018-01-01 04</td>\n",
       "      <td>0.00</td>\n",
       "      <td>NaN</td>\n",
       "      <td>NaN</td>\n",
       "      <td>3.257273</td>\n",
       "      <td>NaN</td>\n",
       "      <td>NaN</td>\n",
       "      <td>3.900377</td>\n",
       "      <td>NaN</td>\n",
       "      <td>NaN</td>\n",
       "      <td>...</td>\n",
       "      <td>2.627679</td>\n",
       "      <td>NaN</td>\n",
       "      <td>NaN</td>\n",
       "      <td>1.205</td>\n",
       "      <td>3.268780</td>\n",
       "      <td>5.260556</td>\n",
       "      <td>4.097083</td>\n",
       "      <td>2.741822</td>\n",
       "      <td>3.102968</td>\n",
       "      <td>4.867391</td>\n",
       "    </tr>\n",
       "    <tr>\n",
       "      <th>...</th>\n",
       "      <td>...</td>\n",
       "      <td>...</td>\n",
       "      <td>...</td>\n",
       "      <td>...</td>\n",
       "      <td>...</td>\n",
       "      <td>...</td>\n",
       "      <td>...</td>\n",
       "      <td>...</td>\n",
       "      <td>...</td>\n",
       "      <td>...</td>\n",
       "      <td>...</td>\n",
       "      <td>...</td>\n",
       "      <td>...</td>\n",
       "      <td>...</td>\n",
       "      <td>...</td>\n",
       "      <td>...</td>\n",
       "      <td>...</td>\n",
       "      <td>...</td>\n",
       "      <td>...</td>\n",
       "      <td>...</td>\n",
       "      <td>...</td>\n",
       "    </tr>\n",
       "    <tr>\n",
       "      <th>789</th>\n",
       "      <td>2018-02-01 21</td>\n",
       "      <td>NaN</td>\n",
       "      <td>NaN</td>\n",
       "      <td>NaN</td>\n",
       "      <td>NaN</td>\n",
       "      <td>NaN</td>\n",
       "      <td>NaN</td>\n",
       "      <td>NaN</td>\n",
       "      <td>NaN</td>\n",
       "      <td>NaN</td>\n",
       "      <td>...</td>\n",
       "      <td>NaN</td>\n",
       "      <td>NaN</td>\n",
       "      <td>NaN</td>\n",
       "      <td>NaN</td>\n",
       "      <td>NaN</td>\n",
       "      <td>NaN</td>\n",
       "      <td>NaN</td>\n",
       "      <td>NaN</td>\n",
       "      <td>NaN</td>\n",
       "      <td>NaN</td>\n",
       "    </tr>\n",
       "    <tr>\n",
       "      <th>790</th>\n",
       "      <td>2018-02-01 23</td>\n",
       "      <td>NaN</td>\n",
       "      <td>NaN</td>\n",
       "      <td>NaN</td>\n",
       "      <td>NaN</td>\n",
       "      <td>NaN</td>\n",
       "      <td>NaN</td>\n",
       "      <td>NaN</td>\n",
       "      <td>NaN</td>\n",
       "      <td>NaN</td>\n",
       "      <td>...</td>\n",
       "      <td>NaN</td>\n",
       "      <td>NaN</td>\n",
       "      <td>NaN</td>\n",
       "      <td>NaN</td>\n",
       "      <td>NaN</td>\n",
       "      <td>NaN</td>\n",
       "      <td>NaN</td>\n",
       "      <td>NaN</td>\n",
       "      <td>NaN</td>\n",
       "      <td>NaN</td>\n",
       "    </tr>\n",
       "    <tr>\n",
       "      <th>791</th>\n",
       "      <td>2018-07-27 02</td>\n",
       "      <td>NaN</td>\n",
       "      <td>NaN</td>\n",
       "      <td>NaN</td>\n",
       "      <td>NaN</td>\n",
       "      <td>NaN</td>\n",
       "      <td>NaN</td>\n",
       "      <td>NaN</td>\n",
       "      <td>NaN</td>\n",
       "      <td>NaN</td>\n",
       "      <td>...</td>\n",
       "      <td>NaN</td>\n",
       "      <td>NaN</td>\n",
       "      <td>NaN</td>\n",
       "      <td>NaN</td>\n",
       "      <td>NaN</td>\n",
       "      <td>NaN</td>\n",
       "      <td>NaN</td>\n",
       "      <td>NaN</td>\n",
       "      <td>NaN</td>\n",
       "      <td>NaN</td>\n",
       "    </tr>\n",
       "    <tr>\n",
       "      <th>792</th>\n",
       "      <td>2018-07-27 03</td>\n",
       "      <td>NaN</td>\n",
       "      <td>NaN</td>\n",
       "      <td>NaN</td>\n",
       "      <td>NaN</td>\n",
       "      <td>NaN</td>\n",
       "      <td>NaN</td>\n",
       "      <td>NaN</td>\n",
       "      <td>NaN</td>\n",
       "      <td>NaN</td>\n",
       "      <td>...</td>\n",
       "      <td>NaN</td>\n",
       "      <td>NaN</td>\n",
       "      <td>NaN</td>\n",
       "      <td>NaN</td>\n",
       "      <td>NaN</td>\n",
       "      <td>NaN</td>\n",
       "      <td>NaN</td>\n",
       "      <td>NaN</td>\n",
       "      <td>NaN</td>\n",
       "      <td>NaN</td>\n",
       "    </tr>\n",
       "    <tr>\n",
       "      <th>793</th>\n",
       "      <td>2018-07-27 04</td>\n",
       "      <td>NaN</td>\n",
       "      <td>NaN</td>\n",
       "      <td>NaN</td>\n",
       "      <td>NaN</td>\n",
       "      <td>NaN</td>\n",
       "      <td>NaN</td>\n",
       "      <td>NaN</td>\n",
       "      <td>NaN</td>\n",
       "      <td>NaN</td>\n",
       "      <td>...</td>\n",
       "      <td>NaN</td>\n",
       "      <td>NaN</td>\n",
       "      <td>NaN</td>\n",
       "      <td>NaN</td>\n",
       "      <td>NaN</td>\n",
       "      <td>NaN</td>\n",
       "      <td>NaN</td>\n",
       "      <td>NaN</td>\n",
       "      <td>NaN</td>\n",
       "      <td>NaN</td>\n",
       "    </tr>\n",
       "  </tbody>\n",
       "</table>\n",
       "<p>765 rows × 260 columns</p>\n",
       "</div>"
      ],
      "text/plain": [
       "                ds     1   2    3         4    5   6         7   8    9  ...  \\\n",
       "29   2018-01-01 00   NaN NaN  6.2  2.652874  NaN NaN  2.970488 NaN  NaN  ...   \n",
       "30   2018-01-01 01   NaN NaN  6.9  3.013571  NaN NaN  3.177400 NaN  0.8  ...   \n",
       "31   2018-01-01 02   NaN NaN  NaN  3.018954  0.0 NaN  2.709398 NaN  NaN  ...   \n",
       "32   2018-01-01 03  0.01 NaN  NaN  3.301881  NaN NaN  2.734860 NaN  NaN  ...   \n",
       "33   2018-01-01 04  0.00 NaN  NaN  3.257273  NaN NaN  3.900377 NaN  NaN  ...   \n",
       "..             ...   ...  ..  ...       ...  ...  ..       ...  ..  ...  ...   \n",
       "789  2018-02-01 21   NaN NaN  NaN       NaN  NaN NaN       NaN NaN  NaN  ...   \n",
       "790  2018-02-01 23   NaN NaN  NaN       NaN  NaN NaN       NaN NaN  NaN  ...   \n",
       "791  2018-07-27 02   NaN NaN  NaN       NaN  NaN NaN       NaN NaN  NaN  ...   \n",
       "792  2018-07-27 03   NaN NaN  NaN       NaN  NaN NaN       NaN NaN  NaN  ...   \n",
       "793  2018-07-27 04   NaN NaN  NaN       NaN  NaN NaN       NaN NaN  NaN  ...   \n",
       "\n",
       "          256       257   258    259       260       261       262       263  \\\n",
       "29   3.702500  1.170000   NaN    NaN  3.175000  4.034545  2.361492  2.453485   \n",
       "30   3.663288  3.708333   NaN    NaN  3.579474  4.146000  2.769487  2.529883   \n",
       "31   3.200421  7.220000   NaN    NaN  3.658864  5.358519  2.782340  2.428959   \n",
       "32   3.177800  9.480000  8.47    NaN  1.702333  4.015556  2.829434  2.456787   \n",
       "33   2.627679       NaN   NaN  1.205  3.268780  5.260556  4.097083  2.741822   \n",
       "..        ...       ...   ...    ...       ...       ...       ...       ...   \n",
       "789       NaN       NaN   NaN    NaN       NaN       NaN       NaN       NaN   \n",
       "790       NaN       NaN   NaN    NaN       NaN       NaN       NaN       NaN   \n",
       "791       NaN       NaN   NaN    NaN       NaN       NaN       NaN       NaN   \n",
       "792       NaN       NaN   NaN    NaN       NaN       NaN       NaN       NaN   \n",
       "793       NaN       NaN   NaN    NaN       NaN       NaN       NaN       NaN   \n",
       "\n",
       "          264       265  \n",
       "29   2.433731  0.345000  \n",
       "30   2.735600  0.425455  \n",
       "31   2.709448  2.988500  \n",
       "32   2.873709  1.160400  \n",
       "33   3.102968  4.867391  \n",
       "..        ...       ...  \n",
       "789       NaN       NaN  \n",
       "790       NaN       NaN  \n",
       "791       NaN       NaN  \n",
       "792       NaN       NaN  \n",
       "793       NaN       NaN  \n",
       "\n",
       "[765 rows x 260 columns]"
      ]
     },
     "execution_count": 216,
     "metadata": {},
     "output_type": "execute_result"
    }
   ],
   "source": [
    "trip_neigh[(trip_neigh.ds > '2018-01')]"
   ]
  },
  {
   "cell_type": "code",
   "execution_count": 108,
   "metadata": {},
   "outputs": [],
   "source": [
    "trip_neigh['ds'] = pd.to_datetime(trip_neigh['ds'])\n",
    "trip_neigh.set_index('ds', inplace=True)"
   ]
  },
  {
   "cell_type": "markdown",
   "metadata": {},
   "source": [
    "Saving data for January 2018"
   ]
  },
  {
   "cell_type": "code",
   "execution_count": 178,
   "metadata": {},
   "outputs": [],
   "source": [
    "trip_neigh.to_parquet(f'gs://nyc-taxi-data-2018-2019/nyc_neighborhoods/yellow_neigh_trip_2018-01.parquet', engine = 'pyarrow')"
   ]
  },
  {
   "cell_type": "markdown",
   "metadata": {},
   "source": [
    "Preparing helper function to do the same for every month in 2018"
   ]
  },
  {
   "cell_type": "code",
   "execution_count": 126,
   "metadata": {},
   "outputs": [],
   "source": [
    "def conv_to_parq_trip(i):\n",
    "    df = spark.read.parquet(f'gs://nyc-taxi-data-2018-2019/yellow_tripdata_2018/yellow_tripdata_2018-{i}.parquet/')\n",
    "    df = df.select(\n",
    "            psf.to_timestamp(df['tpep_pickup_datetime'], 'yyyy-MM-dd HH:mm:ss').alias('dt'),\n",
    "            df.PULocationID,\n",
    "            df.trip_distance)\n",
    "    trip_neigh = (df.groupBy(psf.date_format('dt', 'yyyy-MM-dd HH').alias('ds')).pivot('PULocationID').mean('trip_distance').orderBy('ds').toPandas())\n",
    "    trip_neigh.to_parquet(f'gs://nyc-taxi-data-2018-2019/nyc_neighborhoods/yellow_neigh_trip_2018-{i}.parquet', engine = 'pyarrow')"
   ]
  },
  {
   "cell_type": "markdown",
   "metadata": {},
   "source": [
    "Iterating through each month"
   ]
  },
  {
   "cell_type": "code",
   "execution_count": 127,
   "metadata": {
    "scrolled": true
   },
   "outputs": [
    {
     "name": "stderr",
     "output_type": "stream",
     "text": [
      "/opt/conda/anaconda/lib/python3.6/site-packages/ipykernel_launcher.py:1: TqdmDeprecationWarning: This function will be removed in tqdm==5.0.0\n",
      "Please use `tqdm.notebook.tqdm` instead of `tqdm.tqdm_notebook`\n",
      "  \"\"\"Entry point for launching an IPython kernel.\n"
     ]
    },
    {
     "data": {
      "application/vnd.jupyter.widget-view+json": {
       "model_id": "5e91ba4f44104c4ba931da355867f267",
       "version_major": 2,
       "version_minor": 0
      },
      "text/plain": [
       "HBox(children=(IntProgress(value=0, max=11), HTML(value='')))"
      ]
     },
     "metadata": {},
     "output_type": "display_data"
    },
    {
     "name": "stdout",
     "output_type": "stream",
     "text": [
      "\n"
     ]
    }
   ],
   "source": [
    "for x in tqdm_notebook(months):\n",
    "    conv_to_parq_trip(x)"
   ]
  },
  {
   "cell_type": "markdown",
   "metadata": {},
   "source": [
    "### Hourly tips for the drivers"
   ]
  },
  {
   "cell_type": "markdown",
   "metadata": {},
   "source": [
    "To get about tips for the drivers in each neighborhood I am grouping everything hourly and calculating the mean value for each neighborhood."
   ]
  },
  {
   "cell_type": "code",
   "execution_count": 128,
   "metadata": {},
   "outputs": [],
   "source": [
    "tips_df = data_2018_01_par.select(\n",
    "            psf.to_timestamp(data_2018_01_par['tpep_pickup_datetime'], 'yyyy-MM-dd HH:mm:ss').alias('dt'),\n",
    "            data_2018_01_par.PULocationID,\n",
    "            data_2018_01_par.tip_amount,\n",
    "            data_2018_01_par.total_amount)"
   ]
  },
  {
   "cell_type": "code",
   "execution_count": 133,
   "metadata": {},
   "outputs": [],
   "source": [
    "tips_df = tips_df.select('*', (tips_df.tip_amount / tips_df.total_amount).alias('tip_ratio'))"
   ]
  },
  {
   "cell_type": "code",
   "execution_count": 217,
   "metadata": {},
   "outputs": [
    {
     "data": {
      "text/html": [
       "<div>\n",
       "<style scoped>\n",
       "    .dataframe tbody tr th:only-of-type {\n",
       "        vertical-align: middle;\n",
       "    }\n",
       "\n",
       "    .dataframe tbody tr th {\n",
       "        vertical-align: top;\n",
       "    }\n",
       "\n",
       "    .dataframe thead th {\n",
       "        text-align: right;\n",
       "    }\n",
       "</style>\n",
       "<table border=\"1\" class=\"dataframe\">\n",
       "  <thead>\n",
       "    <tr style=\"text-align: right;\">\n",
       "      <th></th>\n",
       "      <th>dt</th>\n",
       "      <th>PULocationID</th>\n",
       "      <th>tip_amount</th>\n",
       "      <th>total_amount</th>\n",
       "      <th>tip_ratio</th>\n",
       "    </tr>\n",
       "  </thead>\n",
       "  <tbody>\n",
       "    <tr>\n",
       "      <th>0</th>\n",
       "      <td>2018-02-17 13:32:22</td>\n",
       "      <td>236</td>\n",
       "      <td>0.88</td>\n",
       "      <td>8.18</td>\n",
       "      <td>0.107579</td>\n",
       "    </tr>\n",
       "    <tr>\n",
       "      <th>1</th>\n",
       "      <td>2018-02-17 13:41:18</td>\n",
       "      <td>239</td>\n",
       "      <td>1.06</td>\n",
       "      <td>6.36</td>\n",
       "      <td>0.166667</td>\n",
       "    </tr>\n",
       "    <tr>\n",
       "      <th>2</th>\n",
       "      <td>2018-02-17 13:13:42</td>\n",
       "      <td>90</td>\n",
       "      <td>3.20</td>\n",
       "      <td>16.00</td>\n",
       "      <td>0.200000</td>\n",
       "    </tr>\n",
       "    <tr>\n",
       "      <th>3</th>\n",
       "      <td>2018-02-17 13:33:27</td>\n",
       "      <td>50</td>\n",
       "      <td>0.96</td>\n",
       "      <td>5.76</td>\n",
       "      <td>0.166667</td>\n",
       "    </tr>\n",
       "    <tr>\n",
       "      <th>4</th>\n",
       "      <td>2018-02-17 13:46:00</td>\n",
       "      <td>48</td>\n",
       "      <td>3.80</td>\n",
       "      <td>11.10</td>\n",
       "      <td>0.342342</td>\n",
       "    </tr>\n",
       "    <tr>\n",
       "      <th>5</th>\n",
       "      <td>2018-02-17 13:58:42</td>\n",
       "      <td>246</td>\n",
       "      <td>1.00</td>\n",
       "      <td>7.80</td>\n",
       "      <td>0.128205</td>\n",
       "    </tr>\n",
       "    <tr>\n",
       "      <th>6</th>\n",
       "      <td>2018-02-17 13:09:07</td>\n",
       "      <td>42</td>\n",
       "      <td>11.71</td>\n",
       "      <td>70.27</td>\n",
       "      <td>0.166643</td>\n",
       "    </tr>\n",
       "    <tr>\n",
       "      <th>7</th>\n",
       "      <td>2018-02-17 13:35:41</td>\n",
       "      <td>43</td>\n",
       "      <td>0.00</td>\n",
       "      <td>7.80</td>\n",
       "      <td>0.000000</td>\n",
       "    </tr>\n",
       "    <tr>\n",
       "      <th>8</th>\n",
       "      <td>2018-02-17 13:46:15</td>\n",
       "      <td>186</td>\n",
       "      <td>1.86</td>\n",
       "      <td>11.16</td>\n",
       "      <td>0.166667</td>\n",
       "    </tr>\n",
       "    <tr>\n",
       "      <th>9</th>\n",
       "      <td>2018-02-17 13:16:43</td>\n",
       "      <td>162</td>\n",
       "      <td>0.00</td>\n",
       "      <td>16.80</td>\n",
       "      <td>0.000000</td>\n",
       "    </tr>\n",
       "  </tbody>\n",
       "</table>\n",
       "</div>"
      ],
      "text/plain": [
       "                   dt  PULocationID  tip_amount  total_amount  tip_ratio\n",
       "0 2018-02-17 13:32:22           236        0.88          8.18   0.107579\n",
       "1 2018-02-17 13:41:18           239        1.06          6.36   0.166667\n",
       "2 2018-02-17 13:13:42            90        3.20         16.00   0.200000\n",
       "3 2018-02-17 13:33:27            50        0.96          5.76   0.166667\n",
       "4 2018-02-17 13:46:00            48        3.80         11.10   0.342342\n",
       "5 2018-02-17 13:58:42           246        1.00          7.80   0.128205\n",
       "6 2018-02-17 13:09:07            42       11.71         70.27   0.166643\n",
       "7 2018-02-17 13:35:41            43        0.00          7.80   0.000000\n",
       "8 2018-02-17 13:46:15           186        1.86         11.16   0.166667\n",
       "9 2018-02-17 13:16:43           162        0.00         16.80   0.000000"
      ]
     },
     "execution_count": 217,
     "metadata": {},
     "output_type": "execute_result"
    }
   ],
   "source": [
    "show(tips_df, n=10)"
   ]
  },
  {
   "cell_type": "code",
   "execution_count": 179,
   "metadata": {},
   "outputs": [
    {
     "name": "stdout",
     "output_type": "stream",
     "text": [
      "CPU times: user 68 ms, sys: 8 ms, total: 76 ms\n",
      "Wall time: 1min 18s\n"
     ]
    }
   ],
   "source": [
    "%time tips_neigh = (tips_df.groupBy(psf.date_format('dt', 'yyyy-MM-dd HH').alias('ds')).pivot('PULocationID').mean('tip_ratio').orderBy('ds').toPandas())"
   ]
  },
  {
   "cell_type": "code",
   "execution_count": 139,
   "metadata": {},
   "outputs": [],
   "source": [
    "tips_neigh['ds'] = pd.to_datetime(tips_neigh['ds'])\n",
    "tips_neigh.set_index('ds', inplace=True)"
   ]
  },
  {
   "cell_type": "markdown",
   "metadata": {},
   "source": [
    "Saving data for January 2018"
   ]
  },
  {
   "cell_type": "code",
   "execution_count": 181,
   "metadata": {},
   "outputs": [],
   "source": [
    "tips_neigh.to_parquet(f'gs://nyc-taxi-data-2018-2019/nyc_neighborhoods/yellow_neigh_tips_2018-01a.parquet', engine = 'pyarrow')"
   ]
  },
  {
   "cell_type": "markdown",
   "metadata": {},
   "source": [
    "Preparing helper function to do the same for every month in 2018"
   ]
  },
  {
   "cell_type": "code",
   "execution_count": 157,
   "metadata": {},
   "outputs": [],
   "source": [
    "def conv_to_parq_tips(i):\n",
    "    df = spark.read.parquet(f'gs://nyc-taxi-data-2018-2019/yellow_tripdata_2018/yellow_tripdata_2018-{i}.parquet/')\n",
    "    tips_df = df.select(\n",
    "            psf.to_timestamp(df['tpep_pickup_datetime'], 'yyyy-MM-dd HH:mm:ss').alias('dt'),\n",
    "            df.PULocationID,\n",
    "            df.tip_amount,\n",
    "            df.total_amount)\n",
    "    tips_df = tips_df.select('*', (tips_df.tip_amount / tips_df.total_amount).alias('tip_ratio'))\n",
    "    tips_neigh = (tips_df.groupBy(psf.date_format('dt', 'yyyy-MM-dd HH').alias('ds')).pivot('PULocationID').mean('tip_ratio').orderBy('ds').toPandas())\n",
    "    tips_neigh.to_parquet(f'gs://nyc-taxi-data-2018-2019/nyc_neighborhoods/yellow_neigh_tips_2018-{i}.parquet', engine = 'pyarrow')"
   ]
  },
  {
   "cell_type": "markdown",
   "metadata": {},
   "source": [
    "Iterating through each month"
   ]
  },
  {
   "cell_type": "code",
   "execution_count": 158,
   "metadata": {
    "scrolled": true
   },
   "outputs": [
    {
     "name": "stderr",
     "output_type": "stream",
     "text": [
      "/opt/conda/anaconda/lib/python3.6/site-packages/ipykernel_launcher.py:1: TqdmDeprecationWarning: This function will be removed in tqdm==5.0.0\n",
      "Please use `tqdm.notebook.tqdm` instead of `tqdm.tqdm_notebook`\n",
      "  \"\"\"Entry point for launching an IPython kernel.\n"
     ]
    },
    {
     "data": {
      "application/vnd.jupyter.widget-view+json": {
       "model_id": "32182f07267449549bf51832346dbd79",
       "version_major": 2,
       "version_minor": 0
      },
      "text/plain": [
       "HBox(children=(IntProgress(value=0, max=11), HTML(value='')))"
      ]
     },
     "metadata": {},
     "output_type": "display_data"
    },
    {
     "name": "stdout",
     "output_type": "stream",
     "text": [
      "\n"
     ]
    }
   ],
   "source": [
    "for x in tqdm_notebook(months):\n",
    "    conv_to_parq_tips(x)"
   ]
  },
  {
   "cell_type": "markdown",
   "metadata": {},
   "source": [
    "### Gathering all months of 2018 to single file"
   ]
  },
  {
   "cell_type": "code",
   "execution_count": 9,
   "metadata": {},
   "outputs": [
    {
     "name": "stderr",
     "output_type": "stream",
     "text": [
      "/opt/conda/anaconda/lib/python3.6/site-packages/bokeh/themes/theme.py:94: YAMLLoadWarning: calling yaml.load() without Loader=... is deprecated, as the default Loader is unsafe. Please read https://msg.pyyaml.org/load for full details.\n",
      "  json = yaml.load(f)\n"
     ]
    }
   ],
   "source": [
    "cluster = LocalCluster(processes=True, n_workers=4)\n",
    "client = Client(cluster)"
   ]
  },
  {
   "cell_type": "code",
   "execution_count": 11,
   "metadata": {},
   "outputs": [
    {
     "data": {
      "text/plain": [
       "'2.8.0'"
      ]
     },
     "execution_count": 11,
     "metadata": {},
     "output_type": "execute_result"
    }
   ],
   "source": [
    "dask.__version__"
   ]
  },
  {
   "cell_type": "markdown",
   "metadata": {},
   "source": [
    "Read demand for neighborhoods"
   ]
  },
  {
   "cell_type": "code",
   "execution_count": 31,
   "metadata": {},
   "outputs": [],
   "source": [
    "gcs = gcsfs.GCSFileSystem()"
   ]
  },
  {
   "cell_type": "markdown",
   "metadata": {},
   "source": [
    "### Hourly demand 2018"
   ]
  },
  {
   "cell_type": "markdown",
   "metadata": {},
   "source": [
    "Opening demand files for all months"
   ]
  },
  {
   "cell_type": "code",
   "execution_count": 32,
   "metadata": {
    "scrolled": true
   },
   "outputs": [
    {
     "data": {
      "text/plain": [
       "['gcs://nyc-taxi-data-2018-2019/nyc_neighborhoods/yellow_neigh_demand_2018-01.parquet',\n",
       " 'gcs://nyc-taxi-data-2018-2019/nyc_neighborhoods/yellow_neigh_demand_2018-02.parquet',\n",
       " 'gcs://nyc-taxi-data-2018-2019/nyc_neighborhoods/yellow_neigh_demand_2018-03.parquet',\n",
       " 'gcs://nyc-taxi-data-2018-2019/nyc_neighborhoods/yellow_neigh_demand_2018-04.parquet',\n",
       " 'gcs://nyc-taxi-data-2018-2019/nyc_neighborhoods/yellow_neigh_demand_2018-05.parquet',\n",
       " 'gcs://nyc-taxi-data-2018-2019/nyc_neighborhoods/yellow_neigh_demand_2018-06.parquet',\n",
       " 'gcs://nyc-taxi-data-2018-2019/nyc_neighborhoods/yellow_neigh_demand_2018-07.parquet',\n",
       " 'gcs://nyc-taxi-data-2018-2019/nyc_neighborhoods/yellow_neigh_demand_2018-08.parquet',\n",
       " 'gcs://nyc-taxi-data-2018-2019/nyc_neighborhoods/yellow_neigh_demand_2018-09.parquet',\n",
       " 'gcs://nyc-taxi-data-2018-2019/nyc_neighborhoods/yellow_neigh_demand_2018-10.parquet',\n",
       " 'gcs://nyc-taxi-data-2018-2019/nyc_neighborhoods/yellow_neigh_demand_2018-11.parquet',\n",
       " 'gcs://nyc-taxi-data-2018-2019/nyc_neighborhoods/yellow_neigh_demand_2018-12.parquet']"
      ]
     },
     "execution_count": 32,
     "metadata": {},
     "output_type": "execute_result"
    }
   ],
   "source": [
    "filelist = gcs.glob('nyc-taxi-data-2018-2019/nyc_neighborhoods/yellow_neigh_demand_*.parquet')\n",
    "filelist_gcs = ['gcs://' + x for x in filelist]\n",
    "filelist_gcs"
   ]
  },
  {
   "cell_type": "markdown",
   "metadata": {},
   "source": [
    "Verification for January 2018"
   ]
  },
  {
   "cell_type": "code",
   "execution_count": 39,
   "metadata": {},
   "outputs": [],
   "source": [
    "demand_df_01 = dd.read_parquet('gcs://nyc-taxi-data-2018-2019/nyc_neighborhoods/yellow_neigh_demand_2018-01.parquet')"
   ]
  },
  {
   "cell_type": "code",
   "execution_count": 114,
   "metadata": {},
   "outputs": [],
   "source": [
    "demand_df_01 = demand_df_01.compute()"
   ]
  },
  {
   "cell_type": "code",
   "execution_count": 40,
   "metadata": {},
   "outputs": [
    {
     "data": {
      "text/html": [
       "<div>\n",
       "<style scoped>\n",
       "    .dataframe tbody tr th:only-of-type {\n",
       "        vertical-align: middle;\n",
       "    }\n",
       "\n",
       "    .dataframe tbody tr th {\n",
       "        vertical-align: top;\n",
       "    }\n",
       "\n",
       "    .dataframe thead th {\n",
       "        text-align: right;\n",
       "    }\n",
       "</style>\n",
       "<table border=\"1\" class=\"dataframe\">\n",
       "  <thead>\n",
       "    <tr style=\"text-align: right;\">\n",
       "      <th></th>\n",
       "      <th>ds</th>\n",
       "      <th>1</th>\n",
       "      <th>2</th>\n",
       "      <th>3</th>\n",
       "      <th>4</th>\n",
       "      <th>5</th>\n",
       "      <th>6</th>\n",
       "      <th>7</th>\n",
       "      <th>8</th>\n",
       "      <th>9</th>\n",
       "      <th>...</th>\n",
       "      <th>256</th>\n",
       "      <th>257</th>\n",
       "      <th>258</th>\n",
       "      <th>259</th>\n",
       "      <th>260</th>\n",
       "      <th>261</th>\n",
       "      <th>262</th>\n",
       "      <th>263</th>\n",
       "      <th>264</th>\n",
       "      <th>265</th>\n",
       "    </tr>\n",
       "  </thead>\n",
       "  <tbody>\n",
       "    <tr>\n",
       "      <th>0</th>\n",
       "      <td>2001-01-05 11</td>\n",
       "      <td>NaN</td>\n",
       "      <td>NaN</td>\n",
       "      <td>NaN</td>\n",
       "      <td>NaN</td>\n",
       "      <td>NaN</td>\n",
       "      <td>NaN</td>\n",
       "      <td>NaN</td>\n",
       "      <td>NaN</td>\n",
       "      <td>NaN</td>\n",
       "      <td>...</td>\n",
       "      <td>NaN</td>\n",
       "      <td>NaN</td>\n",
       "      <td>NaN</td>\n",
       "      <td>NaN</td>\n",
       "      <td>NaN</td>\n",
       "      <td>NaN</td>\n",
       "      <td>NaN</td>\n",
       "      <td>NaN</td>\n",
       "      <td>NaN</td>\n",
       "      <td>NaN</td>\n",
       "    </tr>\n",
       "    <tr>\n",
       "      <th>1</th>\n",
       "      <td>2002-12-31 23</td>\n",
       "      <td>NaN</td>\n",
       "      <td>NaN</td>\n",
       "      <td>NaN</td>\n",
       "      <td>NaN</td>\n",
       "      <td>NaN</td>\n",
       "      <td>NaN</td>\n",
       "      <td>NaN</td>\n",
       "      <td>NaN</td>\n",
       "      <td>NaN</td>\n",
       "      <td>...</td>\n",
       "      <td>NaN</td>\n",
       "      <td>NaN</td>\n",
       "      <td>NaN</td>\n",
       "      <td>NaN</td>\n",
       "      <td>NaN</td>\n",
       "      <td>NaN</td>\n",
       "      <td>NaN</td>\n",
       "      <td>NaN</td>\n",
       "      <td>1.0</td>\n",
       "      <td>NaN</td>\n",
       "    </tr>\n",
       "    <tr>\n",
       "      <th>2</th>\n",
       "      <td>2003-01-01 00</td>\n",
       "      <td>NaN</td>\n",
       "      <td>NaN</td>\n",
       "      <td>NaN</td>\n",
       "      <td>NaN</td>\n",
       "      <td>NaN</td>\n",
       "      <td>NaN</td>\n",
       "      <td>NaN</td>\n",
       "      <td>NaN</td>\n",
       "      <td>NaN</td>\n",
       "      <td>...</td>\n",
       "      <td>NaN</td>\n",
       "      <td>NaN</td>\n",
       "      <td>NaN</td>\n",
       "      <td>NaN</td>\n",
       "      <td>NaN</td>\n",
       "      <td>NaN</td>\n",
       "      <td>NaN</td>\n",
       "      <td>NaN</td>\n",
       "      <td>NaN</td>\n",
       "      <td>NaN</td>\n",
       "    </tr>\n",
       "    <tr>\n",
       "      <th>3</th>\n",
       "      <td>2003-01-01 01</td>\n",
       "      <td>NaN</td>\n",
       "      <td>NaN</td>\n",
       "      <td>NaN</td>\n",
       "      <td>NaN</td>\n",
       "      <td>NaN</td>\n",
       "      <td>NaN</td>\n",
       "      <td>NaN</td>\n",
       "      <td>NaN</td>\n",
       "      <td>NaN</td>\n",
       "      <td>...</td>\n",
       "      <td>NaN</td>\n",
       "      <td>NaN</td>\n",
       "      <td>NaN</td>\n",
       "      <td>NaN</td>\n",
       "      <td>NaN</td>\n",
       "      <td>NaN</td>\n",
       "      <td>NaN</td>\n",
       "      <td>NaN</td>\n",
       "      <td>NaN</td>\n",
       "      <td>NaN</td>\n",
       "    </tr>\n",
       "    <tr>\n",
       "      <th>4</th>\n",
       "      <td>2003-01-01 04</td>\n",
       "      <td>NaN</td>\n",
       "      <td>NaN</td>\n",
       "      <td>NaN</td>\n",
       "      <td>NaN</td>\n",
       "      <td>NaN</td>\n",
       "      <td>NaN</td>\n",
       "      <td>NaN</td>\n",
       "      <td>NaN</td>\n",
       "      <td>NaN</td>\n",
       "      <td>...</td>\n",
       "      <td>NaN</td>\n",
       "      <td>NaN</td>\n",
       "      <td>NaN</td>\n",
       "      <td>NaN</td>\n",
       "      <td>NaN</td>\n",
       "      <td>NaN</td>\n",
       "      <td>NaN</td>\n",
       "      <td>NaN</td>\n",
       "      <td>NaN</td>\n",
       "      <td>NaN</td>\n",
       "    </tr>\n",
       "  </tbody>\n",
       "</table>\n",
       "<p>5 rows × 260 columns</p>\n",
       "</div>"
      ],
      "text/plain": [
       "              ds   1   2   3   4   5   6   7   8   9  ...  256  257  258  259  \\\n",
       "0  2001-01-05 11 NaN NaN NaN NaN NaN NaN NaN NaN NaN  ...  NaN  NaN  NaN  NaN   \n",
       "1  2002-12-31 23 NaN NaN NaN NaN NaN NaN NaN NaN NaN  ...  NaN  NaN  NaN  NaN   \n",
       "2  2003-01-01 00 NaN NaN NaN NaN NaN NaN NaN NaN NaN  ...  NaN  NaN  NaN  NaN   \n",
       "3  2003-01-01 01 NaN NaN NaN NaN NaN NaN NaN NaN NaN  ...  NaN  NaN  NaN  NaN   \n",
       "4  2003-01-01 04 NaN NaN NaN NaN NaN NaN NaN NaN NaN  ...  NaN  NaN  NaN  NaN   \n",
       "\n",
       "   260  261  262  263  264  265  \n",
       "0  NaN  NaN  NaN  NaN  NaN  NaN  \n",
       "1  NaN  NaN  NaN  NaN  1.0  NaN  \n",
       "2  NaN  NaN  NaN  NaN  NaN  NaN  \n",
       "3  NaN  NaN  NaN  NaN  NaN  NaN  \n",
       "4  NaN  NaN  NaN  NaN  NaN  NaN  \n",
       "\n",
       "[5 rows x 260 columns]"
      ]
     },
     "execution_count": 40,
     "metadata": {},
     "output_type": "execute_result"
    }
   ],
   "source": [
    "demand_df_01.head()"
   ]
  },
  {
   "cell_type": "markdown",
   "metadata": {},
   "source": [
    "All months have additional rows with misleading dates, that's why I will strip from each month information about different dates"
   ]
  },
  {
   "cell_type": "code",
   "execution_count": 150,
   "metadata": {},
   "outputs": [],
   "source": [
    "demand_df_all_2 = dd.read_parquet('gcs://nyc-taxi-data-2018-2019/nyc_neighborhoods/yellow_neigh_demand_2018-01.parquet')\n",
    "demand_df_all_2 = demand_df_all_2[(demand_df_all_2.ds >= '2018-01') & (demand_df_all_2.ds < '2018-02')]"
   ]
  },
  {
   "cell_type": "code",
   "execution_count": 121,
   "metadata": {},
   "outputs": [],
   "source": [
    "months = ['01','02', '03','04', '05', '06', '07', '08', '09', '10', '11', '12']"
   ]
  },
  {
   "cell_type": "markdown",
   "metadata": {},
   "source": [
    "Looping to open and concat each month to one dataframe"
   ]
  },
  {
   "cell_type": "code",
   "execution_count": 151,
   "metadata": {},
   "outputs": [],
   "source": [
    "for idx, file in enumerate(filelist_gcs[1:-1]):\n",
    "    df = dd.read_parquet(file)\n",
    "    month_1 = months[idx+1]\n",
    "    month_2 = months[idx+2]\n",
    "    df = df[(df.ds >= f'2018-{month_1}') & (df.ds < f'2018-{month_2}')]\n",
    "    demand_df_all_2 = dd.concat([demand_df_all_2,df])"
   ]
  },
  {
   "cell_type": "code",
   "execution_count": 152,
   "metadata": {},
   "outputs": [],
   "source": [
    "df = dd.read_parquet(filelist_gcs[-1])\n",
    "df = df[(df.ds >= f'2018-12') & (df.ds < f'2019-01')]"
   ]
  },
  {
   "cell_type": "code",
   "execution_count": 153,
   "metadata": {},
   "outputs": [],
   "source": [
    "demand_df_all_2 = dd.concat([demand_df_all_2,df])"
   ]
  },
  {
   "cell_type": "code",
   "execution_count": 155,
   "metadata": {},
   "outputs": [],
   "source": [
    "demand_df_all_2 = demand_df_all_2.compute()"
   ]
  },
  {
   "cell_type": "code",
   "execution_count": 167,
   "metadata": {},
   "outputs": [],
   "source": [
    "demand_df_all_2.ds = pd.to_datetime(demand_df_all_2.ds)"
   ]
  },
  {
   "cell_type": "code",
   "execution_count": 168,
   "metadata": {},
   "outputs": [],
   "source": [
    "demand_df_all_2 = demand_df_all_2.set_index('ds')"
   ]
  },
  {
   "cell_type": "markdown",
   "metadata": {},
   "source": [
    "Saving ready file with hourly demand for each neighborhood in NYC"
   ]
  },
  {
   "cell_type": "code",
   "execution_count": 170,
   "metadata": {},
   "outputs": [],
   "source": [
    "demand_df_all_2.to_parquet('gcs://nyc-taxi-data-2018-2019/nyc_neighborhoods/yellow_neigh_demand_hourly.parquet')"
   ]
  },
  {
   "cell_type": "code",
   "execution_count": 171,
   "metadata": {},
   "outputs": [],
   "source": [
    "demand_df_all_2.to_csv('gcs://nyc-taxi-data-2018-2019/nyc_neighborhoods/yellow_neigh_demand_hourly.csv')"
   ]
  },
  {
   "cell_type": "markdown",
   "metadata": {},
   "source": [
    "### Hourly average fare 2018"
   ]
  },
  {
   "cell_type": "markdown",
   "metadata": {},
   "source": [
    "Opening demand files for all months"
   ]
  },
  {
   "cell_type": "code",
   "execution_count": 174,
   "metadata": {
    "collapsed": true
   },
   "outputs": [
    {
     "data": {
      "text/plain": [
       "['gcs://nyc-taxi-data-2018-2019/nyc_neighborhoods/yellow_neigh_fare_2018-01.parquet',\n",
       " 'gcs://nyc-taxi-data-2018-2019/nyc_neighborhoods/yellow_neigh_fare_2018-02.parquet',\n",
       " 'gcs://nyc-taxi-data-2018-2019/nyc_neighborhoods/yellow_neigh_fare_2018-03.parquet',\n",
       " 'gcs://nyc-taxi-data-2018-2019/nyc_neighborhoods/yellow_neigh_fare_2018-04.parquet',\n",
       " 'gcs://nyc-taxi-data-2018-2019/nyc_neighborhoods/yellow_neigh_fare_2018-05.parquet',\n",
       " 'gcs://nyc-taxi-data-2018-2019/nyc_neighborhoods/yellow_neigh_fare_2018-06.parquet',\n",
       " 'gcs://nyc-taxi-data-2018-2019/nyc_neighborhoods/yellow_neigh_fare_2018-07.parquet',\n",
       " 'gcs://nyc-taxi-data-2018-2019/nyc_neighborhoods/yellow_neigh_fare_2018-08.parquet',\n",
       " 'gcs://nyc-taxi-data-2018-2019/nyc_neighborhoods/yellow_neigh_fare_2018-09.parquet',\n",
       " 'gcs://nyc-taxi-data-2018-2019/nyc_neighborhoods/yellow_neigh_fare_2018-10.parquet',\n",
       " 'gcs://nyc-taxi-data-2018-2019/nyc_neighborhoods/yellow_neigh_fare_2018-11.parquet',\n",
       " 'gcs://nyc-taxi-data-2018-2019/nyc_neighborhoods/yellow_neigh_fare_2018-12.parquet']"
      ]
     },
     "execution_count": 174,
     "metadata": {},
     "output_type": "execute_result"
    }
   ],
   "source": [
    "filelist = gcs.glob('nyc-taxi-data-2018-2019/nyc_neighborhoods/yellow_neigh_fare_*.parquet')\n",
    "filelist_gcs = ['gcs://' + x for x in filelist]\n",
    "filelist_gcs"
   ]
  },
  {
   "cell_type": "markdown",
   "metadata": {},
   "source": [
    "All months have additional rows with misleading dates, that's why I will strip from each month information about different dates"
   ]
  },
  {
   "cell_type": "code",
   "execution_count": 176,
   "metadata": {},
   "outputs": [],
   "source": [
    "fare_df_all = dd.read_parquet('gcs://nyc-taxi-data-2018-2019/nyc_neighborhoods/yellow_neigh_fare_2018-01.parquet')\n",
    "fare_df_all = fare_df_all[(fare_df_all.ds >= '2018-01') & (fare_df_all.ds < '2018-02')]"
   ]
  },
  {
   "cell_type": "markdown",
   "metadata": {},
   "source": [
    "Looping to open and concat each month to one dataframe"
   ]
  },
  {
   "cell_type": "code",
   "execution_count": 177,
   "metadata": {},
   "outputs": [],
   "source": [
    "Looping to open and concat each month to one dataframefor idx, file in enumerate(filelist_gcs[1:-1]):\n",
    "    df = dd.read_parquet(file)\n",
    "    month_1 = months[idx+1]\n",
    "    month_2 = months[idx+2]\n",
    "    df = df[(df.ds >= f'2018-{month_1}') & (df.ds < f'2018-{month_2}')]\n",
    "    fare_df_all = dd.concat([fare_df_all,df])"
   ]
  },
  {
   "cell_type": "code",
   "execution_count": 178,
   "metadata": {},
   "outputs": [],
   "source": [
    "df = dd.read_parquet(filelist_gcs[-1])\n",
    "df = df[(df.ds >= f'2018-12') & (df.ds < f'2019-01')]"
   ]
  },
  {
   "cell_type": "code",
   "execution_count": 180,
   "metadata": {},
   "outputs": [],
   "source": [
    "fare_df_all = dd.concat([fare_df_all,df])"
   ]
  },
  {
   "cell_type": "code",
   "execution_count": 184,
   "metadata": {},
   "outputs": [],
   "source": [
    "fare_df_all = fare_df_all.compute()"
   ]
  },
  {
   "cell_type": "code",
   "execution_count": 185,
   "metadata": {},
   "outputs": [],
   "source": [
    "fare_df_all.ds = pd.to_datetime(fare_df_all.ds)"
   ]
  },
  {
   "cell_type": "code",
   "execution_count": 186,
   "metadata": {},
   "outputs": [],
   "source": [
    "fare_df_all = fare_df_all.set_index('ds')"
   ]
  },
  {
   "cell_type": "markdown",
   "metadata": {},
   "source": [
    "Saving ready file with hourly demand for each neighborhood in NYC"
   ]
  },
  {
   "cell_type": "code",
   "execution_count": 187,
   "metadata": {},
   "outputs": [],
   "source": [
    "fare_df_all.to_parquet('gcs://nyc-taxi-data-2018-2019/nyc_neighborhoods/yellow_neigh_fare_hourly.parquet')"
   ]
  },
  {
   "cell_type": "code",
   "execution_count": 188,
   "metadata": {},
   "outputs": [],
   "source": [
    "fare_df_all.to_csv('gcs://nyc-taxi-data-2018-2019/nyc_neighborhoods/yellow_neigh_fare_hourly.csv')"
   ]
  },
  {
   "cell_type": "code",
   "execution_count": 189,
   "metadata": {
    "collapsed": true
   },
   "outputs": [
    {
     "data": {
      "text/html": [
       "<div>\n",
       "<style scoped>\n",
       "    .dataframe tbody tr th:only-of-type {\n",
       "        vertical-align: middle;\n",
       "    }\n",
       "\n",
       "    .dataframe tbody tr th {\n",
       "        vertical-align: top;\n",
       "    }\n",
       "\n",
       "    .dataframe thead th {\n",
       "        text-align: right;\n",
       "    }\n",
       "</style>\n",
       "<table border=\"1\" class=\"dataframe\">\n",
       "  <thead>\n",
       "    <tr style=\"text-align: right;\">\n",
       "      <th></th>\n",
       "      <th>1</th>\n",
       "      <th>2</th>\n",
       "      <th>3</th>\n",
       "      <th>4</th>\n",
       "      <th>5</th>\n",
       "      <th>6</th>\n",
       "      <th>7</th>\n",
       "      <th>8</th>\n",
       "      <th>9</th>\n",
       "      <th>10</th>\n",
       "      <th>...</th>\n",
       "      <th>261</th>\n",
       "      <th>262</th>\n",
       "      <th>263</th>\n",
       "      <th>264</th>\n",
       "      <th>265</th>\n",
       "      <th>59</th>\n",
       "      <th>172</th>\n",
       "      <th>110</th>\n",
       "      <th>104</th>\n",
       "      <th>99</th>\n",
       "    </tr>\n",
       "    <tr>\n",
       "      <th>ds</th>\n",
       "      <th></th>\n",
       "      <th></th>\n",
       "      <th></th>\n",
       "      <th></th>\n",
       "      <th></th>\n",
       "      <th></th>\n",
       "      <th></th>\n",
       "      <th></th>\n",
       "      <th></th>\n",
       "      <th></th>\n",
       "      <th></th>\n",
       "      <th></th>\n",
       "      <th></th>\n",
       "      <th></th>\n",
       "      <th></th>\n",
       "      <th></th>\n",
       "      <th></th>\n",
       "      <th></th>\n",
       "      <th></th>\n",
       "      <th></th>\n",
       "      <th></th>\n",
       "    </tr>\n",
       "  </thead>\n",
       "  <tbody>\n",
       "    <tr>\n",
       "      <th>2018-01-01 00:00:00</th>\n",
       "      <td>NaN</td>\n",
       "      <td>NaN</td>\n",
       "      <td>22.0</td>\n",
       "      <td>12.591954</td>\n",
       "      <td>NaN</td>\n",
       "      <td>NaN</td>\n",
       "      <td>11.731707</td>\n",
       "      <td>NaN</td>\n",
       "      <td>NaN</td>\n",
       "      <td>NaN</td>\n",
       "      <td>...</td>\n",
       "      <td>15.636364</td>\n",
       "      <td>9.870166</td>\n",
       "      <td>10.097403</td>\n",
       "      <td>12.652640</td>\n",
       "      <td>64.428571</td>\n",
       "      <td>NaN</td>\n",
       "      <td>NaN</td>\n",
       "      <td>NaN</td>\n",
       "      <td>NaN</td>\n",
       "      <td>NaN</td>\n",
       "    </tr>\n",
       "    <tr>\n",
       "      <th>2018-01-01 01:00:00</th>\n",
       "      <td>NaN</td>\n",
       "      <td>NaN</td>\n",
       "      <td>22.5</td>\n",
       "      <td>12.905844</td>\n",
       "      <td>NaN</td>\n",
       "      <td>NaN</td>\n",
       "      <td>13.250000</td>\n",
       "      <td>NaN</td>\n",
       "      <td>4.5</td>\n",
       "      <td>26.00</td>\n",
       "      <td>...</td>\n",
       "      <td>15.692857</td>\n",
       "      <td>11.625000</td>\n",
       "      <td>10.572987</td>\n",
       "      <td>12.772211</td>\n",
       "      <td>59.227273</td>\n",
       "      <td>NaN</td>\n",
       "      <td>NaN</td>\n",
       "      <td>NaN</td>\n",
       "      <td>NaN</td>\n",
       "      <td>NaN</td>\n",
       "    </tr>\n",
       "    <tr>\n",
       "      <th>2018-01-01 02:00:00</th>\n",
       "      <td>NaN</td>\n",
       "      <td>NaN</td>\n",
       "      <td>NaN</td>\n",
       "      <td>12.408497</td>\n",
       "      <td>100.0</td>\n",
       "      <td>NaN</td>\n",
       "      <td>10.932331</td>\n",
       "      <td>NaN</td>\n",
       "      <td>NaN</td>\n",
       "      <td>NaN</td>\n",
       "      <td>...</td>\n",
       "      <td>19.129630</td>\n",
       "      <td>10.835106</td>\n",
       "      <td>10.161312</td>\n",
       "      <td>13.690000</td>\n",
       "      <td>66.011000</td>\n",
       "      <td>NaN</td>\n",
       "      <td>NaN</td>\n",
       "      <td>NaN</td>\n",
       "      <td>NaN</td>\n",
       "      <td>NaN</td>\n",
       "    </tr>\n",
       "    <tr>\n",
       "      <th>2018-01-01 03:00:00</th>\n",
       "      <td>85.000000</td>\n",
       "      <td>NaN</td>\n",
       "      <td>NaN</td>\n",
       "      <td>13.925743</td>\n",
       "      <td>NaN</td>\n",
       "      <td>NaN</td>\n",
       "      <td>10.827103</td>\n",
       "      <td>NaN</td>\n",
       "      <td>NaN</td>\n",
       "      <td>99.00</td>\n",
       "      <td>...</td>\n",
       "      <td>15.092593</td>\n",
       "      <td>10.830189</td>\n",
       "      <td>9.693694</td>\n",
       "      <td>13.648727</td>\n",
       "      <td>69.660400</td>\n",
       "      <td>NaN</td>\n",
       "      <td>NaN</td>\n",
       "      <td>NaN</td>\n",
       "      <td>NaN</td>\n",
       "      <td>NaN</td>\n",
       "    </tr>\n",
       "    <tr>\n",
       "      <th>2018-01-01 04:00:00</th>\n",
       "      <td>56.666667</td>\n",
       "      <td>NaN</td>\n",
       "      <td>NaN</td>\n",
       "      <td>12.354545</td>\n",
       "      <td>NaN</td>\n",
       "      <td>NaN</td>\n",
       "      <td>14.636792</td>\n",
       "      <td>NaN</td>\n",
       "      <td>NaN</td>\n",
       "      <td>36.50</td>\n",
       "      <td>...</td>\n",
       "      <td>20.888889</td>\n",
       "      <td>13.895833</td>\n",
       "      <td>10.202222</td>\n",
       "      <td>15.867580</td>\n",
       "      <td>62.282609</td>\n",
       "      <td>NaN</td>\n",
       "      <td>NaN</td>\n",
       "      <td>NaN</td>\n",
       "      <td>NaN</td>\n",
       "      <td>NaN</td>\n",
       "    </tr>\n",
       "    <tr>\n",
       "      <th>...</th>\n",
       "      <td>...</td>\n",
       "      <td>...</td>\n",
       "      <td>...</td>\n",
       "      <td>...</td>\n",
       "      <td>...</td>\n",
       "      <td>...</td>\n",
       "      <td>...</td>\n",
       "      <td>...</td>\n",
       "      <td>...</td>\n",
       "      <td>...</td>\n",
       "      <td>...</td>\n",
       "      <td>...</td>\n",
       "      <td>...</td>\n",
       "      <td>...</td>\n",
       "      <td>...</td>\n",
       "      <td>...</td>\n",
       "      <td>...</td>\n",
       "      <td>...</td>\n",
       "      <td>...</td>\n",
       "      <td>...</td>\n",
       "      <td>...</td>\n",
       "    </tr>\n",
       "    <tr>\n",
       "      <th>2018-12-31 19:00:00</th>\n",
       "      <td>NaN</td>\n",
       "      <td>NaN</td>\n",
       "      <td>NaN</td>\n",
       "      <td>9.750000</td>\n",
       "      <td>NaN</td>\n",
       "      <td>NaN</td>\n",
       "      <td>9.876667</td>\n",
       "      <td>NaN</td>\n",
       "      <td>NaN</td>\n",
       "      <td>37.75</td>\n",
       "      <td>...</td>\n",
       "      <td>11.178571</td>\n",
       "      <td>9.708333</td>\n",
       "      <td>8.748454</td>\n",
       "      <td>11.856250</td>\n",
       "      <td>51.583333</td>\n",
       "      <td>NaN</td>\n",
       "      <td>NaN</td>\n",
       "      <td>NaN</td>\n",
       "      <td>NaN</td>\n",
       "      <td>NaN</td>\n",
       "    </tr>\n",
       "    <tr>\n",
       "      <th>2018-12-31 20:00:00</th>\n",
       "      <td>85.000000</td>\n",
       "      <td>NaN</td>\n",
       "      <td>NaN</td>\n",
       "      <td>10.437949</td>\n",
       "      <td>NaN</td>\n",
       "      <td>NaN</td>\n",
       "      <td>12.520833</td>\n",
       "      <td>52.0</td>\n",
       "      <td>NaN</td>\n",
       "      <td>37.00</td>\n",
       "      <td>...</td>\n",
       "      <td>11.207921</td>\n",
       "      <td>10.717391</td>\n",
       "      <td>9.508283</td>\n",
       "      <td>11.854587</td>\n",
       "      <td>28.775000</td>\n",
       "      <td>NaN</td>\n",
       "      <td>NaN</td>\n",
       "      <td>NaN</td>\n",
       "      <td>NaN</td>\n",
       "      <td>NaN</td>\n",
       "    </tr>\n",
       "    <tr>\n",
       "      <th>2018-12-31 21:00:00</th>\n",
       "      <td>NaN</td>\n",
       "      <td>NaN</td>\n",
       "      <td>NaN</td>\n",
       "      <td>11.512281</td>\n",
       "      <td>NaN</td>\n",
       "      <td>12.0</td>\n",
       "      <td>10.900000</td>\n",
       "      <td>NaN</td>\n",
       "      <td>NaN</td>\n",
       "      <td>52.00</td>\n",
       "      <td>...</td>\n",
       "      <td>11.741667</td>\n",
       "      <td>10.678241</td>\n",
       "      <td>9.494305</td>\n",
       "      <td>12.208131</td>\n",
       "      <td>30.875000</td>\n",
       "      <td>NaN</td>\n",
       "      <td>NaN</td>\n",
       "      <td>NaN</td>\n",
       "      <td>NaN</td>\n",
       "      <td>NaN</td>\n",
       "    </tr>\n",
       "    <tr>\n",
       "      <th>2018-12-31 22:00:00</th>\n",
       "      <td>NaN</td>\n",
       "      <td>NaN</td>\n",
       "      <td>NaN</td>\n",
       "      <td>11.144737</td>\n",
       "      <td>NaN</td>\n",
       "      <td>NaN</td>\n",
       "      <td>11.803571</td>\n",
       "      <td>52.0</td>\n",
       "      <td>NaN</td>\n",
       "      <td>25.75</td>\n",
       "      <td>...</td>\n",
       "      <td>13.895833</td>\n",
       "      <td>9.168103</td>\n",
       "      <td>8.958599</td>\n",
       "      <td>12.250543</td>\n",
       "      <td>85.083333</td>\n",
       "      <td>NaN</td>\n",
       "      <td>NaN</td>\n",
       "      <td>NaN</td>\n",
       "      <td>NaN</td>\n",
       "      <td>NaN</td>\n",
       "    </tr>\n",
       "    <tr>\n",
       "      <th>2018-12-31 23:00:00</th>\n",
       "      <td>NaN</td>\n",
       "      <td>NaN</td>\n",
       "      <td>NaN</td>\n",
       "      <td>11.333333</td>\n",
       "      <td>NaN</td>\n",
       "      <td>NaN</td>\n",
       "      <td>13.500000</td>\n",
       "      <td>NaN</td>\n",
       "      <td>NaN</td>\n",
       "      <td>7.50</td>\n",
       "      <td>...</td>\n",
       "      <td>12.264706</td>\n",
       "      <td>10.468085</td>\n",
       "      <td>9.288199</td>\n",
       "      <td>12.465693</td>\n",
       "      <td>52.388889</td>\n",
       "      <td>15.0</td>\n",
       "      <td>NaN</td>\n",
       "      <td>NaN</td>\n",
       "      <td>NaN</td>\n",
       "      <td>NaN</td>\n",
       "    </tr>\n",
       "  </tbody>\n",
       "</table>\n",
       "<p>8760 rows × 264 columns</p>\n",
       "</div>"
      ],
      "text/plain": [
       "                             1   2     3          4      5     6          7  \\\n",
       "ds                                                                            \n",
       "2018-01-01 00:00:00        NaN NaN  22.0  12.591954    NaN   NaN  11.731707   \n",
       "2018-01-01 01:00:00        NaN NaN  22.5  12.905844    NaN   NaN  13.250000   \n",
       "2018-01-01 02:00:00        NaN NaN   NaN  12.408497  100.0   NaN  10.932331   \n",
       "2018-01-01 03:00:00  85.000000 NaN   NaN  13.925743    NaN   NaN  10.827103   \n",
       "2018-01-01 04:00:00  56.666667 NaN   NaN  12.354545    NaN   NaN  14.636792   \n",
       "...                        ...  ..   ...        ...    ...   ...        ...   \n",
       "2018-12-31 19:00:00        NaN NaN   NaN   9.750000    NaN   NaN   9.876667   \n",
       "2018-12-31 20:00:00  85.000000 NaN   NaN  10.437949    NaN   NaN  12.520833   \n",
       "2018-12-31 21:00:00        NaN NaN   NaN  11.512281    NaN  12.0  10.900000   \n",
       "2018-12-31 22:00:00        NaN NaN   NaN  11.144737    NaN   NaN  11.803571   \n",
       "2018-12-31 23:00:00        NaN NaN   NaN  11.333333    NaN   NaN  13.500000   \n",
       "\n",
       "                        8    9     10  ...        261        262        263  \\\n",
       "ds                                     ...                                    \n",
       "2018-01-01 00:00:00   NaN  NaN    NaN  ...  15.636364   9.870166  10.097403   \n",
       "2018-01-01 01:00:00   NaN  4.5  26.00  ...  15.692857  11.625000  10.572987   \n",
       "2018-01-01 02:00:00   NaN  NaN    NaN  ...  19.129630  10.835106  10.161312   \n",
       "2018-01-01 03:00:00   NaN  NaN  99.00  ...  15.092593  10.830189   9.693694   \n",
       "2018-01-01 04:00:00   NaN  NaN  36.50  ...  20.888889  13.895833  10.202222   \n",
       "...                   ...  ...    ...  ...        ...        ...        ...   \n",
       "2018-12-31 19:00:00   NaN  NaN  37.75  ...  11.178571   9.708333   8.748454   \n",
       "2018-12-31 20:00:00  52.0  NaN  37.00  ...  11.207921  10.717391   9.508283   \n",
       "2018-12-31 21:00:00   NaN  NaN  52.00  ...  11.741667  10.678241   9.494305   \n",
       "2018-12-31 22:00:00  52.0  NaN  25.75  ...  13.895833   9.168103   8.958599   \n",
       "2018-12-31 23:00:00   NaN  NaN   7.50  ...  12.264706  10.468085   9.288199   \n",
       "\n",
       "                           264        265    59  172  110  104  99  \n",
       "ds                                                                  \n",
       "2018-01-01 00:00:00  12.652640  64.428571   NaN  NaN  NaN  NaN NaN  \n",
       "2018-01-01 01:00:00  12.772211  59.227273   NaN  NaN  NaN  NaN NaN  \n",
       "2018-01-01 02:00:00  13.690000  66.011000   NaN  NaN  NaN  NaN NaN  \n",
       "2018-01-01 03:00:00  13.648727  69.660400   NaN  NaN  NaN  NaN NaN  \n",
       "2018-01-01 04:00:00  15.867580  62.282609   NaN  NaN  NaN  NaN NaN  \n",
       "...                        ...        ...   ...  ...  ...  ...  ..  \n",
       "2018-12-31 19:00:00  11.856250  51.583333   NaN  NaN  NaN  NaN NaN  \n",
       "2018-12-31 20:00:00  11.854587  28.775000   NaN  NaN  NaN  NaN NaN  \n",
       "2018-12-31 21:00:00  12.208131  30.875000   NaN  NaN  NaN  NaN NaN  \n",
       "2018-12-31 22:00:00  12.250543  85.083333   NaN  NaN  NaN  NaN NaN  \n",
       "2018-12-31 23:00:00  12.465693  52.388889  15.0  NaN  NaN  NaN NaN  \n",
       "\n",
       "[8760 rows x 264 columns]"
      ]
     },
     "execution_count": 189,
     "metadata": {},
     "output_type": "execute_result"
    }
   ],
   "source": [
    "fare_df_all"
   ]
  },
  {
   "cell_type": "markdown",
   "metadata": {},
   "source": [
    "### Hourly average tips for drivers in 2018"
   ]
  },
  {
   "cell_type": "markdown",
   "metadata": {},
   "source": [
    "Opening demand files for all months"
   ]
  },
  {
   "cell_type": "code",
   "execution_count": 196,
   "metadata": {
    "collapsed": true
   },
   "outputs": [
    {
     "data": {
      "text/plain": [
       "['gcs://nyc-taxi-data-2018-2019/nyc_neighborhoods/yellow_neigh_tips_2018-01.parquet',\n",
       " 'gcs://nyc-taxi-data-2018-2019/nyc_neighborhoods/yellow_neigh_tips_2018-01a.parquet',\n",
       " 'gcs://nyc-taxi-data-2018-2019/nyc_neighborhoods/yellow_neigh_tips_2018-02.parquet',\n",
       " 'gcs://nyc-taxi-data-2018-2019/nyc_neighborhoods/yellow_neigh_tips_2018-03.parquet',\n",
       " 'gcs://nyc-taxi-data-2018-2019/nyc_neighborhoods/yellow_neigh_tips_2018-04.parquet',\n",
       " 'gcs://nyc-taxi-data-2018-2019/nyc_neighborhoods/yellow_neigh_tips_2018-05.parquet',\n",
       " 'gcs://nyc-taxi-data-2018-2019/nyc_neighborhoods/yellow_neigh_tips_2018-06.parquet',\n",
       " 'gcs://nyc-taxi-data-2018-2019/nyc_neighborhoods/yellow_neigh_tips_2018-07.parquet',\n",
       " 'gcs://nyc-taxi-data-2018-2019/nyc_neighborhoods/yellow_neigh_tips_2018-08.parquet',\n",
       " 'gcs://nyc-taxi-data-2018-2019/nyc_neighborhoods/yellow_neigh_tips_2018-09.parquet',\n",
       " 'gcs://nyc-taxi-data-2018-2019/nyc_neighborhoods/yellow_neigh_tips_2018-10.parquet',\n",
       " 'gcs://nyc-taxi-data-2018-2019/nyc_neighborhoods/yellow_neigh_tips_2018-11.parquet',\n",
       " 'gcs://nyc-taxi-data-2018-2019/nyc_neighborhoods/yellow_neigh_tips_2018-12.parquet']"
      ]
     },
     "execution_count": 196,
     "metadata": {},
     "output_type": "execute_result"
    }
   ],
   "source": [
    "filelist = gcs.glob('nyc-taxi-data-2018-2019/nyc_neighborhoods/yellow_neigh_tips_*.parquet')\n",
    "filelist_gcs = ['gcs://' + x for x in filelist]\n",
    "filelist_gcs"
   ]
  },
  {
   "cell_type": "markdown",
   "metadata": {},
   "source": [
    "All months have additional rows with misleading dates, that's why I will strip from each month information about different dates"
   ]
  },
  {
   "cell_type": "code",
   "execution_count": 226,
   "metadata": {},
   "outputs": [],
   "source": [
    "tips_df_all = dd.read_parquet('gcs://nyc-taxi-data-2018-2019/nyc_neighborhoods/yellow_neigh_tips_2018-01a.parquet')\n",
    "tips_df_all = tips_df_all[(tips_df_all.ds >= '2018-01') & (tips_df_all.ds < '2018-02')]"
   ]
  },
  {
   "cell_type": "markdown",
   "metadata": {},
   "source": [
    "Looping to open and concat each month to one dataframe"
   ]
  },
  {
   "cell_type": "code",
   "execution_count": 227,
   "metadata": {},
   "outputs": [],
   "source": [
    "Looping to open and concat each month to one dataframefor idx, file in enumerate(filelist_gcs[2:-1]):\n",
    "    df = dd.read_parquet(file)\n",
    "    month_1 = months[idx+1]\n",
    "    month_2 = months[idx+2]\n",
    "    df = df[(df.ds >= f'2018-{month_1}') & (df.ds < f'2018-{month_2}')]\n",
    "    tips_df_all = dd.concat([tips_df_all,df])"
   ]
  },
  {
   "cell_type": "code",
   "execution_count": 228,
   "metadata": {},
   "outputs": [],
   "source": [
    "df = dd.read_parquet(filelist_gcs[-1])\n",
    "df = df[(df.ds >= f'2018-12') & (df.ds < f'2019-01')]"
   ]
  },
  {
   "cell_type": "code",
   "execution_count": 230,
   "metadata": {},
   "outputs": [],
   "source": [
    "tips_df_all = dd.concat([tips_df_all,df])"
   ]
  },
  {
   "cell_type": "code",
   "execution_count": 231,
   "metadata": {},
   "outputs": [],
   "source": [
    "tips_df_all = tips_df_all.compute()"
   ]
  },
  {
   "cell_type": "code",
   "execution_count": 232,
   "metadata": {},
   "outputs": [],
   "source": [
    "tips_df_all.ds = pd.to_datetime(tips_df_all.ds)"
   ]
  },
  {
   "cell_type": "code",
   "execution_count": 233,
   "metadata": {},
   "outputs": [],
   "source": [
    "tips_df_all = tips_df_all.set_index('ds')"
   ]
  },
  {
   "cell_type": "markdown",
   "metadata": {},
   "source": [
    "Saving ready file with hourly demand for each neighborhood in NYC"
   ]
  },
  {
   "cell_type": "code",
   "execution_count": 251,
   "metadata": {},
   "outputs": [],
   "source": [
    "tips_df_all.to_parquet('gcs://nyc-taxi-data-2018-2019/nyc_neighborhoods/yellow_neigh_tips_hourly.parquet')"
   ]
  },
  {
   "cell_type": "code",
   "execution_count": 252,
   "metadata": {},
   "outputs": [],
   "source": [
    "tips_df_all.to_csv('gcs://nyc-taxi-data-2018-2019/nyc_neighborhoods/yellow_neigh_tips_hourly.csv')"
   ]
  },
  {
   "cell_type": "code",
   "execution_count": 236,
   "metadata": {
    "collapsed": true
   },
   "outputs": [
    {
     "data": {
      "text/html": [
       "<div>\n",
       "<style scoped>\n",
       "    .dataframe tbody tr th:only-of-type {\n",
       "        vertical-align: middle;\n",
       "    }\n",
       "\n",
       "    .dataframe tbody tr th {\n",
       "        vertical-align: top;\n",
       "    }\n",
       "\n",
       "    .dataframe thead th {\n",
       "        text-align: right;\n",
       "    }\n",
       "</style>\n",
       "<table border=\"1\" class=\"dataframe\">\n",
       "  <thead>\n",
       "    <tr style=\"text-align: right;\">\n",
       "      <th></th>\n",
       "      <th>1</th>\n",
       "      <th>2</th>\n",
       "      <th>3</th>\n",
       "      <th>4</th>\n",
       "      <th>5</th>\n",
       "      <th>6</th>\n",
       "      <th>7</th>\n",
       "      <th>8</th>\n",
       "      <th>9</th>\n",
       "      <th>10</th>\n",
       "      <th>...</th>\n",
       "      <th>259</th>\n",
       "      <th>260</th>\n",
       "      <th>261</th>\n",
       "      <th>262</th>\n",
       "      <th>263</th>\n",
       "      <th>264</th>\n",
       "      <th>265</th>\n",
       "      <th>110</th>\n",
       "      <th>104</th>\n",
       "      <th>99</th>\n",
       "    </tr>\n",
       "    <tr>\n",
       "      <th>ds</th>\n",
       "      <th></th>\n",
       "      <th></th>\n",
       "      <th></th>\n",
       "      <th></th>\n",
       "      <th></th>\n",
       "      <th></th>\n",
       "      <th></th>\n",
       "      <th></th>\n",
       "      <th></th>\n",
       "      <th></th>\n",
       "      <th></th>\n",
       "      <th></th>\n",
       "      <th></th>\n",
       "      <th></th>\n",
       "      <th></th>\n",
       "      <th></th>\n",
       "      <th></th>\n",
       "      <th></th>\n",
       "      <th></th>\n",
       "      <th></th>\n",
       "      <th></th>\n",
       "    </tr>\n",
       "  </thead>\n",
       "  <tbody>\n",
       "    <tr>\n",
       "      <th>2018-01-14 09:00:00</th>\n",
       "      <td>NaN</td>\n",
       "      <td>NaN</td>\n",
       "      <td>NaN</td>\n",
       "      <td>NaN</td>\n",
       "      <td>NaN</td>\n",
       "      <td>NaN</td>\n",
       "      <td>NaN</td>\n",
       "      <td>NaN</td>\n",
       "      <td>NaN</td>\n",
       "      <td>NaN</td>\n",
       "      <td>...</td>\n",
       "      <td>NaN</td>\n",
       "      <td>NaN</td>\n",
       "      <td>NaN</td>\n",
       "      <td>NaN</td>\n",
       "      <td>NaN</td>\n",
       "      <td>NaN</td>\n",
       "      <td>NaN</td>\n",
       "      <td>NaN</td>\n",
       "      <td>NaN</td>\n",
       "      <td>NaN</td>\n",
       "    </tr>\n",
       "    <tr>\n",
       "      <th>2018-01-14 10:00:00</th>\n",
       "      <td>NaN</td>\n",
       "      <td>NaN</td>\n",
       "      <td>NaN</td>\n",
       "      <td>NaN</td>\n",
       "      <td>NaN</td>\n",
       "      <td>NaN</td>\n",
       "      <td>NaN</td>\n",
       "      <td>NaN</td>\n",
       "      <td>NaN</td>\n",
       "      <td>NaN</td>\n",
       "      <td>...</td>\n",
       "      <td>NaN</td>\n",
       "      <td>NaN</td>\n",
       "      <td>NaN</td>\n",
       "      <td>NaN</td>\n",
       "      <td>NaN</td>\n",
       "      <td>NaN</td>\n",
       "      <td>NaN</td>\n",
       "      <td>NaN</td>\n",
       "      <td>NaN</td>\n",
       "      <td>NaN</td>\n",
       "    </tr>\n",
       "    <tr>\n",
       "      <th>2018-01-14 11:00:00</th>\n",
       "      <td>NaN</td>\n",
       "      <td>NaN</td>\n",
       "      <td>NaN</td>\n",
       "      <td>NaN</td>\n",
       "      <td>NaN</td>\n",
       "      <td>NaN</td>\n",
       "      <td>NaN</td>\n",
       "      <td>NaN</td>\n",
       "      <td>NaN</td>\n",
       "      <td>NaN</td>\n",
       "      <td>...</td>\n",
       "      <td>NaN</td>\n",
       "      <td>NaN</td>\n",
       "      <td>NaN</td>\n",
       "      <td>NaN</td>\n",
       "      <td>NaN</td>\n",
       "      <td>NaN</td>\n",
       "      <td>NaN</td>\n",
       "      <td>NaN</td>\n",
       "      <td>NaN</td>\n",
       "      <td>NaN</td>\n",
       "    </tr>\n",
       "    <tr>\n",
       "      <th>2018-01-14 12:00:00</th>\n",
       "      <td>NaN</td>\n",
       "      <td>NaN</td>\n",
       "      <td>NaN</td>\n",
       "      <td>NaN</td>\n",
       "      <td>NaN</td>\n",
       "      <td>NaN</td>\n",
       "      <td>NaN</td>\n",
       "      <td>NaN</td>\n",
       "      <td>NaN</td>\n",
       "      <td>NaN</td>\n",
       "      <td>...</td>\n",
       "      <td>NaN</td>\n",
       "      <td>NaN</td>\n",
       "      <td>0.119048</td>\n",
       "      <td>NaN</td>\n",
       "      <td>NaN</td>\n",
       "      <td>NaN</td>\n",
       "      <td>NaN</td>\n",
       "      <td>NaN</td>\n",
       "      <td>NaN</td>\n",
       "      <td>NaN</td>\n",
       "    </tr>\n",
       "    <tr>\n",
       "      <th>2018-01-14 14:00:00</th>\n",
       "      <td>NaN</td>\n",
       "      <td>NaN</td>\n",
       "      <td>NaN</td>\n",
       "      <td>NaN</td>\n",
       "      <td>NaN</td>\n",
       "      <td>NaN</td>\n",
       "      <td>NaN</td>\n",
       "      <td>NaN</td>\n",
       "      <td>NaN</td>\n",
       "      <td>NaN</td>\n",
       "      <td>...</td>\n",
       "      <td>NaN</td>\n",
       "      <td>NaN</td>\n",
       "      <td>NaN</td>\n",
       "      <td>NaN</td>\n",
       "      <td>NaN</td>\n",
       "      <td>NaN</td>\n",
       "      <td>NaN</td>\n",
       "      <td>NaN</td>\n",
       "      <td>NaN</td>\n",
       "      <td>NaN</td>\n",
       "    </tr>\n",
       "    <tr>\n",
       "      <th>...</th>\n",
       "      <td>...</td>\n",
       "      <td>...</td>\n",
       "      <td>...</td>\n",
       "      <td>...</td>\n",
       "      <td>...</td>\n",
       "      <td>...</td>\n",
       "      <td>...</td>\n",
       "      <td>...</td>\n",
       "      <td>...</td>\n",
       "      <td>...</td>\n",
       "      <td>...</td>\n",
       "      <td>...</td>\n",
       "      <td>...</td>\n",
       "      <td>...</td>\n",
       "      <td>...</td>\n",
       "      <td>...</td>\n",
       "      <td>...</td>\n",
       "      <td>...</td>\n",
       "      <td>...</td>\n",
       "      <td>...</td>\n",
       "      <td>...</td>\n",
       "    </tr>\n",
       "    <tr>\n",
       "      <th>2018-12-31 19:00:00</th>\n",
       "      <td>NaN</td>\n",
       "      <td>NaN</td>\n",
       "      <td>NaN</td>\n",
       "      <td>0.094064</td>\n",
       "      <td>NaN</td>\n",
       "      <td>NaN</td>\n",
       "      <td>0.039637</td>\n",
       "      <td>NaN</td>\n",
       "      <td>NaN</td>\n",
       "      <td>0.041667</td>\n",
       "      <td>...</td>\n",
       "      <td>NaN</td>\n",
       "      <td>0.012821</td>\n",
       "      <td>0.060119</td>\n",
       "      <td>0.118331</td>\n",
       "      <td>0.115356</td>\n",
       "      <td>0.097020</td>\n",
       "      <td>0.097262</td>\n",
       "      <td>NaN</td>\n",
       "      <td>NaN</td>\n",
       "      <td>NaN</td>\n",
       "    </tr>\n",
       "    <tr>\n",
       "      <th>2018-12-31 20:00:00</th>\n",
       "      <td>0.0</td>\n",
       "      <td>NaN</td>\n",
       "      <td>NaN</td>\n",
       "      <td>0.084422</td>\n",
       "      <td>NaN</td>\n",
       "      <td>NaN</td>\n",
       "      <td>0.051567</td>\n",
       "      <td>0.166643</td>\n",
       "      <td>NaN</td>\n",
       "      <td>0.058636</td>\n",
       "      <td>...</td>\n",
       "      <td>NaN</td>\n",
       "      <td>0.033186</td>\n",
       "      <td>0.071446</td>\n",
       "      <td>0.104504</td>\n",
       "      <td>0.112729</td>\n",
       "      <td>0.093481</td>\n",
       "      <td>0.068175</td>\n",
       "      <td>NaN</td>\n",
       "      <td>NaN</td>\n",
       "      <td>NaN</td>\n",
       "    </tr>\n",
       "    <tr>\n",
       "      <th>2018-12-31 21:00:00</th>\n",
       "      <td>NaN</td>\n",
       "      <td>NaN</td>\n",
       "      <td>NaN</td>\n",
       "      <td>0.094647</td>\n",
       "      <td>NaN</td>\n",
       "      <td>0.0</td>\n",
       "      <td>0.080819</td>\n",
       "      <td>NaN</td>\n",
       "      <td>NaN</td>\n",
       "      <td>0.000000</td>\n",
       "      <td>...</td>\n",
       "      <td>0.0</td>\n",
       "      <td>0.035173</td>\n",
       "      <td>0.080928</td>\n",
       "      <td>0.102657</td>\n",
       "      <td>0.108853</td>\n",
       "      <td>0.100636</td>\n",
       "      <td>0.103136</td>\n",
       "      <td>NaN</td>\n",
       "      <td>NaN</td>\n",
       "      <td>NaN</td>\n",
       "    </tr>\n",
       "    <tr>\n",
       "      <th>2018-12-31 22:00:00</th>\n",
       "      <td>NaN</td>\n",
       "      <td>NaN</td>\n",
       "      <td>NaN</td>\n",
       "      <td>0.085417</td>\n",
       "      <td>NaN</td>\n",
       "      <td>NaN</td>\n",
       "      <td>0.042002</td>\n",
       "      <td>0.200000</td>\n",
       "      <td>NaN</td>\n",
       "      <td>0.041667</td>\n",
       "      <td>...</td>\n",
       "      <td>0.0</td>\n",
       "      <td>0.095208</td>\n",
       "      <td>0.112565</td>\n",
       "      <td>0.111896</td>\n",
       "      <td>0.096130</td>\n",
       "      <td>0.092504</td>\n",
       "      <td>0.082059</td>\n",
       "      <td>NaN</td>\n",
       "      <td>NaN</td>\n",
       "      <td>NaN</td>\n",
       "    </tr>\n",
       "    <tr>\n",
       "      <th>2018-12-31 23:00:00</th>\n",
       "      <td>NaN</td>\n",
       "      <td>NaN</td>\n",
       "      <td>NaN</td>\n",
       "      <td>0.056729</td>\n",
       "      <td>NaN</td>\n",
       "      <td>NaN</td>\n",
       "      <td>0.023810</td>\n",
       "      <td>NaN</td>\n",
       "      <td>NaN</td>\n",
       "      <td>0.000000</td>\n",
       "      <td>...</td>\n",
       "      <td>0.0</td>\n",
       "      <td>0.151821</td>\n",
       "      <td>0.061391</td>\n",
       "      <td>0.089674</td>\n",
       "      <td>0.092415</td>\n",
       "      <td>0.088699</td>\n",
       "      <td>0.142140</td>\n",
       "      <td>NaN</td>\n",
       "      <td>NaN</td>\n",
       "      <td>NaN</td>\n",
       "    </tr>\n",
       "  </tbody>\n",
       "</table>\n",
       "<p>8187 rows × 264 columns</p>\n",
       "</div>"
      ],
      "text/plain": [
       "                       1   2   3         4   5    6         7         8   9  \\\n",
       "ds                                                                            \n",
       "2018-01-14 09:00:00  NaN NaN NaN       NaN NaN  NaN       NaN       NaN NaN   \n",
       "2018-01-14 10:00:00  NaN NaN NaN       NaN NaN  NaN       NaN       NaN NaN   \n",
       "2018-01-14 11:00:00  NaN NaN NaN       NaN NaN  NaN       NaN       NaN NaN   \n",
       "2018-01-14 12:00:00  NaN NaN NaN       NaN NaN  NaN       NaN       NaN NaN   \n",
       "2018-01-14 14:00:00  NaN NaN NaN       NaN NaN  NaN       NaN       NaN NaN   \n",
       "...                  ...  ..  ..       ...  ..  ...       ...       ...  ..   \n",
       "2018-12-31 19:00:00  NaN NaN NaN  0.094064 NaN  NaN  0.039637       NaN NaN   \n",
       "2018-12-31 20:00:00  0.0 NaN NaN  0.084422 NaN  NaN  0.051567  0.166643 NaN   \n",
       "2018-12-31 21:00:00  NaN NaN NaN  0.094647 NaN  0.0  0.080819       NaN NaN   \n",
       "2018-12-31 22:00:00  NaN NaN NaN  0.085417 NaN  NaN  0.042002  0.200000 NaN   \n",
       "2018-12-31 23:00:00  NaN NaN NaN  0.056729 NaN  NaN  0.023810       NaN NaN   \n",
       "\n",
       "                           10  ...  259       260       261       262  \\\n",
       "ds                             ...                                      \n",
       "2018-01-14 09:00:00       NaN  ...  NaN       NaN       NaN       NaN   \n",
       "2018-01-14 10:00:00       NaN  ...  NaN       NaN       NaN       NaN   \n",
       "2018-01-14 11:00:00       NaN  ...  NaN       NaN       NaN       NaN   \n",
       "2018-01-14 12:00:00       NaN  ...  NaN       NaN  0.119048       NaN   \n",
       "2018-01-14 14:00:00       NaN  ...  NaN       NaN       NaN       NaN   \n",
       "...                       ...  ...  ...       ...       ...       ...   \n",
       "2018-12-31 19:00:00  0.041667  ...  NaN  0.012821  0.060119  0.118331   \n",
       "2018-12-31 20:00:00  0.058636  ...  NaN  0.033186  0.071446  0.104504   \n",
       "2018-12-31 21:00:00  0.000000  ...  0.0  0.035173  0.080928  0.102657   \n",
       "2018-12-31 22:00:00  0.041667  ...  0.0  0.095208  0.112565  0.111896   \n",
       "2018-12-31 23:00:00  0.000000  ...  0.0  0.151821  0.061391  0.089674   \n",
       "\n",
       "                          263       264       265  110  104  99  \n",
       "ds                                                               \n",
       "2018-01-14 09:00:00       NaN       NaN       NaN  NaN  NaN NaN  \n",
       "2018-01-14 10:00:00       NaN       NaN       NaN  NaN  NaN NaN  \n",
       "2018-01-14 11:00:00       NaN       NaN       NaN  NaN  NaN NaN  \n",
       "2018-01-14 12:00:00       NaN       NaN       NaN  NaN  NaN NaN  \n",
       "2018-01-14 14:00:00       NaN       NaN       NaN  NaN  NaN NaN  \n",
       "...                       ...       ...       ...  ...  ...  ..  \n",
       "2018-12-31 19:00:00  0.115356  0.097020  0.097262  NaN  NaN NaN  \n",
       "2018-12-31 20:00:00  0.112729  0.093481  0.068175  NaN  NaN NaN  \n",
       "2018-12-31 21:00:00  0.108853  0.100636  0.103136  NaN  NaN NaN  \n",
       "2018-12-31 22:00:00  0.096130  0.092504  0.082059  NaN  NaN NaN  \n",
       "2018-12-31 23:00:00  0.092415  0.088699  0.142140  NaN  NaN NaN  \n",
       "\n",
       "[8187 rows x 264 columns]"
      ]
     },
     "execution_count": 236,
     "metadata": {},
     "output_type": "execute_result"
    }
   ],
   "source": [
    "tips_df_all"
   ]
  },
  {
   "cell_type": "markdown",
   "metadata": {},
   "source": [
    "### Hourly average trip distance in 2018"
   ]
  },
  {
   "cell_type": "markdown",
   "metadata": {},
   "source": [
    "Opening demand files for all months"
   ]
  },
  {
   "cell_type": "code",
   "execution_count": 238,
   "metadata": {
    "collapsed": true
   },
   "outputs": [
    {
     "data": {
      "text/plain": [
       "['gcs://nyc-taxi-data-2018-2019/nyc_neighborhoods/yellow_neigh_trip_2018-01.parquet',\n",
       " 'gcs://nyc-taxi-data-2018-2019/nyc_neighborhoods/yellow_neigh_trip_2018-02.parquet',\n",
       " 'gcs://nyc-taxi-data-2018-2019/nyc_neighborhoods/yellow_neigh_trip_2018-03.parquet',\n",
       " 'gcs://nyc-taxi-data-2018-2019/nyc_neighborhoods/yellow_neigh_trip_2018-04.parquet',\n",
       " 'gcs://nyc-taxi-data-2018-2019/nyc_neighborhoods/yellow_neigh_trip_2018-05.parquet',\n",
       " 'gcs://nyc-taxi-data-2018-2019/nyc_neighborhoods/yellow_neigh_trip_2018-06.parquet',\n",
       " 'gcs://nyc-taxi-data-2018-2019/nyc_neighborhoods/yellow_neigh_trip_2018-07.parquet',\n",
       " 'gcs://nyc-taxi-data-2018-2019/nyc_neighborhoods/yellow_neigh_trip_2018-08.parquet',\n",
       " 'gcs://nyc-taxi-data-2018-2019/nyc_neighborhoods/yellow_neigh_trip_2018-09.parquet',\n",
       " 'gcs://nyc-taxi-data-2018-2019/nyc_neighborhoods/yellow_neigh_trip_2018-10.parquet',\n",
       " 'gcs://nyc-taxi-data-2018-2019/nyc_neighborhoods/yellow_neigh_trip_2018-11.parquet',\n",
       " 'gcs://nyc-taxi-data-2018-2019/nyc_neighborhoods/yellow_neigh_trip_2018-12.parquet']"
      ]
     },
     "execution_count": 238,
     "metadata": {},
     "output_type": "execute_result"
    }
   ],
   "source": [
    "filelist = gcs.glob('nyc-taxi-data-2018-2019/nyc_neighborhoods/yellow_neigh_trip_*.parquet')\n",
    "filelist_gcs = ['gcs://' + x for x in filelist]\n",
    "filelist_gcs"
   ]
  },
  {
   "cell_type": "code",
   "execution_count": 239,
   "metadata": {
    "collapsed": true
   },
   "outputs": [
    {
     "data": {
      "text/html": [
       "<div>\n",
       "<style scoped>\n",
       "    .dataframe tbody tr th:only-of-type {\n",
       "        vertical-align: middle;\n",
       "    }\n",
       "\n",
       "    .dataframe tbody tr th {\n",
       "        vertical-align: top;\n",
       "    }\n",
       "\n",
       "    .dataframe thead th {\n",
       "        text-align: right;\n",
       "    }\n",
       "</style>\n",
       "<table border=\"1\" class=\"dataframe\">\n",
       "  <thead>\n",
       "    <tr style=\"text-align: right;\">\n",
       "      <th></th>\n",
       "      <th>ds</th>\n",
       "      <th>1</th>\n",
       "      <th>2</th>\n",
       "      <th>3</th>\n",
       "      <th>4</th>\n",
       "      <th>5</th>\n",
       "      <th>6</th>\n",
       "      <th>7</th>\n",
       "      <th>8</th>\n",
       "      <th>9</th>\n",
       "      <th>...</th>\n",
       "      <th>256</th>\n",
       "      <th>257</th>\n",
       "      <th>258</th>\n",
       "      <th>259</th>\n",
       "      <th>260</th>\n",
       "      <th>261</th>\n",
       "      <th>262</th>\n",
       "      <th>263</th>\n",
       "      <th>264</th>\n",
       "      <th>265</th>\n",
       "    </tr>\n",
       "  </thead>\n",
       "  <tbody>\n",
       "    <tr>\n",
       "      <th>0</th>\n",
       "      <td>2001-01-05 11</td>\n",
       "      <td>NaN</td>\n",
       "      <td>NaN</td>\n",
       "      <td>NaN</td>\n",
       "      <td>NaN</td>\n",
       "      <td>NaN</td>\n",
       "      <td>NaN</td>\n",
       "      <td>NaN</td>\n",
       "      <td>NaN</td>\n",
       "      <td>NaN</td>\n",
       "      <td>...</td>\n",
       "      <td>NaN</td>\n",
       "      <td>NaN</td>\n",
       "      <td>NaN</td>\n",
       "      <td>NaN</td>\n",
       "      <td>NaN</td>\n",
       "      <td>NaN</td>\n",
       "      <td>NaN</td>\n",
       "      <td>NaN</td>\n",
       "      <td>NaN</td>\n",
       "      <td>NaN</td>\n",
       "    </tr>\n",
       "    <tr>\n",
       "      <th>1</th>\n",
       "      <td>2002-12-31 23</td>\n",
       "      <td>NaN</td>\n",
       "      <td>NaN</td>\n",
       "      <td>NaN</td>\n",
       "      <td>NaN</td>\n",
       "      <td>NaN</td>\n",
       "      <td>NaN</td>\n",
       "      <td>NaN</td>\n",
       "      <td>NaN</td>\n",
       "      <td>NaN</td>\n",
       "      <td>...</td>\n",
       "      <td>NaN</td>\n",
       "      <td>NaN</td>\n",
       "      <td>NaN</td>\n",
       "      <td>NaN</td>\n",
       "      <td>NaN</td>\n",
       "      <td>NaN</td>\n",
       "      <td>NaN</td>\n",
       "      <td>NaN</td>\n",
       "      <td>0.89</td>\n",
       "      <td>NaN</td>\n",
       "    </tr>\n",
       "    <tr>\n",
       "      <th>2</th>\n",
       "      <td>2003-01-01 00</td>\n",
       "      <td>NaN</td>\n",
       "      <td>NaN</td>\n",
       "      <td>NaN</td>\n",
       "      <td>NaN</td>\n",
       "      <td>NaN</td>\n",
       "      <td>NaN</td>\n",
       "      <td>NaN</td>\n",
       "      <td>NaN</td>\n",
       "      <td>NaN</td>\n",
       "      <td>...</td>\n",
       "      <td>NaN</td>\n",
       "      <td>NaN</td>\n",
       "      <td>NaN</td>\n",
       "      <td>NaN</td>\n",
       "      <td>NaN</td>\n",
       "      <td>NaN</td>\n",
       "      <td>NaN</td>\n",
       "      <td>NaN</td>\n",
       "      <td>NaN</td>\n",
       "      <td>NaN</td>\n",
       "    </tr>\n",
       "    <tr>\n",
       "      <th>3</th>\n",
       "      <td>2003-01-01 01</td>\n",
       "      <td>NaN</td>\n",
       "      <td>NaN</td>\n",
       "      <td>NaN</td>\n",
       "      <td>NaN</td>\n",
       "      <td>NaN</td>\n",
       "      <td>NaN</td>\n",
       "      <td>NaN</td>\n",
       "      <td>NaN</td>\n",
       "      <td>NaN</td>\n",
       "      <td>...</td>\n",
       "      <td>NaN</td>\n",
       "      <td>NaN</td>\n",
       "      <td>NaN</td>\n",
       "      <td>NaN</td>\n",
       "      <td>NaN</td>\n",
       "      <td>NaN</td>\n",
       "      <td>NaN</td>\n",
       "      <td>NaN</td>\n",
       "      <td>NaN</td>\n",
       "      <td>NaN</td>\n",
       "    </tr>\n",
       "    <tr>\n",
       "      <th>4</th>\n",
       "      <td>2003-01-01 04</td>\n",
       "      <td>NaN</td>\n",
       "      <td>NaN</td>\n",
       "      <td>NaN</td>\n",
       "      <td>NaN</td>\n",
       "      <td>NaN</td>\n",
       "      <td>NaN</td>\n",
       "      <td>NaN</td>\n",
       "      <td>NaN</td>\n",
       "      <td>NaN</td>\n",
       "      <td>...</td>\n",
       "      <td>NaN</td>\n",
       "      <td>NaN</td>\n",
       "      <td>NaN</td>\n",
       "      <td>NaN</td>\n",
       "      <td>NaN</td>\n",
       "      <td>NaN</td>\n",
       "      <td>NaN</td>\n",
       "      <td>NaN</td>\n",
       "      <td>NaN</td>\n",
       "      <td>NaN</td>\n",
       "    </tr>\n",
       "    <tr>\n",
       "      <th>...</th>\n",
       "      <td>...</td>\n",
       "      <td>...</td>\n",
       "      <td>...</td>\n",
       "      <td>...</td>\n",
       "      <td>...</td>\n",
       "      <td>...</td>\n",
       "      <td>...</td>\n",
       "      <td>...</td>\n",
       "      <td>...</td>\n",
       "      <td>...</td>\n",
       "      <td>...</td>\n",
       "      <td>...</td>\n",
       "      <td>...</td>\n",
       "      <td>...</td>\n",
       "      <td>...</td>\n",
       "      <td>...</td>\n",
       "      <td>...</td>\n",
       "      <td>...</td>\n",
       "      <td>...</td>\n",
       "      <td>...</td>\n",
       "      <td>...</td>\n",
       "    </tr>\n",
       "    <tr>\n",
       "      <th>789</th>\n",
       "      <td>2018-02-01 21</td>\n",
       "      <td>NaN</td>\n",
       "      <td>NaN</td>\n",
       "      <td>NaN</td>\n",
       "      <td>NaN</td>\n",
       "      <td>NaN</td>\n",
       "      <td>NaN</td>\n",
       "      <td>NaN</td>\n",
       "      <td>NaN</td>\n",
       "      <td>NaN</td>\n",
       "      <td>...</td>\n",
       "      <td>NaN</td>\n",
       "      <td>NaN</td>\n",
       "      <td>NaN</td>\n",
       "      <td>NaN</td>\n",
       "      <td>NaN</td>\n",
       "      <td>NaN</td>\n",
       "      <td>NaN</td>\n",
       "      <td>NaN</td>\n",
       "      <td>NaN</td>\n",
       "      <td>NaN</td>\n",
       "    </tr>\n",
       "    <tr>\n",
       "      <th>790</th>\n",
       "      <td>2018-02-01 23</td>\n",
       "      <td>NaN</td>\n",
       "      <td>NaN</td>\n",
       "      <td>NaN</td>\n",
       "      <td>NaN</td>\n",
       "      <td>NaN</td>\n",
       "      <td>NaN</td>\n",
       "      <td>NaN</td>\n",
       "      <td>NaN</td>\n",
       "      <td>NaN</td>\n",
       "      <td>...</td>\n",
       "      <td>NaN</td>\n",
       "      <td>NaN</td>\n",
       "      <td>NaN</td>\n",
       "      <td>NaN</td>\n",
       "      <td>NaN</td>\n",
       "      <td>NaN</td>\n",
       "      <td>NaN</td>\n",
       "      <td>NaN</td>\n",
       "      <td>NaN</td>\n",
       "      <td>NaN</td>\n",
       "    </tr>\n",
       "    <tr>\n",
       "      <th>791</th>\n",
       "      <td>2018-07-27 02</td>\n",
       "      <td>NaN</td>\n",
       "      <td>NaN</td>\n",
       "      <td>NaN</td>\n",
       "      <td>NaN</td>\n",
       "      <td>NaN</td>\n",
       "      <td>NaN</td>\n",
       "      <td>NaN</td>\n",
       "      <td>NaN</td>\n",
       "      <td>NaN</td>\n",
       "      <td>...</td>\n",
       "      <td>NaN</td>\n",
       "      <td>NaN</td>\n",
       "      <td>NaN</td>\n",
       "      <td>NaN</td>\n",
       "      <td>NaN</td>\n",
       "      <td>NaN</td>\n",
       "      <td>NaN</td>\n",
       "      <td>NaN</td>\n",
       "      <td>NaN</td>\n",
       "      <td>NaN</td>\n",
       "    </tr>\n",
       "    <tr>\n",
       "      <th>792</th>\n",
       "      <td>2018-07-27 03</td>\n",
       "      <td>NaN</td>\n",
       "      <td>NaN</td>\n",
       "      <td>NaN</td>\n",
       "      <td>NaN</td>\n",
       "      <td>NaN</td>\n",
       "      <td>NaN</td>\n",
       "      <td>NaN</td>\n",
       "      <td>NaN</td>\n",
       "      <td>NaN</td>\n",
       "      <td>...</td>\n",
       "      <td>NaN</td>\n",
       "      <td>NaN</td>\n",
       "      <td>NaN</td>\n",
       "      <td>NaN</td>\n",
       "      <td>NaN</td>\n",
       "      <td>NaN</td>\n",
       "      <td>NaN</td>\n",
       "      <td>NaN</td>\n",
       "      <td>NaN</td>\n",
       "      <td>NaN</td>\n",
       "    </tr>\n",
       "    <tr>\n",
       "      <th>793</th>\n",
       "      <td>2018-07-27 04</td>\n",
       "      <td>NaN</td>\n",
       "      <td>NaN</td>\n",
       "      <td>NaN</td>\n",
       "      <td>NaN</td>\n",
       "      <td>NaN</td>\n",
       "      <td>NaN</td>\n",
       "      <td>NaN</td>\n",
       "      <td>NaN</td>\n",
       "      <td>NaN</td>\n",
       "      <td>...</td>\n",
       "      <td>NaN</td>\n",
       "      <td>NaN</td>\n",
       "      <td>NaN</td>\n",
       "      <td>NaN</td>\n",
       "      <td>NaN</td>\n",
       "      <td>NaN</td>\n",
       "      <td>NaN</td>\n",
       "      <td>NaN</td>\n",
       "      <td>NaN</td>\n",
       "      <td>NaN</td>\n",
       "    </tr>\n",
       "  </tbody>\n",
       "</table>\n",
       "<p>794 rows × 260 columns</p>\n",
       "</div>"
      ],
      "text/plain": [
       "                ds   1   2   3   4   5   6   7   8   9  ...  256  257  258  \\\n",
       "0    2001-01-05 11 NaN NaN NaN NaN NaN NaN NaN NaN NaN  ...  NaN  NaN  NaN   \n",
       "1    2002-12-31 23 NaN NaN NaN NaN NaN NaN NaN NaN NaN  ...  NaN  NaN  NaN   \n",
       "2    2003-01-01 00 NaN NaN NaN NaN NaN NaN NaN NaN NaN  ...  NaN  NaN  NaN   \n",
       "3    2003-01-01 01 NaN NaN NaN NaN NaN NaN NaN NaN NaN  ...  NaN  NaN  NaN   \n",
       "4    2003-01-01 04 NaN NaN NaN NaN NaN NaN NaN NaN NaN  ...  NaN  NaN  NaN   \n",
       "..             ...  ..  ..  ..  ..  ..  ..  ..  ..  ..  ...  ...  ...  ...   \n",
       "789  2018-02-01 21 NaN NaN NaN NaN NaN NaN NaN NaN NaN  ...  NaN  NaN  NaN   \n",
       "790  2018-02-01 23 NaN NaN NaN NaN NaN NaN NaN NaN NaN  ...  NaN  NaN  NaN   \n",
       "791  2018-07-27 02 NaN NaN NaN NaN NaN NaN NaN NaN NaN  ...  NaN  NaN  NaN   \n",
       "792  2018-07-27 03 NaN NaN NaN NaN NaN NaN NaN NaN NaN  ...  NaN  NaN  NaN   \n",
       "793  2018-07-27 04 NaN NaN NaN NaN NaN NaN NaN NaN NaN  ...  NaN  NaN  NaN   \n",
       "\n",
       "     259  260  261  262  263   264  265  \n",
       "0    NaN  NaN  NaN  NaN  NaN   NaN  NaN  \n",
       "1    NaN  NaN  NaN  NaN  NaN  0.89  NaN  \n",
       "2    NaN  NaN  NaN  NaN  NaN   NaN  NaN  \n",
       "3    NaN  NaN  NaN  NaN  NaN   NaN  NaN  \n",
       "4    NaN  NaN  NaN  NaN  NaN   NaN  NaN  \n",
       "..   ...  ...  ...  ...  ...   ...  ...  \n",
       "789  NaN  NaN  NaN  NaN  NaN   NaN  NaN  \n",
       "790  NaN  NaN  NaN  NaN  NaN   NaN  NaN  \n",
       "791  NaN  NaN  NaN  NaN  NaN   NaN  NaN  \n",
       "792  NaN  NaN  NaN  NaN  NaN   NaN  NaN  \n",
       "793  NaN  NaN  NaN  NaN  NaN   NaN  NaN  \n",
       "\n",
       "[794 rows x 260 columns]"
      ]
     },
     "execution_count": 239,
     "metadata": {},
     "output_type": "execute_result"
    }
   ],
   "source": [
    "dd.read_parquet('gcs://nyc-taxi-data-2018-2019/nyc_neighborhoods/yellow_neigh_trip_2018-01.parquet').compute()"
   ]
  },
  {
   "cell_type": "markdown",
   "metadata": {},
   "source": [
    "All months have additional rows with misleading dates, that's why I will strip from each month information about different dates"
   ]
  },
  {
   "cell_type": "code",
   "execution_count": 240,
   "metadata": {},
   "outputs": [],
   "source": [
    "trip_df_all = dd.read_parquet('gcs://nyc-taxi-data-2018-2019/nyc_neighborhoods/yellow_neigh_trip_2018-01.parquet')\n",
    "trip_df_all = trip_df_all[(trip_df_all.ds >= '2018-01') & (trip_df_all.ds < '2018-02')]"
   ]
  },
  {
   "cell_type": "markdown",
   "metadata": {},
   "source": [
    "Looping to open and concat each month to one dataframe"
   ]
  },
  {
   "cell_type": "code",
   "execution_count": 241,
   "metadata": {},
   "outputs": [],
   "source": [
    "Looping to open and concat each month to one dataframefor idx, file in enumerate(filelist_gcs[1:-1]):\n",
    "    df = dd.read_parquet(file)\n",
    "    month_1 = months[idx+1]\n",
    "    month_2 = months[idx+2]\n",
    "    df = df[(df.ds >= f'2018-{month_1}') & (df.ds < f'2018-{month_2}')]\n",
    "    trip_df_all = dd.concat([trip_df_all,df])"
   ]
  },
  {
   "cell_type": "code",
   "execution_count": 242,
   "metadata": {},
   "outputs": [],
   "source": [
    "df = dd.read_parquet(filelist_gcs[-1])\n",
    "df = df[(df.ds >= f'2018-12') & (df.ds < f'2019-01')]"
   ]
  },
  {
   "cell_type": "code",
   "execution_count": 244,
   "metadata": {},
   "outputs": [],
   "source": [
    "trip_df_all = dd.concat([trip_df_all,df])"
   ]
  },
  {
   "cell_type": "code",
   "execution_count": 245,
   "metadata": {},
   "outputs": [],
   "source": [
    "trip_df_all = trip_df_all.compute()"
   ]
  },
  {
   "cell_type": "code",
   "execution_count": 246,
   "metadata": {},
   "outputs": [],
   "source": [
    "trip_df_all.ds = pd.to_datetime(trip_df_all.ds)"
   ]
  },
  {
   "cell_type": "code",
   "execution_count": 247,
   "metadata": {},
   "outputs": [],
   "source": [
    "trip_df_all = trip_df_all.set_index('ds')"
   ]
  },
  {
   "cell_type": "markdown",
   "metadata": {},
   "source": [
    "Saving ready file with hourly demand for each neighborhood in NYC"
   ]
  },
  {
   "cell_type": "code",
   "execution_count": 248,
   "metadata": {},
   "outputs": [],
   "source": [
    "trip_df_all.to_parquet('gcs://nyc-taxi-data-2018-2019/nyc_neighborhoods/yellow_neigh_trip_hourly.parquet')"
   ]
  },
  {
   "cell_type": "code",
   "execution_count": 249,
   "metadata": {},
   "outputs": [],
   "source": [
    "trip_df_all.to_csv('gcs://nyc-taxi-data-2018-2019/nyc_neighborhoods/yellow_neigh_trip_hourly.csv')"
   ]
  },
  {
   "cell_type": "code",
   "execution_count": 250,
   "metadata": {
    "collapsed": true
   },
   "outputs": [
    {
     "data": {
      "text/html": [
       "<div>\n",
       "<style scoped>\n",
       "    .dataframe tbody tr th:only-of-type {\n",
       "        vertical-align: middle;\n",
       "    }\n",
       "\n",
       "    .dataframe tbody tr th {\n",
       "        vertical-align: top;\n",
       "    }\n",
       "\n",
       "    .dataframe thead th {\n",
       "        text-align: right;\n",
       "    }\n",
       "</style>\n",
       "<table border=\"1\" class=\"dataframe\">\n",
       "  <thead>\n",
       "    <tr style=\"text-align: right;\">\n",
       "      <th></th>\n",
       "      <th>1</th>\n",
       "      <th>2</th>\n",
       "      <th>3</th>\n",
       "      <th>4</th>\n",
       "      <th>5</th>\n",
       "      <th>6</th>\n",
       "      <th>7</th>\n",
       "      <th>8</th>\n",
       "      <th>9</th>\n",
       "      <th>10</th>\n",
       "      <th>...</th>\n",
       "      <th>261</th>\n",
       "      <th>262</th>\n",
       "      <th>263</th>\n",
       "      <th>264</th>\n",
       "      <th>265</th>\n",
       "      <th>59</th>\n",
       "      <th>172</th>\n",
       "      <th>110</th>\n",
       "      <th>104</th>\n",
       "      <th>99</th>\n",
       "    </tr>\n",
       "    <tr>\n",
       "      <th>ds</th>\n",
       "      <th></th>\n",
       "      <th></th>\n",
       "      <th></th>\n",
       "      <th></th>\n",
       "      <th></th>\n",
       "      <th></th>\n",
       "      <th></th>\n",
       "      <th></th>\n",
       "      <th></th>\n",
       "      <th></th>\n",
       "      <th></th>\n",
       "      <th></th>\n",
       "      <th></th>\n",
       "      <th></th>\n",
       "      <th></th>\n",
       "      <th></th>\n",
       "      <th></th>\n",
       "      <th></th>\n",
       "      <th></th>\n",
       "      <th></th>\n",
       "      <th></th>\n",
       "    </tr>\n",
       "  </thead>\n",
       "  <tbody>\n",
       "    <tr>\n",
       "      <th>2018-01-01 00:00:00</th>\n",
       "      <td>NaN</td>\n",
       "      <td>NaN</td>\n",
       "      <td>6.2</td>\n",
       "      <td>2.652874</td>\n",
       "      <td>NaN</td>\n",
       "      <td>NaN</td>\n",
       "      <td>2.970488</td>\n",
       "      <td>NaN</td>\n",
       "      <td>NaN</td>\n",
       "      <td>NaN</td>\n",
       "      <td>...</td>\n",
       "      <td>4.034545</td>\n",
       "      <td>2.361492</td>\n",
       "      <td>2.453485</td>\n",
       "      <td>2.433731</td>\n",
       "      <td>0.345000</td>\n",
       "      <td>NaN</td>\n",
       "      <td>NaN</td>\n",
       "      <td>NaN</td>\n",
       "      <td>NaN</td>\n",
       "      <td>NaN</td>\n",
       "    </tr>\n",
       "    <tr>\n",
       "      <th>2018-01-01 01:00:00</th>\n",
       "      <td>NaN</td>\n",
       "      <td>NaN</td>\n",
       "      <td>6.9</td>\n",
       "      <td>3.013571</td>\n",
       "      <td>NaN</td>\n",
       "      <td>NaN</td>\n",
       "      <td>3.177400</td>\n",
       "      <td>NaN</td>\n",
       "      <td>0.8</td>\n",
       "      <td>8.4700</td>\n",
       "      <td>...</td>\n",
       "      <td>4.146000</td>\n",
       "      <td>2.769487</td>\n",
       "      <td>2.529883</td>\n",
       "      <td>2.735600</td>\n",
       "      <td>0.425455</td>\n",
       "      <td>NaN</td>\n",
       "      <td>NaN</td>\n",
       "      <td>NaN</td>\n",
       "      <td>NaN</td>\n",
       "      <td>NaN</td>\n",
       "    </tr>\n",
       "    <tr>\n",
       "      <th>2018-01-01 02:00:00</th>\n",
       "      <td>NaN</td>\n",
       "      <td>NaN</td>\n",
       "      <td>NaN</td>\n",
       "      <td>3.018954</td>\n",
       "      <td>0.0</td>\n",
       "      <td>NaN</td>\n",
       "      <td>2.709398</td>\n",
       "      <td>NaN</td>\n",
       "      <td>NaN</td>\n",
       "      <td>NaN</td>\n",
       "      <td>...</td>\n",
       "      <td>5.358519</td>\n",
       "      <td>2.782340</td>\n",
       "      <td>2.428959</td>\n",
       "      <td>2.709448</td>\n",
       "      <td>2.988500</td>\n",
       "      <td>NaN</td>\n",
       "      <td>NaN</td>\n",
       "      <td>NaN</td>\n",
       "      <td>NaN</td>\n",
       "      <td>NaN</td>\n",
       "    </tr>\n",
       "    <tr>\n",
       "      <th>2018-01-01 03:00:00</th>\n",
       "      <td>0.01</td>\n",
       "      <td>NaN</td>\n",
       "      <td>NaN</td>\n",
       "      <td>3.301881</td>\n",
       "      <td>NaN</td>\n",
       "      <td>NaN</td>\n",
       "      <td>2.734860</td>\n",
       "      <td>NaN</td>\n",
       "      <td>NaN</td>\n",
       "      <td>30.9600</td>\n",
       "      <td>...</td>\n",
       "      <td>4.015556</td>\n",
       "      <td>2.829434</td>\n",
       "      <td>2.456787</td>\n",
       "      <td>2.873709</td>\n",
       "      <td>1.160400</td>\n",
       "      <td>NaN</td>\n",
       "      <td>NaN</td>\n",
       "      <td>NaN</td>\n",
       "      <td>NaN</td>\n",
       "      <td>NaN</td>\n",
       "    </tr>\n",
       "    <tr>\n",
       "      <th>2018-01-01 04:00:00</th>\n",
       "      <td>0.00</td>\n",
       "      <td>NaN</td>\n",
       "      <td>NaN</td>\n",
       "      <td>3.257273</td>\n",
       "      <td>NaN</td>\n",
       "      <td>NaN</td>\n",
       "      <td>3.900377</td>\n",
       "      <td>NaN</td>\n",
       "      <td>NaN</td>\n",
       "      <td>13.6000</td>\n",
       "      <td>...</td>\n",
       "      <td>5.260556</td>\n",
       "      <td>4.097083</td>\n",
       "      <td>2.741822</td>\n",
       "      <td>3.102968</td>\n",
       "      <td>4.867391</td>\n",
       "      <td>NaN</td>\n",
       "      <td>NaN</td>\n",
       "      <td>NaN</td>\n",
       "      <td>NaN</td>\n",
       "      <td>NaN</td>\n",
       "    </tr>\n",
       "    <tr>\n",
       "      <th>...</th>\n",
       "      <td>...</td>\n",
       "      <td>...</td>\n",
       "      <td>...</td>\n",
       "      <td>...</td>\n",
       "      <td>...</td>\n",
       "      <td>...</td>\n",
       "      <td>...</td>\n",
       "      <td>...</td>\n",
       "      <td>...</td>\n",
       "      <td>...</td>\n",
       "      <td>...</td>\n",
       "      <td>...</td>\n",
       "      <td>...</td>\n",
       "      <td>...</td>\n",
       "      <td>...</td>\n",
       "      <td>...</td>\n",
       "      <td>...</td>\n",
       "      <td>...</td>\n",
       "      <td>...</td>\n",
       "      <td>...</td>\n",
       "      <td>...</td>\n",
       "    </tr>\n",
       "    <tr>\n",
       "      <th>2018-12-31 19:00:00</th>\n",
       "      <td>NaN</td>\n",
       "      <td>NaN</td>\n",
       "      <td>NaN</td>\n",
       "      <td>1.946000</td>\n",
       "      <td>NaN</td>\n",
       "      <td>NaN</td>\n",
       "      <td>2.224762</td>\n",
       "      <td>NaN</td>\n",
       "      <td>NaN</td>\n",
       "      <td>11.4025</td>\n",
       "      <td>...</td>\n",
       "      <td>2.529048</td>\n",
       "      <td>2.175606</td>\n",
       "      <td>1.870330</td>\n",
       "      <td>2.357097</td>\n",
       "      <td>1.752500</td>\n",
       "      <td>NaN</td>\n",
       "      <td>NaN</td>\n",
       "      <td>NaN</td>\n",
       "      <td>NaN</td>\n",
       "      <td>NaN</td>\n",
       "    </tr>\n",
       "    <tr>\n",
       "      <th>2018-12-31 20:00:00</th>\n",
       "      <td>0.00</td>\n",
       "      <td>NaN</td>\n",
       "      <td>NaN</td>\n",
       "      <td>2.357179</td>\n",
       "      <td>NaN</td>\n",
       "      <td>NaN</td>\n",
       "      <td>2.695000</td>\n",
       "      <td>2.85</td>\n",
       "      <td>NaN</td>\n",
       "      <td>10.2800</td>\n",
       "      <td>...</td>\n",
       "      <td>2.428911</td>\n",
       "      <td>2.424087</td>\n",
       "      <td>2.103522</td>\n",
       "      <td>2.345275</td>\n",
       "      <td>2.846250</td>\n",
       "      <td>NaN</td>\n",
       "      <td>NaN</td>\n",
       "      <td>NaN</td>\n",
       "      <td>NaN</td>\n",
       "      <td>NaN</td>\n",
       "    </tr>\n",
       "    <tr>\n",
       "      <th>2018-12-31 21:00:00</th>\n",
       "      <td>NaN</td>\n",
       "      <td>NaN</td>\n",
       "      <td>NaN</td>\n",
       "      <td>2.542982</td>\n",
       "      <td>NaN</td>\n",
       "      <td>2.26</td>\n",
       "      <td>2.785667</td>\n",
       "      <td>NaN</td>\n",
       "      <td>NaN</td>\n",
       "      <td>16.3000</td>\n",
       "      <td>...</td>\n",
       "      <td>2.779167</td>\n",
       "      <td>2.437269</td>\n",
       "      <td>2.066651</td>\n",
       "      <td>2.395909</td>\n",
       "      <td>1.030000</td>\n",
       "      <td>NaN</td>\n",
       "      <td>NaN</td>\n",
       "      <td>NaN</td>\n",
       "      <td>NaN</td>\n",
       "      <td>NaN</td>\n",
       "    </tr>\n",
       "    <tr>\n",
       "      <th>2018-12-31 22:00:00</th>\n",
       "      <td>NaN</td>\n",
       "      <td>NaN</td>\n",
       "      <td>NaN</td>\n",
       "      <td>2.273684</td>\n",
       "      <td>NaN</td>\n",
       "      <td>NaN</td>\n",
       "      <td>2.980000</td>\n",
       "      <td>5.99</td>\n",
       "      <td>NaN</td>\n",
       "      <td>6.0300</td>\n",
       "      <td>...</td>\n",
       "      <td>3.583333</td>\n",
       "      <td>2.108362</td>\n",
       "      <td>2.031210</td>\n",
       "      <td>2.652500</td>\n",
       "      <td>0.600000</td>\n",
       "      <td>NaN</td>\n",
       "      <td>NaN</td>\n",
       "      <td>NaN</td>\n",
       "      <td>NaN</td>\n",
       "      <td>NaN</td>\n",
       "    </tr>\n",
       "    <tr>\n",
       "      <th>2018-12-31 23:00:00</th>\n",
       "      <td>NaN</td>\n",
       "      <td>NaN</td>\n",
       "      <td>NaN</td>\n",
       "      <td>2.308333</td>\n",
       "      <td>NaN</td>\n",
       "      <td>NaN</td>\n",
       "      <td>3.670714</td>\n",
       "      <td>NaN</td>\n",
       "      <td>NaN</td>\n",
       "      <td>1.7200</td>\n",
       "      <td>...</td>\n",
       "      <td>3.161765</td>\n",
       "      <td>2.670213</td>\n",
       "      <td>2.176825</td>\n",
       "      <td>2.576423</td>\n",
       "      <td>3.531111</td>\n",
       "      <td>4.17</td>\n",
       "      <td>NaN</td>\n",
       "      <td>NaN</td>\n",
       "      <td>NaN</td>\n",
       "      <td>NaN</td>\n",
       "    </tr>\n",
       "  </tbody>\n",
       "</table>\n",
       "<p>8760 rows × 264 columns</p>\n",
       "</div>"
      ],
      "text/plain": [
       "                        1   2    3         4    5     6         7     8    9  \\\n",
       "ds                                                                             \n",
       "2018-01-01 00:00:00   NaN NaN  6.2  2.652874  NaN   NaN  2.970488   NaN  NaN   \n",
       "2018-01-01 01:00:00   NaN NaN  6.9  3.013571  NaN   NaN  3.177400   NaN  0.8   \n",
       "2018-01-01 02:00:00   NaN NaN  NaN  3.018954  0.0   NaN  2.709398   NaN  NaN   \n",
       "2018-01-01 03:00:00  0.01 NaN  NaN  3.301881  NaN   NaN  2.734860   NaN  NaN   \n",
       "2018-01-01 04:00:00  0.00 NaN  NaN  3.257273  NaN   NaN  3.900377   NaN  NaN   \n",
       "...                   ...  ..  ...       ...  ...   ...       ...   ...  ...   \n",
       "2018-12-31 19:00:00   NaN NaN  NaN  1.946000  NaN   NaN  2.224762   NaN  NaN   \n",
       "2018-12-31 20:00:00  0.00 NaN  NaN  2.357179  NaN   NaN  2.695000  2.85  NaN   \n",
       "2018-12-31 21:00:00   NaN NaN  NaN  2.542982  NaN  2.26  2.785667   NaN  NaN   \n",
       "2018-12-31 22:00:00   NaN NaN  NaN  2.273684  NaN   NaN  2.980000  5.99  NaN   \n",
       "2018-12-31 23:00:00   NaN NaN  NaN  2.308333  NaN   NaN  3.670714   NaN  NaN   \n",
       "\n",
       "                          10  ...       261       262       263       264  \\\n",
       "ds                            ...                                           \n",
       "2018-01-01 00:00:00      NaN  ...  4.034545  2.361492  2.453485  2.433731   \n",
       "2018-01-01 01:00:00   8.4700  ...  4.146000  2.769487  2.529883  2.735600   \n",
       "2018-01-01 02:00:00      NaN  ...  5.358519  2.782340  2.428959  2.709448   \n",
       "2018-01-01 03:00:00  30.9600  ...  4.015556  2.829434  2.456787  2.873709   \n",
       "2018-01-01 04:00:00  13.6000  ...  5.260556  4.097083  2.741822  3.102968   \n",
       "...                      ...  ...       ...       ...       ...       ...   \n",
       "2018-12-31 19:00:00  11.4025  ...  2.529048  2.175606  1.870330  2.357097   \n",
       "2018-12-31 20:00:00  10.2800  ...  2.428911  2.424087  2.103522  2.345275   \n",
       "2018-12-31 21:00:00  16.3000  ...  2.779167  2.437269  2.066651  2.395909   \n",
       "2018-12-31 22:00:00   6.0300  ...  3.583333  2.108362  2.031210  2.652500   \n",
       "2018-12-31 23:00:00   1.7200  ...  3.161765  2.670213  2.176825  2.576423   \n",
       "\n",
       "                          265    59  172  110  104  99  \n",
       "ds                                                      \n",
       "2018-01-01 00:00:00  0.345000   NaN  NaN  NaN  NaN NaN  \n",
       "2018-01-01 01:00:00  0.425455   NaN  NaN  NaN  NaN NaN  \n",
       "2018-01-01 02:00:00  2.988500   NaN  NaN  NaN  NaN NaN  \n",
       "2018-01-01 03:00:00  1.160400   NaN  NaN  NaN  NaN NaN  \n",
       "2018-01-01 04:00:00  4.867391   NaN  NaN  NaN  NaN NaN  \n",
       "...                       ...   ...  ...  ...  ...  ..  \n",
       "2018-12-31 19:00:00  1.752500   NaN  NaN  NaN  NaN NaN  \n",
       "2018-12-31 20:00:00  2.846250   NaN  NaN  NaN  NaN NaN  \n",
       "2018-12-31 21:00:00  1.030000   NaN  NaN  NaN  NaN NaN  \n",
       "2018-12-31 22:00:00  0.600000   NaN  NaN  NaN  NaN NaN  \n",
       "2018-12-31 23:00:00  3.531111  4.17  NaN  NaN  NaN NaN  \n",
       "\n",
       "[8760 rows x 264 columns]"
      ]
     },
     "execution_count": 250,
     "metadata": {},
     "output_type": "execute_result"
    }
   ],
   "source": [
    "trip_df_all"
   ]
  },
  {
   "cell_type": "markdown",
   "metadata": {},
   "source": [
    "## Exploration of data for single neighborhoods"
   ]
  },
  {
   "cell_type": "markdown",
   "metadata": {},
   "source": [
    "#### Getting taxi zone lookup table"
   ]
  },
  {
   "cell_type": "code",
   "execution_count": 328,
   "metadata": {},
   "outputs": [],
   "source": [
    "url_lookup = 'https://s3.amazonaws.com/nyc-tlc/misc/taxi+_zone_lookup.csv'"
   ]
  },
  {
   "cell_type": "code",
   "execution_count": 331,
   "metadata": {},
   "outputs": [],
   "source": [
    "zone_lookup = pd.read_csv(url_lookup, index_col = 'LocationID')"
   ]
  },
  {
   "cell_type": "code",
   "execution_count": 339,
   "metadata": {},
   "outputs": [
    {
     "data": {
      "text/plain": [
       "Borough                  Manhattan\n",
       "Zone            World Trade Center\n",
       "service_zone           Yellow Zone\n",
       "Name: 261, dtype: object"
      ]
     },
     "execution_count": 339,
     "metadata": {},
     "output_type": "execute_result"
    }
   ],
   "source": [
    "zone_lookup.loc[261]"
   ]
  },
  {
   "cell_type": "code",
   "execution_count": 340,
   "metadata": {
    "scrolled": true
   },
   "outputs": [
    {
     "data": {
      "text/html": [
       "<div>\n",
       "<style scoped>\n",
       "    .dataframe tbody tr th:only-of-type {\n",
       "        vertical-align: middle;\n",
       "    }\n",
       "\n",
       "    .dataframe tbody tr th {\n",
       "        vertical-align: top;\n",
       "    }\n",
       "\n",
       "    .dataframe thead th {\n",
       "        text-align: right;\n",
       "    }\n",
       "</style>\n",
       "<table border=\"1\" class=\"dataframe\">\n",
       "  <thead>\n",
       "    <tr style=\"text-align: right;\">\n",
       "      <th></th>\n",
       "      <th>Borough</th>\n",
       "      <th>Zone</th>\n",
       "      <th>service_zone</th>\n",
       "    </tr>\n",
       "    <tr>\n",
       "      <th>LocationID</th>\n",
       "      <th></th>\n",
       "      <th></th>\n",
       "      <th></th>\n",
       "    </tr>\n",
       "  </thead>\n",
       "  <tbody>\n",
       "    <tr>\n",
       "      <th>1</th>\n",
       "      <td>EWR</td>\n",
       "      <td>Newark Airport</td>\n",
       "      <td>EWR</td>\n",
       "    </tr>\n",
       "    <tr>\n",
       "      <th>2</th>\n",
       "      <td>Queens</td>\n",
       "      <td>Jamaica Bay</td>\n",
       "      <td>Boro Zone</td>\n",
       "    </tr>\n",
       "    <tr>\n",
       "      <th>3</th>\n",
       "      <td>Bronx</td>\n",
       "      <td>Allerton/Pelham Gardens</td>\n",
       "      <td>Boro Zone</td>\n",
       "    </tr>\n",
       "    <tr>\n",
       "      <th>4</th>\n",
       "      <td>Manhattan</td>\n",
       "      <td>Alphabet City</td>\n",
       "      <td>Yellow Zone</td>\n",
       "    </tr>\n",
       "    <tr>\n",
       "      <th>5</th>\n",
       "      <td>Staten Island</td>\n",
       "      <td>Arden Heights</td>\n",
       "      <td>Boro Zone</td>\n",
       "    </tr>\n",
       "    <tr>\n",
       "      <th>...</th>\n",
       "      <td>...</td>\n",
       "      <td>...</td>\n",
       "      <td>...</td>\n",
       "    </tr>\n",
       "    <tr>\n",
       "      <th>261</th>\n",
       "      <td>Manhattan</td>\n",
       "      <td>World Trade Center</td>\n",
       "      <td>Yellow Zone</td>\n",
       "    </tr>\n",
       "    <tr>\n",
       "      <th>262</th>\n",
       "      <td>Manhattan</td>\n",
       "      <td>Yorkville East</td>\n",
       "      <td>Yellow Zone</td>\n",
       "    </tr>\n",
       "    <tr>\n",
       "      <th>263</th>\n",
       "      <td>Manhattan</td>\n",
       "      <td>Yorkville West</td>\n",
       "      <td>Yellow Zone</td>\n",
       "    </tr>\n",
       "    <tr>\n",
       "      <th>264</th>\n",
       "      <td>Unknown</td>\n",
       "      <td>NV</td>\n",
       "      <td>NaN</td>\n",
       "    </tr>\n",
       "    <tr>\n",
       "      <th>265</th>\n",
       "      <td>Unknown</td>\n",
       "      <td>NaN</td>\n",
       "      <td>NaN</td>\n",
       "    </tr>\n",
       "  </tbody>\n",
       "</table>\n",
       "<p>265 rows × 3 columns</p>\n",
       "</div>"
      ],
      "text/plain": [
       "                  Borough                     Zone service_zone\n",
       "LocationID                                                     \n",
       "1                     EWR           Newark Airport          EWR\n",
       "2                  Queens              Jamaica Bay    Boro Zone\n",
       "3                   Bronx  Allerton/Pelham Gardens    Boro Zone\n",
       "4               Manhattan            Alphabet City  Yellow Zone\n",
       "5           Staten Island            Arden Heights    Boro Zone\n",
       "...                   ...                      ...          ...\n",
       "261             Manhattan       World Trade Center  Yellow Zone\n",
       "262             Manhattan           Yorkville East  Yellow Zone\n",
       "263             Manhattan           Yorkville West  Yellow Zone\n",
       "264               Unknown                       NV          NaN\n",
       "265               Unknown                      NaN          NaN\n",
       "\n",
       "[265 rows x 3 columns]"
      ]
     },
     "execution_count": 340,
     "metadata": {},
     "output_type": "execute_result"
    }
   ],
   "source": [
    "zone_lookup"
   ]
  },
  {
   "cell_type": "markdown",
   "metadata": {},
   "source": [
    "#### Looking at data for Yorkville West on 10th of August 2018"
   ]
  },
  {
   "cell_type": "markdown",
   "metadata": {},
   "source": [
    "Trip distance traveled by customers"
   ]
  },
  {
   "cell_type": "code",
   "execution_count": 278,
   "metadata": {
    "scrolled": false
   },
   "outputs": [
    {
     "data": {
      "text/plain": [
       "<matplotlib.axes._subplots.AxesSubplot at 0x7fb208532828>"
      ]
     },
     "execution_count": 278,
     "metadata": {},
     "output_type": "execute_result"
    },
    {
     "data": {
      "image/png": "[encoded data removed]",
      "text/plain": [
       "<Figure size 432x288 with 1 Axes>"
      ]
     },
     "metadata": {
      "needs_background": "light"
     },
     "output_type": "display_data"
    }
   ],
   "source": [
    "trip_df_all['263']['2018-08-10'].plot()"
   ]
  },
  {
   "cell_type": "markdown",
   "metadata": {},
   "source": [
    "AVerage tips given to drivers"
   ]
  },
  {
   "cell_type": "code",
   "execution_count": 277,
   "metadata": {},
   "outputs": [
    {
     "data": {
      "text/plain": [
       "<matplotlib.axes._subplots.AxesSubplot at 0x7fb20850a470>"
      ]
     },
     "execution_count": 277,
     "metadata": {},
     "output_type": "execute_result"
    },
    {
     "data": {
      "image/png": "[encoded data removed]",
      "text/plain": [
       "<Figure size 432x288 with 1 Axes>"
      ]
     },
     "metadata": {
      "needs_background": "light"
     },
     "output_type": "display_data"
    }
   ],
   "source": [
    "tips_df_all['263']['2018-08-10'].plot()"
   ]
  },
  {
   "cell_type": "markdown",
   "metadata": {},
   "source": [
    "Yellow taxi pick-up demand"
   ]
  },
  {
   "cell_type": "code",
   "execution_count": 276,
   "metadata": {},
   "outputs": [
    {
     "data": {
      "text/plain": [
       "<matplotlib.axes._subplots.AxesSubplot at 0x7fb225720940>"
      ]
     },
     "execution_count": 276,
     "metadata": {},
     "output_type": "execute_result"
    },
    {
     "data": {
      "image/png": "[encoded data removed]",
      "text/plain": [
       "<Figure size 432x288 with 1 Axes>"
      ]
     },
     "metadata": {
      "needs_background": "light"
     },
     "output_type": "display_data"
    }
   ],
   "source": [
    "demand_df_all_2['263']['2018-08-10'].plot()"
   ]
  },
  {
   "cell_type": "markdown",
   "metadata": {},
   "source": [
    "#### Hourly average fare paid by customers in Yorkville West neighborhood"
   ]
  },
  {
   "cell_type": "code",
   "execution_count": 361,
   "metadata": {
    "scrolled": true
   },
   "outputs": [
    {
     "data": {
      "text/plain": [
       "<matplotlib.axes._subplots.AxesSubplot at 0x7fb2149e95f8>"
      ]
     },
     "execution_count": 361,
     "metadata": {},
     "output_type": "execute_result"
    },
    {
     "data": {
      "image/png": "[encoded data removed]",
      "text/plain": [
       "<Figure size 432x288 with 1 Axes>"
      ]
     },
     "metadata": {
      "needs_background": "light"
     },
     "output_type": "display_data"
    }
   ],
   "source": [
    "fare_df_all.groupby([fare_df_all.index.hour]).mean()['263'].plot()"
   ]
  },
  {
   "cell_type": "markdown",
   "metadata": {},
   "source": [
    "#### Average fare paid by customers in June 2018 in Garment District"
   ]
  },
  {
   "cell_type": "code",
   "execution_count": 395,
   "metadata": {
    "scrolled": false
   },
   "outputs": [
    {
     "data": {
      "text/plain": [
       "<matplotlib.axes._subplots.AxesSubplot at 0x7fb21647cba8>"
      ]
     },
     "execution_count": 395,
     "metadata": {},
     "output_type": "execute_result"
    },
    {
     "data": {
      "image/png": "[encoded data removed]",
      "text/plain": [
       "<Figure size 432x288 with 1 Axes>"
      ]
     },
     "metadata": {
      "needs_background": "light"
     },
     "output_type": "display_data"
    }
   ],
   "source": [
    "fare_df_all['100']['2018-06'].plot()"
   ]
  },
  {
   "cell_type": "markdown",
   "metadata": {},
   "source": [
    "Hourly average in whole 2018"
   ]
  },
  {
   "cell_type": "code",
   "execution_count": 422,
   "metadata": {
    "scrolled": false
   },
   "outputs": [
    {
     "data": {
      "text/plain": [
       "<matplotlib.axes._subplots.AxesSubplot at 0x7fb2134ce320>"
      ]
     },
     "execution_count": 422,
     "metadata": {},
     "output_type": "execute_result"
    },
    {
     "data": {
      "image/png": "[encoded data removed]",
      "text/plain": [
       "<Figure size 432x288 with 1 Axes>"
      ]
     },
     "metadata": {
      "needs_background": "light"
     },
     "output_type": "display_data"
    }
   ],
   "source": [
    "fare_df_all.groupby([fare_df_all.index.hour]).mean()['100'].plot(kind='bar')"
   ]
  },
  {
   "cell_type": "markdown",
   "metadata": {},
   "source": [
    "#### Hourly and weekday average fare in Yorkwille East"
   ]
  },
  {
   "cell_type": "code",
   "execution_count": 309,
   "metadata": {},
   "outputs": [
    {
     "data": {
      "text/plain": [
       "<matplotlib.axes._subplots.AxesSubplot at 0x7fb205e6e320>"
      ]
     },
     "execution_count": 309,
     "metadata": {},
     "output_type": "execute_result"
    },
    {
     "data": {
      "image/png": "[encoded data removed]",
      "text/plain": [
       "<Figure size 432x288 with 1 Axes>"
      ]
     },
     "metadata": {
      "needs_background": "light"
     },
     "output_type": "display_data"
    }
   ],
   "source": [
    "fare_df_all.groupby([fare_df_all.index.hour, fare_df_all.index.weekday]).mean()['262'].unstack().plot()"
   ]
  },
  {
   "cell_type": "markdown",
   "metadata": {},
   "source": [
    "#### Saving lookup table"
   ]
  },
  {
   "cell_type": "code",
   "execution_count": 341,
   "metadata": {},
   "outputs": [],
   "source": [
    "zone_lookup.to_csv('gcs://nyc-taxi-data-2018-2019/nyc_neighborhoods/zone_lookup.csv')"
   ]
  }
 ],
 "metadata": {
  "kernelspec": {
   "display_name": "Python 3",
   "language": "python",
   "name": "python3"
  },
  "language_info": {
   "codemirror_mode": {
    "name": "ipython",
    "version": 3
   },
   "file_extension": ".py",
   "mimetype": "text/x-python",
   "name": "python",
   "nbconvert_exporter": "python",
   "pygments_lexer": "ipython3",
   "version": "3.7.3"
  }
 },
 "nbformat": 4,
 "nbformat_minor": 2
}
