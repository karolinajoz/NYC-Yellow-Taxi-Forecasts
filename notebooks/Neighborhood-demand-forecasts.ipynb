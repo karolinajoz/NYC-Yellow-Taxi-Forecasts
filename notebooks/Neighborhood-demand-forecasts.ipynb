{
 "cells": [
  {
   "cell_type": "markdown",
   "metadata": {},
   "source": [
    "## Importing libraries"
   ]
  },
  {
   "cell_type": "code",
   "execution_count": 1,
   "metadata": {},
   "outputs": [],
   "source": [
    "import pandas as pd\n",
    "import numpy as np\n",
    "\n",
    "import time\n",
    "from tqdm import tqdm_notebook"
   ]
  },
  {
   "cell_type": "code",
   "execution_count": 2,
   "metadata": {},
   "outputs": [],
   "source": [
    "import glob"
   ]
  },
  {
   "cell_type": "code",
   "execution_count": 3,
   "metadata": {},
   "outputs": [],
   "source": [
    "import matplotlib.pyplot as plt\n",
    "%matplotlib inline\n",
    "from matplotlib.pylab import rcParams"
   ]
  },
  {
   "cell_type": "code",
   "execution_count": 4,
   "metadata": {},
   "outputs": [],
   "source": [
    "import seaborn as sns"
   ]
  },
  {
   "cell_type": "code",
   "execution_count": 5,
   "metadata": {},
   "outputs": [],
   "source": [
    "from fbprophet import Prophet\n",
    "\n",
    "from sklearn.metrics import mean_absolute_error as mae\n",
    "from sklearn.metrics import mean_squared_error as mse\n",
    "from sklearn.metrics import r2_score"
   ]
  },
  {
   "cell_type": "code",
   "execution_count": 6,
   "metadata": {},
   "outputs": [],
   "source": [
    "pd.plotting.register_matplotlib_converters()"
   ]
  },
  {
   "cell_type": "code",
   "execution_count": 8,
   "metadata": {},
   "outputs": [],
   "source": [
    "from fbprophet.diagnostics import cross_validation, performance_metrics"
   ]
  },
  {
   "cell_type": "code",
   "execution_count": 9,
   "metadata": {},
   "outputs": [],
   "source": [
    "from dask.distributed import Client, progress, LocalCluster\n",
    "import dask"
   ]
  },
  {
   "cell_type": "code",
   "execution_count": 10,
   "metadata": {},
   "outputs": [],
   "source": [
    "import dask.dataframe as dd"
   ]
  },
  {
   "cell_type": "markdown",
   "metadata": {},
   "source": [
    "## Grouping neighborhoods for demand predictions"
   ]
  },
  {
   "cell_type": "markdown",
   "metadata": {},
   "source": [
    "Import demand neighborhood hourly data"
   ]
  },
  {
   "cell_type": "code",
   "execution_count": 14,
   "metadata": {},
   "outputs": [],
   "source": [
    "demand = pd.read_csv(\"nyc_neighborhoods_yellow_neigh_demand_hourly.csv\", parse_dates = ['ds'])"
   ]
  },
  {
   "cell_type": "code",
   "execution_count": 16,
   "metadata": {
    "scrolled": true
   },
   "outputs": [
    {
     "data": {
      "text/html": [
       "<div>\n",
       "<style scoped>\n",
       "    .dataframe tbody tr th:only-of-type {\n",
       "        vertical-align: middle;\n",
       "    }\n",
       "\n",
       "    .dataframe tbody tr th {\n",
       "        vertical-align: top;\n",
       "    }\n",
       "\n",
       "    .dataframe thead th {\n",
       "        text-align: right;\n",
       "    }\n",
       "</style>\n",
       "<table border=\"1\" class=\"dataframe\">\n",
       "  <thead>\n",
       "    <tr style=\"text-align: right;\">\n",
       "      <th></th>\n",
       "      <th>ds</th>\n",
       "      <th>1</th>\n",
       "      <th>2</th>\n",
       "      <th>3</th>\n",
       "      <th>4</th>\n",
       "      <th>5</th>\n",
       "      <th>6</th>\n",
       "      <th>7</th>\n",
       "      <th>8</th>\n",
       "      <th>9</th>\n",
       "      <th>...</th>\n",
       "      <th>261</th>\n",
       "      <th>262</th>\n",
       "      <th>263</th>\n",
       "      <th>264</th>\n",
       "      <th>265</th>\n",
       "      <th>59</th>\n",
       "      <th>172</th>\n",
       "      <th>110</th>\n",
       "      <th>104</th>\n",
       "      <th>99</th>\n",
       "    </tr>\n",
       "  </thead>\n",
       "  <tbody>\n",
       "    <tr>\n",
       "      <th>0</th>\n",
       "      <td>2018-01-01 00:00:00</td>\n",
       "      <td>NaN</td>\n",
       "      <td>NaN</td>\n",
       "      <td>1.0</td>\n",
       "      <td>87.0</td>\n",
       "      <td>NaN</td>\n",
       "      <td>NaN</td>\n",
       "      <td>41.0</td>\n",
       "      <td>NaN</td>\n",
       "      <td>NaN</td>\n",
       "      <td>...</td>\n",
       "      <td>33.0</td>\n",
       "      <td>181.0</td>\n",
       "      <td>462.0</td>\n",
       "      <td>394.0</td>\n",
       "      <td>14.0</td>\n",
       "      <td>NaN</td>\n",
       "      <td>NaN</td>\n",
       "      <td>NaN</td>\n",
       "      <td>NaN</td>\n",
       "      <td>NaN</td>\n",
       "    </tr>\n",
       "    <tr>\n",
       "      <th>1</th>\n",
       "      <td>2018-01-01 01:00:00</td>\n",
       "      <td>NaN</td>\n",
       "      <td>NaN</td>\n",
       "      <td>1.0</td>\n",
       "      <td>154.0</td>\n",
       "      <td>NaN</td>\n",
       "      <td>NaN</td>\n",
       "      <td>100.0</td>\n",
       "      <td>NaN</td>\n",
       "      <td>1.0</td>\n",
       "      <td>...</td>\n",
       "      <td>70.0</td>\n",
       "      <td>156.0</td>\n",
       "      <td>596.0</td>\n",
       "      <td>475.0</td>\n",
       "      <td>11.0</td>\n",
       "      <td>NaN</td>\n",
       "      <td>NaN</td>\n",
       "      <td>NaN</td>\n",
       "      <td>NaN</td>\n",
       "      <td>NaN</td>\n",
       "    </tr>\n",
       "    <tr>\n",
       "      <th>2</th>\n",
       "      <td>2018-01-01 02:00:00</td>\n",
       "      <td>NaN</td>\n",
       "      <td>NaN</td>\n",
       "      <td>NaN</td>\n",
       "      <td>153.0</td>\n",
       "      <td>1.0</td>\n",
       "      <td>NaN</td>\n",
       "      <td>133.0</td>\n",
       "      <td>NaN</td>\n",
       "      <td>NaN</td>\n",
       "      <td>...</td>\n",
       "      <td>81.0</td>\n",
       "      <td>94.0</td>\n",
       "      <td>442.0</td>\n",
       "      <td>362.0</td>\n",
       "      <td>20.0</td>\n",
       "      <td>NaN</td>\n",
       "      <td>NaN</td>\n",
       "      <td>NaN</td>\n",
       "      <td>NaN</td>\n",
       "      <td>NaN</td>\n",
       "    </tr>\n",
       "    <tr>\n",
       "      <th>3</th>\n",
       "      <td>2018-01-01 03:00:00</td>\n",
       "      <td>1.0</td>\n",
       "      <td>NaN</td>\n",
       "      <td>NaN</td>\n",
       "      <td>101.0</td>\n",
       "      <td>NaN</td>\n",
       "      <td>NaN</td>\n",
       "      <td>107.0</td>\n",
       "      <td>NaN</td>\n",
       "      <td>NaN</td>\n",
       "      <td>...</td>\n",
       "      <td>27.0</td>\n",
       "      <td>53.0</td>\n",
       "      <td>333.0</td>\n",
       "      <td>275.0</td>\n",
       "      <td>25.0</td>\n",
       "      <td>NaN</td>\n",
       "      <td>NaN</td>\n",
       "      <td>NaN</td>\n",
       "      <td>NaN</td>\n",
       "      <td>NaN</td>\n",
       "    </tr>\n",
       "    <tr>\n",
       "      <th>4</th>\n",
       "      <td>2018-01-01 04:00:00</td>\n",
       "      <td>3.0</td>\n",
       "      <td>NaN</td>\n",
       "      <td>NaN</td>\n",
       "      <td>77.0</td>\n",
       "      <td>NaN</td>\n",
       "      <td>NaN</td>\n",
       "      <td>106.0</td>\n",
       "      <td>NaN</td>\n",
       "      <td>NaN</td>\n",
       "      <td>...</td>\n",
       "      <td>18.0</td>\n",
       "      <td>24.0</td>\n",
       "      <td>225.0</td>\n",
       "      <td>219.0</td>\n",
       "      <td>23.0</td>\n",
       "      <td>NaN</td>\n",
       "      <td>NaN</td>\n",
       "      <td>NaN</td>\n",
       "      <td>NaN</td>\n",
       "      <td>NaN</td>\n",
       "    </tr>\n",
       "  </tbody>\n",
       "</table>\n",
       "<p>5 rows × 265 columns</p>\n",
       "</div>"
      ],
      "text/plain": [
       "                   ds    1   2    3      4    5   6      7   8    9  ...  \\\n",
       "0 2018-01-01 00:00:00  NaN NaN  1.0   87.0  NaN NaN   41.0 NaN  NaN  ...   \n",
       "1 2018-01-01 01:00:00  NaN NaN  1.0  154.0  NaN NaN  100.0 NaN  1.0  ...   \n",
       "2 2018-01-01 02:00:00  NaN NaN  NaN  153.0  1.0 NaN  133.0 NaN  NaN  ...   \n",
       "3 2018-01-01 03:00:00  1.0 NaN  NaN  101.0  NaN NaN  107.0 NaN  NaN  ...   \n",
       "4 2018-01-01 04:00:00  3.0 NaN  NaN   77.0  NaN NaN  106.0 NaN  NaN  ...   \n",
       "\n",
       "    261    262    263    264   265  59  172  110  104  99  \n",
       "0  33.0  181.0  462.0  394.0  14.0 NaN  NaN  NaN  NaN NaN  \n",
       "1  70.0  156.0  596.0  475.0  11.0 NaN  NaN  NaN  NaN NaN  \n",
       "2  81.0   94.0  442.0  362.0  20.0 NaN  NaN  NaN  NaN NaN  \n",
       "3  27.0   53.0  333.0  275.0  25.0 NaN  NaN  NaN  NaN NaN  \n",
       "4  18.0   24.0  225.0  219.0  23.0 NaN  NaN  NaN  NaN NaN  \n",
       "\n",
       "[5 rows x 265 columns]"
      ]
     },
     "execution_count": 16,
     "metadata": {},
     "output_type": "execute_result"
    }
   ],
   "source": [
    "demand.head()"
   ]
  },
  {
   "cell_type": "code",
   "execution_count": 17,
   "metadata": {},
   "outputs": [
    {
     "name": "stdout",
     "output_type": "stream",
     "text": [
      "<class 'pandas.core.frame.DataFrame'>\n",
      "RangeIndex: 8760 entries, 0 to 8759\n",
      "Columns: 265 entries, ds to 99\n",
      "dtypes: datetime64[ns](1), float64(264)\n",
      "memory usage: 17.7 MB\n"
     ]
    }
   ],
   "source": [
    "demand.info()"
   ]
  },
  {
   "cell_type": "code",
   "execution_count": 26,
   "metadata": {},
   "outputs": [],
   "source": [
    "demand = demand.set_index('ds')"
   ]
  },
  {
   "cell_type": "markdown",
   "metadata": {},
   "source": [
    "Taxi zone lookup table "
   ]
  },
  {
   "cell_type": "code",
   "execution_count": 16,
   "metadata": {},
   "outputs": [],
   "source": [
    "url_lookup = 'https://s3.amazonaws.com/nyc-tlc/misc/taxi+_zone_lookup.csv'\n",
    "\n",
    "zone_lookup = pd.read_csv(url_lookup, index_col = 'LocationID')"
   ]
  },
  {
   "cell_type": "code",
   "execution_count": 17,
   "metadata": {
    "scrolled": true
   },
   "outputs": [
    {
     "data": {
      "text/plain": [
       "array(['EWR', 'Queens', 'Bronx', 'Manhattan', 'Staten Island', 'Brooklyn',\n",
       "       'Unknown'], dtype=object)"
      ]
     },
     "execution_count": 17,
     "metadata": {},
     "output_type": "execute_result"
    }
   ],
   "source": [
    "zone_lookup.Borough.unique()"
   ]
  },
  {
   "cell_type": "code",
   "execution_count": 18,
   "metadata": {},
   "outputs": [
    {
     "data": {
      "text/plain": [
       "Queens           69\n",
       "Manhattan        69\n",
       "Brooklyn         61\n",
       "Bronx            43\n",
       "Staten Island    20\n",
       "Unknown           2\n",
       "EWR               1\n",
       "Name: Borough, dtype: int64"
      ]
     },
     "execution_count": 18,
     "metadata": {},
     "output_type": "execute_result"
    }
   ],
   "source": [
    "zone_lookup.Borough.value_counts()"
   ]
  },
  {
   "cell_type": "code",
   "execution_count": 19,
   "metadata": {},
   "outputs": [],
   "source": [
    "lst = [zone_lookup.loc[(int(demand.columns[i]))]['Zone'] for i,col in enumerate(demand.columns)]"
   ]
  },
  {
   "cell_type": "code",
   "execution_count": 20,
   "metadata": {
    "scrolled": true
   },
   "outputs": [
    {
     "data": {
      "text/plain": [
       "Borough            Manhattan\n",
       "Zone            West Village\n",
       "service_zone     Yellow Zone\n",
       "Name: 249, dtype: object"
      ]
     },
     "execution_count": 20,
     "metadata": {},
     "output_type": "execute_result"
    }
   ],
   "source": [
    "zone_lookup.loc[249]"
   ]
  },
  {
   "cell_type": "code",
   "execution_count": 21,
   "metadata": {},
   "outputs": [],
   "source": [
    "lst_brooklyn = []\n",
    "lst_queens = []\n",
    "lst_manhattan = []\n",
    "lst_staten = []\n",
    "lst_bronx = []\n",
    "for i, col in enumerate(demand.columns):\n",
    "    bor = zone_lookup.loc[(int(demand.columns[i]))]['Borough']\n",
    "    if bor == 'Queens':\n",
    "        lst_queens.append(col)\n",
    "    elif bor == 'Bronx':\n",
    "        lst_bronx.append(col)\n",
    "    elif bor == 'Manhattan':\n",
    "        lst_manhattan.append(col)\n",
    "    elif bor == 'Staten Island':\n",
    "        lst_staten.append(col)\n",
    "    elif bor == 'Brooklyn':\n",
    "        lst_brooklyn.append(col)"
   ]
  },
  {
   "cell_type": "markdown",
   "metadata": {},
   "source": [
    "### Manhattan"
   ]
  },
  {
   "cell_type": "code",
   "execution_count": 850,
   "metadata": {
    "collapsed": true
   },
   "outputs": [
    {
     "data": {
      "text/plain": [
       "4        15\n",
       "12     2094\n",
       "13       30\n",
       "24        7\n",
       "41        1\n",
       "42        7\n",
       "43       14\n",
       "45       97\n",
       "48        1\n",
       "50        1\n",
       "68        1\n",
       "74        1\n",
       "75        1\n",
       "79        1\n",
       "87        2\n",
       "88        8\n",
       "90        1\n",
       "100       1\n",
       "105    8633\n",
       "107       1\n",
       "113       1\n",
       "114       1\n",
       "116      21\n",
       "120    8258\n",
       "125       3\n",
       "127    3535\n",
       "128    8054\n",
       "137       1\n",
       "140       1\n",
       "141       1\n",
       "       ... \n",
       "161       1\n",
       "162       1\n",
       "163       1\n",
       "164       1\n",
       "166       1\n",
       "170       1\n",
       "186       1\n",
       "194    5431\n",
       "202    5594\n",
       "209      82\n",
       "211       3\n",
       "224      98\n",
       "229       1\n",
       "230       1\n",
       "231       1\n",
       "232      31\n",
       "233       1\n",
       "234       1\n",
       "236       1\n",
       "237       1\n",
       "238       1\n",
       "239       1\n",
       "243    1586\n",
       "244     105\n",
       "246       1\n",
       "249       1\n",
       "261      15\n",
       "262       2\n",
       "263       1\n",
       "104    8759\n",
       "Length: 68, dtype: int64"
      ]
     },
     "execution_count": 850,
     "metadata": {},
     "output_type": "execute_result"
    }
   ],
   "source": [
    "demand[lst_manhattan].isna().sum()"
   ]
  },
  {
   "cell_type": "markdown",
   "metadata": {},
   "source": [
    "For running meaningful prediction I need to group adjacent neighborhood where not enough data is available"
   ]
  },
  {
   "cell_type": "code",
   "execution_count": 872,
   "metadata": {},
   "outputs": [],
   "source": [
    "manhattan_neigh = demand[lst_manhattan].copy().fillna(0)"
   ]
  },
  {
   "cell_type": "markdown",
   "metadata": {},
   "source": [
    "'120', '127', '128','243' -> '244' washington heights"
   ]
  },
  {
   "cell_type": "code",
   "execution_count": 874,
   "metadata": {},
   "outputs": [],
   "source": [
    "manhattan_neigh['243'] = (manhattan_neigh['120'] + manhattan_neigh['127'] + manhattan_neigh['128'] + manhattan_neigh['243'] + manhattan_neigh['244'] )"
   ]
  },
  {
   "cell_type": "code",
   "execution_count": 877,
   "metadata": {},
   "outputs": [],
   "source": [
    "manhattan_neigh = manhattan_neigh.drop(['120', '127', '128', '244', '153'], axis = 1)"
   ]
  },
  {
   "cell_type": "markdown",
   "metadata": {},
   "source": [
    "'12' -> '13' battery park"
   ]
  },
  {
   "cell_type": "code",
   "execution_count": 882,
   "metadata": {},
   "outputs": [],
   "source": [
    "manhattan_neigh['13'] = (manhattan_neigh['12'] + manhattan_neigh['13'])"
   ]
  },
  {
   "cell_type": "code",
   "execution_count": 884,
   "metadata": {},
   "outputs": [],
   "source": [
    "manhattan_neigh = manhattan_neigh.drop(['12'], axis = 1)"
   ]
  },
  {
   "cell_type": "markdown",
   "metadata": {},
   "source": [
    "'194', '202' islands"
   ]
  },
  {
   "cell_type": "markdown",
   "metadata": {},
   "source": [
    "'105', '104' islands"
   ]
  },
  {
   "cell_type": "code",
   "execution_count": 895,
   "metadata": {},
   "outputs": [],
   "source": [
    "manhattan_neigh =  manhattan_neigh.drop(['194', '202', '105', '104'], axis = 1)"
   ]
  },
  {
   "cell_type": "code",
   "execution_count": 897,
   "metadata": {
    "scrolled": true
   },
   "outputs": [
    {
     "data": {
      "text/html": [
       "<div>\n",
       "<style scoped>\n",
       "    .dataframe tbody tr th:only-of-type {\n",
       "        vertical-align: middle;\n",
       "    }\n",
       "\n",
       "    .dataframe tbody tr th {\n",
       "        vertical-align: top;\n",
       "    }\n",
       "\n",
       "    .dataframe thead th {\n",
       "        text-align: right;\n",
       "    }\n",
       "</style>\n",
       "<table border=\"1\" class=\"dataframe\">\n",
       "  <thead>\n",
       "    <tr style=\"text-align: right;\">\n",
       "      <th></th>\n",
       "      <th>4</th>\n",
       "      <th>13</th>\n",
       "      <th>24</th>\n",
       "      <th>41</th>\n",
       "      <th>42</th>\n",
       "      <th>43</th>\n",
       "      <th>45</th>\n",
       "      <th>48</th>\n",
       "      <th>50</th>\n",
       "      <th>68</th>\n",
       "      <th>...</th>\n",
       "      <th>236</th>\n",
       "      <th>237</th>\n",
       "      <th>238</th>\n",
       "      <th>239</th>\n",
       "      <th>243</th>\n",
       "      <th>246</th>\n",
       "      <th>249</th>\n",
       "      <th>261</th>\n",
       "      <th>262</th>\n",
       "      <th>263</th>\n",
       "    </tr>\n",
       "    <tr>\n",
       "      <th>ds</th>\n",
       "      <th></th>\n",
       "      <th></th>\n",
       "      <th></th>\n",
       "      <th></th>\n",
       "      <th></th>\n",
       "      <th></th>\n",
       "      <th></th>\n",
       "      <th></th>\n",
       "      <th></th>\n",
       "      <th></th>\n",
       "      <th></th>\n",
       "      <th></th>\n",
       "      <th></th>\n",
       "      <th></th>\n",
       "      <th></th>\n",
       "      <th></th>\n",
       "      <th></th>\n",
       "      <th></th>\n",
       "      <th></th>\n",
       "      <th></th>\n",
       "      <th></th>\n",
       "    </tr>\n",
       "  </thead>\n",
       "  <tbody>\n",
       "    <tr>\n",
       "      <th>2018-01-01 00:00:00</th>\n",
       "      <td>87.0</td>\n",
       "      <td>63.0</td>\n",
       "      <td>71.0</td>\n",
       "      <td>94.0</td>\n",
       "      <td>43.0</td>\n",
       "      <td>399.0</td>\n",
       "      <td>57.0</td>\n",
       "      <td>673.0</td>\n",
       "      <td>251.0</td>\n",
       "      <td>495.0</td>\n",
       "      <td>...</td>\n",
       "      <td>432.0</td>\n",
       "      <td>593.0</td>\n",
       "      <td>402.0</td>\n",
       "      <td>571.0</td>\n",
       "      <td>56.0</td>\n",
       "      <td>200.0</td>\n",
       "      <td>427.0</td>\n",
       "      <td>33.0</td>\n",
       "      <td>181.0</td>\n",
       "      <td>462.0</td>\n",
       "    </tr>\n",
       "    <tr>\n",
       "      <th>2018-01-01 01:00:00</th>\n",
       "      <td>154.0</td>\n",
       "      <td>95.0</td>\n",
       "      <td>76.0</td>\n",
       "      <td>115.0</td>\n",
       "      <td>69.0</td>\n",
       "      <td>229.0</td>\n",
       "      <td>31.0</td>\n",
       "      <td>800.0</td>\n",
       "      <td>349.0</td>\n",
       "      <td>508.0</td>\n",
       "      <td>...</td>\n",
       "      <td>366.0</td>\n",
       "      <td>590.0</td>\n",
       "      <td>411.0</td>\n",
       "      <td>618.0</td>\n",
       "      <td>101.0</td>\n",
       "      <td>260.0</td>\n",
       "      <td>344.0</td>\n",
       "      <td>70.0</td>\n",
       "      <td>156.0</td>\n",
       "      <td>596.0</td>\n",
       "    </tr>\n",
       "    <tr>\n",
       "      <th>2018-01-01 02:00:00</th>\n",
       "      <td>153.0</td>\n",
       "      <td>45.0</td>\n",
       "      <td>36.0</td>\n",
       "      <td>138.0</td>\n",
       "      <td>91.0</td>\n",
       "      <td>106.0</td>\n",
       "      <td>57.0</td>\n",
       "      <td>862.0</td>\n",
       "      <td>339.0</td>\n",
       "      <td>392.0</td>\n",
       "      <td>...</td>\n",
       "      <td>236.0</td>\n",
       "      <td>284.0</td>\n",
       "      <td>253.0</td>\n",
       "      <td>380.0</td>\n",
       "      <td>108.0</td>\n",
       "      <td>211.0</td>\n",
       "      <td>279.0</td>\n",
       "      <td>81.0</td>\n",
       "      <td>94.0</td>\n",
       "      <td>442.0</td>\n",
       "    </tr>\n",
       "    <tr>\n",
       "      <th>2018-01-01 03:00:00</th>\n",
       "      <td>101.0</td>\n",
       "      <td>23.0</td>\n",
       "      <td>27.0</td>\n",
       "      <td>60.0</td>\n",
       "      <td>46.0</td>\n",
       "      <td>48.0</td>\n",
       "      <td>28.0</td>\n",
       "      <td>665.0</td>\n",
       "      <td>142.0</td>\n",
       "      <td>411.0</td>\n",
       "      <td>...</td>\n",
       "      <td>95.0</td>\n",
       "      <td>124.0</td>\n",
       "      <td>157.0</td>\n",
       "      <td>185.0</td>\n",
       "      <td>80.0</td>\n",
       "      <td>218.0</td>\n",
       "      <td>391.0</td>\n",
       "      <td>27.0</td>\n",
       "      <td>53.0</td>\n",
       "      <td>333.0</td>\n",
       "    </tr>\n",
       "    <tr>\n",
       "      <th>2018-01-01 04:00:00</th>\n",
       "      <td>77.0</td>\n",
       "      <td>17.0</td>\n",
       "      <td>33.0</td>\n",
       "      <td>50.0</td>\n",
       "      <td>38.0</td>\n",
       "      <td>8.0</td>\n",
       "      <td>18.0</td>\n",
       "      <td>518.0</td>\n",
       "      <td>93.0</td>\n",
       "      <td>294.0</td>\n",
       "      <td>...</td>\n",
       "      <td>34.0</td>\n",
       "      <td>58.0</td>\n",
       "      <td>100.0</td>\n",
       "      <td>101.0</td>\n",
       "      <td>54.0</td>\n",
       "      <td>203.0</td>\n",
       "      <td>287.0</td>\n",
       "      <td>18.0</td>\n",
       "      <td>24.0</td>\n",
       "      <td>225.0</td>\n",
       "    </tr>\n",
       "  </tbody>\n",
       "</table>\n",
       "<p>5 rows × 58 columns</p>\n",
       "</div>"
      ],
      "text/plain": [
       "                         4    13    24     41    42     43    45     48  \\\n",
       "ds                                                                        \n",
       "2018-01-01 00:00:00   87.0  63.0  71.0   94.0  43.0  399.0  57.0  673.0   \n",
       "2018-01-01 01:00:00  154.0  95.0  76.0  115.0  69.0  229.0  31.0  800.0   \n",
       "2018-01-01 02:00:00  153.0  45.0  36.0  138.0  91.0  106.0  57.0  862.0   \n",
       "2018-01-01 03:00:00  101.0  23.0  27.0   60.0  46.0   48.0  28.0  665.0   \n",
       "2018-01-01 04:00:00   77.0  17.0  33.0   50.0  38.0    8.0  18.0  518.0   \n",
       "\n",
       "                        50     68  ...    236    237    238    239    243  \\\n",
       "ds                                 ...                                      \n",
       "2018-01-01 00:00:00  251.0  495.0  ...  432.0  593.0  402.0  571.0   56.0   \n",
       "2018-01-01 01:00:00  349.0  508.0  ...  366.0  590.0  411.0  618.0  101.0   \n",
       "2018-01-01 02:00:00  339.0  392.0  ...  236.0  284.0  253.0  380.0  108.0   \n",
       "2018-01-01 03:00:00  142.0  411.0  ...   95.0  124.0  157.0  185.0   80.0   \n",
       "2018-01-01 04:00:00   93.0  294.0  ...   34.0   58.0  100.0  101.0   54.0   \n",
       "\n",
       "                       246    249   261    262    263  \n",
       "ds                                                     \n",
       "2018-01-01 00:00:00  200.0  427.0  33.0  181.0  462.0  \n",
       "2018-01-01 01:00:00  260.0  344.0  70.0  156.0  596.0  \n",
       "2018-01-01 02:00:00  211.0  279.0  81.0   94.0  442.0  \n",
       "2018-01-01 03:00:00  218.0  391.0  27.0   53.0  333.0  \n",
       "2018-01-01 04:00:00  203.0  287.0  18.0   24.0  225.0  \n",
       "\n",
       "[5 rows x 58 columns]"
      ]
     },
     "execution_count": 897,
     "metadata": {},
     "output_type": "execute_result"
    }
   ],
   "source": [
    "manhattan_neigh.head()"
   ]
  },
  {
   "cell_type": "code",
   "execution_count": 995,
   "metadata": {},
   "outputs": [],
   "source": [
    "manhattan_neigh.to_csv(\"./models/manhattan_neigh_demand.csv\")"
   ]
  },
  {
   "cell_type": "markdown",
   "metadata": {},
   "source": [
    "### Brooklyn"
   ]
  },
  {
   "cell_type": "code",
   "execution_count": 1006,
   "metadata": {
    "collapsed": true
   },
   "outputs": [
    {
     "data": {
      "text/plain": [
       "11     7656\n",
       "14     4278\n",
       "17     1768\n",
       "21     7097\n",
       "22     6360\n",
       "25       37\n",
       "26     5277\n",
       "29     7362\n",
       "33      470\n",
       "34     6954\n",
       "35     5333\n",
       "36     4735\n",
       "37     2292\n",
       "39     5089\n",
       "40      684\n",
       "49     1009\n",
       "52     1081\n",
       "54     6049\n",
       "55     7072\n",
       "61     1305\n",
       "62     4526\n",
       "63     7252\n",
       "65       78\n",
       "66     1105\n",
       "67     7382\n",
       "71     5790\n",
       "72     5819\n",
       "76     3931\n",
       "77     6900\n",
       "80     1453\n",
       "       ... \n",
       "89     2755\n",
       "91     5607\n",
       "97      117\n",
       "106    2397\n",
       "108    7633\n",
       "111    8536\n",
       "112    1003\n",
       "123    6616\n",
       "133    5304\n",
       "149    7334\n",
       "150    7800\n",
       "154    8419\n",
       "155    6584\n",
       "165    6104\n",
       "177    5529\n",
       "178    7329\n",
       "181     176\n",
       "188    2212\n",
       "189    1714\n",
       "190    5630\n",
       "195    5243\n",
       "210    6716\n",
       "217    4390\n",
       "222    7122\n",
       "225    3051\n",
       "227    6727\n",
       "228    3372\n",
       "255     726\n",
       "256     553\n",
       "257    5798\n",
       "Length: 61, dtype: int64"
      ]
     },
     "execution_count": 1006,
     "metadata": {},
     "output_type": "execute_result"
    }
   ],
   "source": [
    "demand[lst_brooklyn].isna().sum()"
   ]
  },
  {
   "cell_type": "code",
   "execution_count": 1067,
   "metadata": {},
   "outputs": [],
   "source": [
    "brooklyn_neigh = demand.copy()[lst_brooklyn].fillna(0)"
   ]
  },
  {
   "cell_type": "markdown",
   "metadata": {},
   "source": [
    "'34' -> '66'"
   ]
  },
  {
   "cell_type": "code",
   "execution_count": 1069,
   "metadata": {},
   "outputs": [],
   "source": [
    "brooklyn_neigh['66'] = (brooklyn_neigh['34']+ brooklyn_neigh['66'])"
   ]
  },
  {
   "cell_type": "code",
   "execution_count": 1070,
   "metadata": {},
   "outputs": [],
   "source": [
    "brooklyn_neigh = brooklyn_neigh.drop(['34'], axis = 1)"
   ]
  },
  {
   "cell_type": "markdown",
   "metadata": {},
   "source": [
    "'11', '22', '67', '21' -> '14'"
   ]
  },
  {
   "cell_type": "code",
   "execution_count": 1072,
   "metadata": {},
   "outputs": [],
   "source": [
    "brooklyn_neigh['14'] = (brooklyn_neigh['11']+ brooklyn_neigh['22']+ brooklyn_neigh['67']+ brooklyn_neigh['14']+ brooklyn_neigh['21'])"
   ]
  },
  {
   "cell_type": "code",
   "execution_count": 1073,
   "metadata": {},
   "outputs": [],
   "source": [
    "brooklyn_neigh = brooklyn_neigh.drop(['11', '22', '67', '21'], axis = 1)"
   ]
  },
  {
   "cell_type": "markdown",
   "metadata": {},
   "source": [
    "'26', '227', '133', '111', '257' -> '228'"
   ]
  },
  {
   "cell_type": "code",
   "execution_count": 1075,
   "metadata": {},
   "outputs": [],
   "source": [
    "brooklyn_neigh['228'] = (brooklyn_neigh['26']+ brooklyn_neigh['227']+ brooklyn_neigh['133']+ brooklyn_neigh['111']+ brooklyn_neigh['257']+ brooklyn_neigh['228'])"
   ]
  },
  {
   "cell_type": "code",
   "execution_count": 1076,
   "metadata": {},
   "outputs": [],
   "source": [
    "brooklyn_neigh = brooklyn_neigh.drop(['26', '227', '133', '111', '257'], axis = 1)"
   ]
  },
  {
   "cell_type": "markdown",
   "metadata": {},
   "source": [
    "'29', '150', '108', '154', '210', '123', '149', '155' -> '55'"
   ]
  },
  {
   "cell_type": "code",
   "execution_count": 1078,
   "metadata": {},
   "outputs": [],
   "source": [
    "brooklyn_neigh['55'] = (brooklyn_neigh['29']+ brooklyn_neigh['150']+ brooklyn_neigh['55']+ brooklyn_neigh['108']+ brooklyn_neigh['154']+ brooklyn_neigh['210']+ brooklyn_neigh['123']+ brooklyn_neigh['149']+ brooklyn_neigh['155'])"
   ]
  },
  {
   "cell_type": "code",
   "execution_count": 1079,
   "metadata": {},
   "outputs": [],
   "source": [
    "brooklyn_neigh = brooklyn_neigh.drop(['29', '150', '108', '154', '210', '123', '149', '155'], axis = 1)"
   ]
  },
  {
   "cell_type": "markdown",
   "metadata": {},
   "source": [
    "'36' -> '37'"
   ]
  },
  {
   "cell_type": "code",
   "execution_count": 1081,
   "metadata": {},
   "outputs": [],
   "source": [
    "brooklyn_neigh['37'] = (brooklyn_neigh['36']+ brooklyn_neigh['37'])"
   ]
  },
  {
   "cell_type": "code",
   "execution_count": 1082,
   "metadata": {},
   "outputs": [],
   "source": [
    "brooklyn_neigh = brooklyn_neigh.drop(['36'], axis = 1)"
   ]
  },
  {
   "cell_type": "markdown",
   "metadata": {},
   "source": [
    "'35', '77', '222', '63', '39' -> '76'"
   ]
  },
  {
   "cell_type": "code",
   "execution_count": 1084,
   "metadata": {},
   "outputs": [],
   "source": [
    "brooklyn_neigh['76'] = (brooklyn_neigh['35']+ brooklyn_neigh['77']+ brooklyn_neigh['76']+ brooklyn_neigh['222']+ brooklyn_neigh['63']+ brooklyn_neigh['39'] )"
   ]
  },
  {
   "cell_type": "code",
   "execution_count": 1085,
   "metadata": {},
   "outputs": [],
   "source": [
    "brooklyn_neigh = brooklyn_neigh.drop(['35', '77', '222', '63', '39'], axis = 1)"
   ]
  },
  {
   "cell_type": "markdown",
   "metadata": {},
   "source": [
    "'52' -> '54'"
   ]
  },
  {
   "cell_type": "code",
   "execution_count": 1088,
   "metadata": {},
   "outputs": [],
   "source": [
    "brooklyn_neigh['54'] = (brooklyn_neigh['54']+ brooklyn_neigh['52'])"
   ]
  },
  {
   "cell_type": "markdown",
   "metadata": {},
   "source": [
    "'62' -> '61'"
   ]
  },
  {
   "cell_type": "code",
   "execution_count": 1091,
   "metadata": {},
   "outputs": [],
   "source": [
    "brooklyn_neigh['61'] = (brooklyn_neigh['62']+ brooklyn_neigh['61'])"
   ]
  },
  {
   "cell_type": "code",
   "execution_count": 1092,
   "metadata": {},
   "outputs": [],
   "source": [
    "brooklyn_neigh = brooklyn_neigh.drop(['52', '62'], axis = 1)"
   ]
  },
  {
   "cell_type": "markdown",
   "metadata": {},
   "source": [
    "'72', '85', '188' -> '71'"
   ]
  },
  {
   "cell_type": "code",
   "execution_count": 1097,
   "metadata": {},
   "outputs": [],
   "source": [
    "brooklyn_neigh['71'] = (brooklyn_neigh['71']+ brooklyn_neigh['72']+ brooklyn_neigh['85']+ brooklyn_neigh['188'])"
   ]
  },
  {
   "cell_type": "code",
   "execution_count": 1098,
   "metadata": {},
   "outputs": [],
   "source": [
    "brooklyn_neigh = brooklyn_neigh.drop(['72', '85', '188'], axis = 1)"
   ]
  },
  {
   "cell_type": "markdown",
   "metadata": {},
   "source": [
    "'91', '165', '178' -> '89'"
   ]
  },
  {
   "cell_type": "code",
   "execution_count": 1101,
   "metadata": {},
   "outputs": [],
   "source": [
    "brooklyn_neigh['89'] = (brooklyn_neigh['91']+ brooklyn_neigh['165']+ brooklyn_neigh['178']+ brooklyn_neigh['89'])"
   ]
  },
  {
   "cell_type": "code",
   "execution_count": 1102,
   "metadata": {},
   "outputs": [],
   "source": [
    "brooklyn_neigh = brooklyn_neigh.drop(['91', '165', '178'], axis = 1)"
   ]
  },
  {
   "cell_type": "markdown",
   "metadata": {},
   "source": [
    "'177', '225' -> '37'"
   ]
  },
  {
   "cell_type": "code",
   "execution_count": 1106,
   "metadata": {},
   "outputs": [],
   "source": [
    "brooklyn_neigh['37']= (brooklyn_neigh['177']+ brooklyn_neigh['225']+ brooklyn_neigh['37'])"
   ]
  },
  {
   "cell_type": "code",
   "execution_count": 1107,
   "metadata": {},
   "outputs": [],
   "source": [
    "brooklyn_neigh = brooklyn_neigh.drop(['177', '225'], axis = 1)"
   ]
  },
  {
   "cell_type": "markdown",
   "metadata": {},
   "source": [
    "'190' -> '181'"
   ]
  },
  {
   "cell_type": "code",
   "execution_count": 1110,
   "metadata": {},
   "outputs": [],
   "source": [
    "brooklyn_neigh['181'] = (brooklyn_neigh['190']+ brooklyn_neigh['181'])"
   ]
  },
  {
   "cell_type": "code",
   "execution_count": 1111,
   "metadata": {},
   "outputs": [],
   "source": [
    "brooklyn_neigh = brooklyn_neigh.drop(['190'], axis = 1)"
   ]
  },
  {
   "cell_type": "markdown",
   "metadata": {},
   "source": [
    "'195' -> '40'"
   ]
  },
  {
   "cell_type": "code",
   "execution_count": 1114,
   "metadata": {},
   "outputs": [],
   "source": [
    "brooklyn_neigh['40'] = (brooklyn_neigh['195']+ brooklyn_neigh['40'])"
   ]
  },
  {
   "cell_type": "code",
   "execution_count": 1115,
   "metadata": {},
   "outputs": [],
   "source": [
    "brooklyn_neigh = brooklyn_neigh.drop(['195'], axis = 1)"
   ]
  },
  {
   "cell_type": "markdown",
   "metadata": {},
   "source": [
    "'217' -> '256'"
   ]
  },
  {
   "cell_type": "code",
   "execution_count": 1117,
   "metadata": {},
   "outputs": [],
   "source": [
    "brooklyn_neigh['256'] = (brooklyn_neigh['217']+ brooklyn_neigh['256'])"
   ]
  },
  {
   "cell_type": "code",
   "execution_count": 1118,
   "metadata": {},
   "outputs": [],
   "source": [
    "brooklyn_neigh = brooklyn_neigh.drop(['217'], axis = 1)"
   ]
  },
  {
   "cell_type": "code",
   "execution_count": 1119,
   "metadata": {
    "collapsed": true
   },
   "outputs": [
    {
     "data": {
      "text/plain": [
       "14     6372\n",
       "17     6992\n",
       "25     8723\n",
       "33     8290\n",
       "37     8221\n",
       "40     8197\n",
       "49     7751\n",
       "54     7773\n",
       "55     5966\n",
       "61     7967\n",
       "65     8682\n",
       "66     7696\n",
       "71     7785\n",
       "76     7150\n",
       "80     7307\n",
       "89     7332\n",
       "97     8643\n",
       "106    6363\n",
       "112    7757\n",
       "181    8608\n",
       "189    7046\n",
       "228    7834\n",
       "255    8034\n",
       "256    8384\n",
       "dtype: int64"
      ]
     },
     "execution_count": 1119,
     "metadata": {},
     "output_type": "execute_result"
    }
   ],
   "source": [
    "(brooklyn_neigh > 0).sum()"
   ]
  },
  {
   "cell_type": "code",
   "execution_count": 1120,
   "metadata": {},
   "outputs": [
    {
     "data": {
      "text/html": [
       "<div>\n",
       "<style scoped>\n",
       "    .dataframe tbody tr th:only-of-type {\n",
       "        vertical-align: middle;\n",
       "    }\n",
       "\n",
       "    .dataframe tbody tr th {\n",
       "        vertical-align: top;\n",
       "    }\n",
       "\n",
       "    .dataframe thead th {\n",
       "        text-align: right;\n",
       "    }\n",
       "</style>\n",
       "<table border=\"1\" class=\"dataframe\">\n",
       "  <thead>\n",
       "    <tr style=\"text-align: right;\">\n",
       "      <th></th>\n",
       "      <th>14</th>\n",
       "      <th>17</th>\n",
       "      <th>25</th>\n",
       "      <th>33</th>\n",
       "      <th>37</th>\n",
       "      <th>40</th>\n",
       "      <th>49</th>\n",
       "      <th>54</th>\n",
       "      <th>55</th>\n",
       "      <th>61</th>\n",
       "      <th>...</th>\n",
       "      <th>80</th>\n",
       "      <th>89</th>\n",
       "      <th>97</th>\n",
       "      <th>106</th>\n",
       "      <th>112</th>\n",
       "      <th>181</th>\n",
       "      <th>189</th>\n",
       "      <th>228</th>\n",
       "      <th>255</th>\n",
       "      <th>256</th>\n",
       "    </tr>\n",
       "    <tr>\n",
       "      <th>ds</th>\n",
       "      <th></th>\n",
       "      <th></th>\n",
       "      <th></th>\n",
       "      <th></th>\n",
       "      <th></th>\n",
       "      <th></th>\n",
       "      <th></th>\n",
       "      <th></th>\n",
       "      <th></th>\n",
       "      <th></th>\n",
       "      <th></th>\n",
       "      <th></th>\n",
       "      <th></th>\n",
       "      <th></th>\n",
       "      <th></th>\n",
       "      <th></th>\n",
       "      <th></th>\n",
       "      <th></th>\n",
       "      <th></th>\n",
       "      <th></th>\n",
       "      <th></th>\n",
       "    </tr>\n",
       "  </thead>\n",
       "  <tbody>\n",
       "    <tr>\n",
       "      <th>2018-01-01 00:00:00</th>\n",
       "      <td>2.0</td>\n",
       "      <td>7.0</td>\n",
       "      <td>18.0</td>\n",
       "      <td>11.0</td>\n",
       "      <td>19.0</td>\n",
       "      <td>7.0</td>\n",
       "      <td>7.0</td>\n",
       "      <td>5.0</td>\n",
       "      <td>1.0</td>\n",
       "      <td>7.0</td>\n",
       "      <td>...</td>\n",
       "      <td>24.0</td>\n",
       "      <td>2.0</td>\n",
       "      <td>5.0</td>\n",
       "      <td>3.0</td>\n",
       "      <td>15.0</td>\n",
       "      <td>24.0</td>\n",
       "      <td>8.0</td>\n",
       "      <td>8.0</td>\n",
       "      <td>41.0</td>\n",
       "      <td>32.0</td>\n",
       "    </tr>\n",
       "    <tr>\n",
       "      <th>2018-01-01 01:00:00</th>\n",
       "      <td>2.0</td>\n",
       "      <td>17.0</td>\n",
       "      <td>53.0</td>\n",
       "      <td>25.0</td>\n",
       "      <td>67.0</td>\n",
       "      <td>33.0</td>\n",
       "      <td>23.0</td>\n",
       "      <td>13.0</td>\n",
       "      <td>2.0</td>\n",
       "      <td>20.0</td>\n",
       "      <td>...</td>\n",
       "      <td>73.0</td>\n",
       "      <td>10.0</td>\n",
       "      <td>40.0</td>\n",
       "      <td>16.0</td>\n",
       "      <td>65.0</td>\n",
       "      <td>61.0</td>\n",
       "      <td>21.0</td>\n",
       "      <td>19.0</td>\n",
       "      <td>96.0</td>\n",
       "      <td>77.0</td>\n",
       "    </tr>\n",
       "    <tr>\n",
       "      <th>2018-01-01 02:00:00</th>\n",
       "      <td>5.0</td>\n",
       "      <td>22.0</td>\n",
       "      <td>38.0</td>\n",
       "      <td>12.0</td>\n",
       "      <td>110.0</td>\n",
       "      <td>18.0</td>\n",
       "      <td>24.0</td>\n",
       "      <td>12.0</td>\n",
       "      <td>0.0</td>\n",
       "      <td>20.0</td>\n",
       "      <td>...</td>\n",
       "      <td>78.0</td>\n",
       "      <td>6.0</td>\n",
       "      <td>27.0</td>\n",
       "      <td>9.0</td>\n",
       "      <td>64.0</td>\n",
       "      <td>69.0</td>\n",
       "      <td>18.0</td>\n",
       "      <td>21.0</td>\n",
       "      <td>117.0</td>\n",
       "      <td>99.0</td>\n",
       "    </tr>\n",
       "    <tr>\n",
       "      <th>2018-01-01 03:00:00</th>\n",
       "      <td>6.0</td>\n",
       "      <td>20.0</td>\n",
       "      <td>20.0</td>\n",
       "      <td>9.0</td>\n",
       "      <td>111.0</td>\n",
       "      <td>4.0</td>\n",
       "      <td>20.0</td>\n",
       "      <td>3.0</td>\n",
       "      <td>3.0</td>\n",
       "      <td>15.0</td>\n",
       "      <td>...</td>\n",
       "      <td>72.0</td>\n",
       "      <td>2.0</td>\n",
       "      <td>20.0</td>\n",
       "      <td>9.0</td>\n",
       "      <td>40.0</td>\n",
       "      <td>29.0</td>\n",
       "      <td>18.0</td>\n",
       "      <td>13.0</td>\n",
       "      <td>88.0</td>\n",
       "      <td>106.0</td>\n",
       "    </tr>\n",
       "    <tr>\n",
       "      <th>2018-01-01 04:00:00</th>\n",
       "      <td>4.0</td>\n",
       "      <td>17.0</td>\n",
       "      <td>21.0</td>\n",
       "      <td>6.0</td>\n",
       "      <td>97.0</td>\n",
       "      <td>8.0</td>\n",
       "      <td>15.0</td>\n",
       "      <td>1.0</td>\n",
       "      <td>2.0</td>\n",
       "      <td>14.0</td>\n",
       "      <td>...</td>\n",
       "      <td>60.0</td>\n",
       "      <td>2.0</td>\n",
       "      <td>10.0</td>\n",
       "      <td>8.0</td>\n",
       "      <td>28.0</td>\n",
       "      <td>19.0</td>\n",
       "      <td>8.0</td>\n",
       "      <td>11.0</td>\n",
       "      <td>73.0</td>\n",
       "      <td>56.0</td>\n",
       "    </tr>\n",
       "  </tbody>\n",
       "</table>\n",
       "<p>5 rows × 24 columns</p>\n",
       "</div>"
      ],
      "text/plain": [
       "                      14    17    25    33     37    40    49    54   55  \\\n",
       "ds                                                                         \n",
       "2018-01-01 00:00:00  2.0   7.0  18.0  11.0   19.0   7.0   7.0   5.0  1.0   \n",
       "2018-01-01 01:00:00  2.0  17.0  53.0  25.0   67.0  33.0  23.0  13.0  2.0   \n",
       "2018-01-01 02:00:00  5.0  22.0  38.0  12.0  110.0  18.0  24.0  12.0  0.0   \n",
       "2018-01-01 03:00:00  6.0  20.0  20.0   9.0  111.0   4.0  20.0   3.0  3.0   \n",
       "2018-01-01 04:00:00  4.0  17.0  21.0   6.0   97.0   8.0  15.0   1.0  2.0   \n",
       "\n",
       "                       61  ...    80    89    97   106   112   181   189  \\\n",
       "ds                         ...                                             \n",
       "2018-01-01 00:00:00   7.0  ...  24.0   2.0   5.0   3.0  15.0  24.0   8.0   \n",
       "2018-01-01 01:00:00  20.0  ...  73.0  10.0  40.0  16.0  65.0  61.0  21.0   \n",
       "2018-01-01 02:00:00  20.0  ...  78.0   6.0  27.0   9.0  64.0  69.0  18.0   \n",
       "2018-01-01 03:00:00  15.0  ...  72.0   2.0  20.0   9.0  40.0  29.0  18.0   \n",
       "2018-01-01 04:00:00  14.0  ...  60.0   2.0  10.0   8.0  28.0  19.0   8.0   \n",
       "\n",
       "                      228    255    256  \n",
       "ds                                       \n",
       "2018-01-01 00:00:00   8.0   41.0   32.0  \n",
       "2018-01-01 01:00:00  19.0   96.0   77.0  \n",
       "2018-01-01 02:00:00  21.0  117.0   99.0  \n",
       "2018-01-01 03:00:00  13.0   88.0  106.0  \n",
       "2018-01-01 04:00:00  11.0   73.0   56.0  \n",
       "\n",
       "[5 rows x 24 columns]"
      ]
     },
     "execution_count": 1120,
     "metadata": {},
     "output_type": "execute_result"
    }
   ],
   "source": [
    "brooklyn_neigh.head()"
   ]
  },
  {
   "cell_type": "code",
   "execution_count": 1121,
   "metadata": {},
   "outputs": [],
   "source": [
    "brooklyn_neigh.to_csv(\"./models/brooklyn_neigh_demand.csv\")"
   ]
  },
  {
   "cell_type": "markdown",
   "metadata": {},
   "source": [
    "### Queens"
   ]
  },
  {
   "cell_type": "code",
   "execution_count": 188,
   "metadata": {
    "collapsed": true
   },
   "outputs": [
    {
     "data": {
      "text/plain": [
       "2      8689\n",
       "7         1\n",
       "8      7804\n",
       "9      7953\n",
       "10     1418\n",
       "15     7919\n",
       "16     7334\n",
       "19     7349\n",
       "27     8680\n",
       "28     3797\n",
       "30     8738\n",
       "38     7588\n",
       "53     7760\n",
       "56     5334\n",
       "57     8429\n",
       "64     8031\n",
       "70     2310\n",
       "73     8323\n",
       "82      962\n",
       "83     2965\n",
       "86     8063\n",
       "92     5191\n",
       "93     2986\n",
       "95     2243\n",
       "96     8490\n",
       "98     7706\n",
       "101    7586\n",
       "102    7459\n",
       "117    8165\n",
       "121    6919\n",
       "       ... \n",
       "139    7373\n",
       "145      26\n",
       "146      21\n",
       "157    5122\n",
       "160    7055\n",
       "171    7491\n",
       "173    6084\n",
       "175    7789\n",
       "179     182\n",
       "180    7473\n",
       "191    6410\n",
       "192    7638\n",
       "193     210\n",
       "196    3824\n",
       "197    4959\n",
       "198    6076\n",
       "201    8553\n",
       "203    7176\n",
       "205    6208\n",
       "207    6104\n",
       "215    3392\n",
       "216    2794\n",
       "218    6074\n",
       "219    3845\n",
       "223     254\n",
       "226       1\n",
       "252    7702\n",
       "253    8480\n",
       "258    7011\n",
       "260     199\n",
       "Length: 69, dtype: int64"
      ]
     },
     "execution_count": 188,
     "metadata": {},
     "output_type": "execute_result"
    }
   ],
   "source": [
    "demand[lst_queens].isna().sum()"
   ]
  },
  {
   "cell_type": "code",
   "execution_count": 29,
   "metadata": {},
   "outputs": [],
   "source": [
    "queens_neigh = demand[lst_queens].copy().fillna(0)"
   ]
  },
  {
   "cell_type": "code",
   "execution_count": 31,
   "metadata": {},
   "outputs": [
    {
     "data": {
      "text/plain": [
       "1802.0"
      ]
     },
     "execution_count": 31,
     "metadata": {},
     "output_type": "execute_result"
    }
   ],
   "source": [
    "(queens_neigh['2'] + queens_neigh['27'] + queens_neigh['201'] + queens_neigh['117'] + queens_neigh['86'] ).sum()"
   ]
  },
  {
   "cell_type": "code",
   "execution_count": 32,
   "metadata": {},
   "outputs": [],
   "source": [
    "queens_neigh = queens_neigh.drop(['2', '27', '201', '117', '86'], axis = 1)"
   ]
  },
  {
   "cell_type": "code",
   "execution_count": 89,
   "metadata": {},
   "outputs": [],
   "source": [
    "queens_neigh = queens_neigh.drop(['30'], axis = 1)"
   ]
  },
  {
   "cell_type": "markdown",
   "metadata": {},
   "source": [
    "'8' -> '179'"
   ]
  },
  {
   "cell_type": "code",
   "execution_count": 41,
   "metadata": {},
   "outputs": [],
   "source": [
    "queens_neigh['179'] = ((queens_neigh['8'] + queens_neigh['179']))"
   ]
  },
  {
   "cell_type": "code",
   "execution_count": 42,
   "metadata": {},
   "outputs": [],
   "source": [
    "queens_neigh = queens_neigh.drop(['8'], axis = 1)"
   ]
  },
  {
   "cell_type": "markdown",
   "metadata": {},
   "source": [
    "'15', '16', '171', '252', '73', '53', '92', '192', '253' -> '9'"
   ]
  },
  {
   "cell_type": "code",
   "execution_count": 69,
   "metadata": {},
   "outputs": [],
   "source": [
    "#concat murray hill, flushing\n",
    "queens_neigh['9'] = (queens_neigh['9'] + queens_neigh['15'] + queens_neigh['16']  + queens_neigh['171'] + queens_neigh['252'] + queens_neigh['73'] + queens_neigh['53'] + queens_neigh['92'] + queens_neigh['192'] + queens_neigh['253'])"
   ]
  },
  {
   "cell_type": "code",
   "execution_count": 70,
   "metadata": {},
   "outputs": [],
   "source": [
    "queens_neigh = queens_neigh.drop(['15', '16', '171', '252', '73', '53', '92', '192', '253'], axis = 1)"
   ]
  },
  {
   "cell_type": "code",
   "execution_count": 82,
   "metadata": {},
   "outputs": [
    {
     "data": {
      "text/plain": [
       "3381"
      ]
     },
     "execution_count": 82,
     "metadata": {},
     "output_type": "execute_result"
    }
   ],
   "source": [
    "((queens_neigh['19'] + queens_neigh['101']+ queens_neigh['64']+ queens_neigh['175'])>0).sum()"
   ]
  },
  {
   "cell_type": "code",
   "execution_count": 83,
   "metadata": {},
   "outputs": [],
   "source": [
    "queens_neigh = queens_neigh.drop(['19', '101', '64', '175'], axis = 1)"
   ]
  },
  {
   "cell_type": "markdown",
   "metadata": {},
   "source": [
    "'38', '122', '205', '122', '139', '203', '219', '218' -> '191'"
   ]
  },
  {
   "cell_type": "code",
   "execution_count": 107,
   "metadata": {},
   "outputs": [],
   "source": [
    "queens_neigh['191'] = (queens_neigh['38'] + queens_neigh['191']+ queens_neigh['122']+ queens_neigh['205']+ queens_neigh['122']+ queens_neigh['139']+ queens_neigh['203']+ queens_neigh['219']+ queens_neigh['218'])"
   ]
  },
  {
   "cell_type": "code",
   "execution_count": 108,
   "metadata": {},
   "outputs": [],
   "source": [
    "queens_neigh = queens_neigh.drop(['38', '122', '205', '122', '139', '203', '219', '218'], axis = 1)"
   ]
  },
  {
   "cell_type": "markdown",
   "metadata": {},
   "source": [
    "'196', '93', '173', '56', '57' -> '95'"
   ]
  },
  {
   "cell_type": "code",
   "execution_count": 128,
   "metadata": {},
   "outputs": [],
   "source": [
    "queens_neigh['95'] = (queens_neigh['56'] + queens_neigh['57'] + queens_neigh['173'] + queens_neigh['93'] + queens_neigh['95'] + queens_neigh['196'])"
   ]
  },
  {
   "cell_type": "code",
   "execution_count": 129,
   "metadata": {},
   "outputs": [],
   "source": [
    "queens_neigh = queens_neigh.drop(['196', '93', '173', '56', '57'], axis = 1)"
   ]
  },
  {
   "cell_type": "markdown",
   "metadata": {},
   "source": [
    "'96', '102', '160', '157', '82', '83' -> '198'"
   ]
  },
  {
   "cell_type": "code",
   "execution_count": 163,
   "metadata": {},
   "outputs": [],
   "source": [
    "queens_neigh['198'] = ((queens_neigh['96'] + queens_neigh['102'] + queens_neigh['198'] + queens_neigh['160']+ queens_neigh['157']+ queens_neigh['82']+ queens_neigh['83']))"
   ]
  },
  {
   "cell_type": "code",
   "execution_count": 164,
   "metadata": {},
   "outputs": [],
   "source": [
    "queens_neigh = queens_neigh.drop(['96', '102', '160', '157', '82', '83'], axis = 1)"
   ]
  },
  {
   "cell_type": "code",
   "execution_count": 173,
   "metadata": {},
   "outputs": [
    {
     "data": {
      "text/plain": [
       "6818"
      ]
     },
     "execution_count": 173,
     "metadata": {},
     "output_type": "execute_result"
    }
   ],
   "source": [
    "((queens_neigh['98'] + queens_neigh['121']+ queens_neigh['131']+ queens_neigh['28']+ queens_neigh['135'] ) >0).sum()"
   ]
  },
  {
   "cell_type": "markdown",
   "metadata": {},
   "source": [
    "'121', '131', '28', '135', '207' -> '98'"
   ]
  },
  {
   "cell_type": "code",
   "execution_count": 174,
   "metadata": {},
   "outputs": [],
   "source": [
    "queens_neigh['98'] = ((queens_neigh['98'] + queens_neigh['121']+ queens_neigh['131']+ queens_neigh['28']+ queens_neigh['135'] ))"
   ]
  },
  {
   "cell_type": "code",
   "execution_count": 175,
   "metadata": {},
   "outputs": [],
   "source": [
    "queens_neigh = queens_neigh.drop(['121', '131', '28', '135', '207'], axis = 1)"
   ]
  },
  {
   "cell_type": "markdown",
   "metadata": {},
   "source": [
    "'180', '258', '197', '134', '124' -> '216'"
   ]
  },
  {
   "cell_type": "code",
   "execution_count": 182,
   "metadata": {},
   "outputs": [],
   "source": [
    "queens_neigh['216'] = ((queens_neigh['124'] + queens_neigh['180'] + queens_neigh['258'] + queens_neigh['216']+ queens_neigh['197']+ queens_neigh['134']))"
   ]
  },
  {
   "cell_type": "code",
   "execution_count": 185,
   "metadata": {},
   "outputs": [],
   "source": [
    "queens_neigh = queens_neigh.drop(['180', '258', '197', '134', '124'], axis = 1)"
   ]
  },
  {
   "cell_type": "markdown",
   "metadata": {},
   "source": [
    "'207' -> '260'"
   ]
  },
  {
   "cell_type": "code",
   "execution_count": 193,
   "metadata": {},
   "outputs": [],
   "source": [
    "queens_neigh['260'] = (queens_neigh['207']+queens_neigh['260'])"
   ]
  },
  {
   "cell_type": "code",
   "execution_count": 194,
   "metadata": {},
   "outputs": [],
   "source": [
    "queens_neigh = queens_neigh.drop(['207'], axis = 1)"
   ]
  },
  {
   "cell_type": "code",
   "execution_count": 195,
   "metadata": {},
   "outputs": [
    {
     "data": {
      "text/html": [
       "<div>\n",
       "<style scoped>\n",
       "    .dataframe tbody tr th:only-of-type {\n",
       "        vertical-align: middle;\n",
       "    }\n",
       "\n",
       "    .dataframe tbody tr th {\n",
       "        vertical-align: top;\n",
       "    }\n",
       "\n",
       "    .dataframe thead th {\n",
       "        text-align: right;\n",
       "    }\n",
       "</style>\n",
       "<table border=\"1\" class=\"dataframe\">\n",
       "  <thead>\n",
       "    <tr style=\"text-align: right;\">\n",
       "      <th></th>\n",
       "      <th>7</th>\n",
       "      <th>9</th>\n",
       "      <th>10</th>\n",
       "      <th>70</th>\n",
       "      <th>95</th>\n",
       "      <th>98</th>\n",
       "      <th>129</th>\n",
       "      <th>130</th>\n",
       "      <th>132</th>\n",
       "      <th>138</th>\n",
       "      <th>...</th>\n",
       "      <th>146</th>\n",
       "      <th>179</th>\n",
       "      <th>191</th>\n",
       "      <th>193</th>\n",
       "      <th>198</th>\n",
       "      <th>215</th>\n",
       "      <th>216</th>\n",
       "      <th>223</th>\n",
       "      <th>226</th>\n",
       "      <th>260</th>\n",
       "    </tr>\n",
       "    <tr>\n",
       "      <th>ds</th>\n",
       "      <th></th>\n",
       "      <th></th>\n",
       "      <th></th>\n",
       "      <th></th>\n",
       "      <th></th>\n",
       "      <th></th>\n",
       "      <th></th>\n",
       "      <th></th>\n",
       "      <th></th>\n",
       "      <th></th>\n",
       "      <th></th>\n",
       "      <th></th>\n",
       "      <th></th>\n",
       "      <th></th>\n",
       "      <th></th>\n",
       "      <th></th>\n",
       "      <th></th>\n",
       "      <th></th>\n",
       "      <th></th>\n",
       "      <th></th>\n",
       "      <th></th>\n",
       "    </tr>\n",
       "  </thead>\n",
       "  <tbody>\n",
       "    <tr>\n",
       "      <th>2018-01-01 00:00:00</th>\n",
       "      <td>41.0</td>\n",
       "      <td>2.0</td>\n",
       "      <td>0.0</td>\n",
       "      <td>3.0</td>\n",
       "      <td>6.0</td>\n",
       "      <td>1.0</td>\n",
       "      <td>15.0</td>\n",
       "      <td>2.0</td>\n",
       "      <td>174.0</td>\n",
       "      <td>67.0</td>\n",
       "      <td>...</td>\n",
       "      <td>21.0</td>\n",
       "      <td>13.0</td>\n",
       "      <td>1.0</td>\n",
       "      <td>10.0</td>\n",
       "      <td>8.0</td>\n",
       "      <td>2.0</td>\n",
       "      <td>3.0</td>\n",
       "      <td>15.0</td>\n",
       "      <td>9.0</td>\n",
       "      <td>10.0</td>\n",
       "    </tr>\n",
       "    <tr>\n",
       "      <th>2018-01-01 01:00:00</th>\n",
       "      <td>100.0</td>\n",
       "      <td>4.0</td>\n",
       "      <td>1.0</td>\n",
       "      <td>4.0</td>\n",
       "      <td>15.0</td>\n",
       "      <td>1.0</td>\n",
       "      <td>37.0</td>\n",
       "      <td>0.0</td>\n",
       "      <td>133.0</td>\n",
       "      <td>8.0</td>\n",
       "      <td>...</td>\n",
       "      <td>29.0</td>\n",
       "      <td>38.0</td>\n",
       "      <td>0.0</td>\n",
       "      <td>8.0</td>\n",
       "      <td>39.0</td>\n",
       "      <td>2.0</td>\n",
       "      <td>2.0</td>\n",
       "      <td>35.0</td>\n",
       "      <td>31.0</td>\n",
       "      <td>19.0</td>\n",
       "    </tr>\n",
       "    <tr>\n",
       "      <th>2018-01-01 02:00:00</th>\n",
       "      <td>133.0</td>\n",
       "      <td>1.0</td>\n",
       "      <td>0.0</td>\n",
       "      <td>6.0</td>\n",
       "      <td>19.0</td>\n",
       "      <td>1.0</td>\n",
       "      <td>32.0</td>\n",
       "      <td>1.0</td>\n",
       "      <td>33.0</td>\n",
       "      <td>0.0</td>\n",
       "      <td>...</td>\n",
       "      <td>28.0</td>\n",
       "      <td>33.0</td>\n",
       "      <td>0.0</td>\n",
       "      <td>8.0</td>\n",
       "      <td>78.0</td>\n",
       "      <td>0.0</td>\n",
       "      <td>1.0</td>\n",
       "      <td>40.0</td>\n",
       "      <td>54.0</td>\n",
       "      <td>46.0</td>\n",
       "    </tr>\n",
       "    <tr>\n",
       "      <th>2018-01-01 03:00:00</th>\n",
       "      <td>107.0</td>\n",
       "      <td>3.0</td>\n",
       "      <td>1.0</td>\n",
       "      <td>1.0</td>\n",
       "      <td>19.0</td>\n",
       "      <td>2.0</td>\n",
       "      <td>69.0</td>\n",
       "      <td>1.0</td>\n",
       "      <td>26.0</td>\n",
       "      <td>0.0</td>\n",
       "      <td>...</td>\n",
       "      <td>33.0</td>\n",
       "      <td>20.0</td>\n",
       "      <td>2.0</td>\n",
       "      <td>6.0</td>\n",
       "      <td>38.0</td>\n",
       "      <td>1.0</td>\n",
       "      <td>1.0</td>\n",
       "      <td>18.0</td>\n",
       "      <td>39.0</td>\n",
       "      <td>30.0</td>\n",
       "    </tr>\n",
       "    <tr>\n",
       "      <th>2018-01-01 04:00:00</th>\n",
       "      <td>106.0</td>\n",
       "      <td>3.0</td>\n",
       "      <td>1.0</td>\n",
       "      <td>4.0</td>\n",
       "      <td>22.0</td>\n",
       "      <td>5.0</td>\n",
       "      <td>57.0</td>\n",
       "      <td>0.0</td>\n",
       "      <td>40.0</td>\n",
       "      <td>7.0</td>\n",
       "      <td>...</td>\n",
       "      <td>29.0</td>\n",
       "      <td>23.0</td>\n",
       "      <td>0.0</td>\n",
       "      <td>9.0</td>\n",
       "      <td>62.0</td>\n",
       "      <td>0.0</td>\n",
       "      <td>5.0</td>\n",
       "      <td>21.0</td>\n",
       "      <td>64.0</td>\n",
       "      <td>41.0</td>\n",
       "    </tr>\n",
       "  </tbody>\n",
       "</table>\n",
       "<p>5 rows × 21 columns</p>\n",
       "</div>"
      ],
      "text/plain": [
       "                         7    9   10   70    95   98   129  130    132   138  \\\n",
       "ds                                                                             \n",
       "2018-01-01 00:00:00   41.0  2.0  0.0  3.0   6.0  1.0  15.0  2.0  174.0  67.0   \n",
       "2018-01-01 01:00:00  100.0  4.0  1.0  4.0  15.0  1.0  37.0  0.0  133.0   8.0   \n",
       "2018-01-01 02:00:00  133.0  1.0  0.0  6.0  19.0  1.0  32.0  1.0   33.0   0.0   \n",
       "2018-01-01 03:00:00  107.0  3.0  1.0  1.0  19.0  2.0  69.0  1.0   26.0   0.0   \n",
       "2018-01-01 04:00:00  106.0  3.0  1.0  4.0  22.0  5.0  57.0  0.0   40.0   7.0   \n",
       "\n",
       "                     ...   146   179  191   193   198  215  216   223   226  \\\n",
       "ds                   ...                                                      \n",
       "2018-01-01 00:00:00  ...  21.0  13.0  1.0  10.0   8.0  2.0  3.0  15.0   9.0   \n",
       "2018-01-01 01:00:00  ...  29.0  38.0  0.0   8.0  39.0  2.0  2.0  35.0  31.0   \n",
       "2018-01-01 02:00:00  ...  28.0  33.0  0.0   8.0  78.0  0.0  1.0  40.0  54.0   \n",
       "2018-01-01 03:00:00  ...  33.0  20.0  2.0   6.0  38.0  1.0  1.0  18.0  39.0   \n",
       "2018-01-01 04:00:00  ...  29.0  23.0  0.0   9.0  62.0  0.0  5.0  21.0  64.0   \n",
       "\n",
       "                      260  \n",
       "ds                         \n",
       "2018-01-01 00:00:00  10.0  \n",
       "2018-01-01 01:00:00  19.0  \n",
       "2018-01-01 02:00:00  46.0  \n",
       "2018-01-01 03:00:00  30.0  \n",
       "2018-01-01 04:00:00  41.0  \n",
       "\n",
       "[5 rows x 21 columns]"
      ]
     },
     "execution_count": 195,
     "metadata": {},
     "output_type": "execute_result"
    }
   ],
   "source": [
    "queens_neigh.head()"
   ]
  },
  {
   "cell_type": "code",
   "execution_count": 200,
   "metadata": {},
   "outputs": [],
   "source": [
    "queens_neigh.to_csv(\"./models/queens_neigh_demand.csv\")"
   ]
  },
  {
   "cell_type": "markdown",
   "metadata": {},
   "source": [
    "## Neighborhood demand forecasting"
   ]
  },
  {
   "cell_type": "code",
   "execution_count": 201,
   "metadata": {},
   "outputs": [],
   "source": [
    "def run_model_for_neigh(neigh, exog, add_regressor = False, date1='2018-11-12', date2 = '2018-11-17'):\n",
    "    df = neigh.reset_index()\n",
    "    df.columns = ['ds', 'y']\n",
    "    df_exog = df.join(exog)\n",
    "    num_pounts_to_pred = int((pd.to_datetime(date2)-pd.to_datetime(date1))/np.timedelta64(1, 'h'))\n",
    "    train = df_exog[df_exog.ds < date1]\n",
    "    test = df_exog[(df_exog.ds >= date1) & (df_exog.ds < date2)]\n",
    "    m=Prophet(holidays=hol,yearly_seasonality=False, weekly_seasonality= True, daily_seasonality=True )\n",
    "    for reg in add_regressor:\n",
    "        m.add_regressor(reg)\n",
    "    m.fit(train)\n",
    "    future = m.make_future_dataframe(periods=num_pounts_to_pred, freq='h', include_history=False)\n",
    "    for reg in add_regressor:\n",
    "        future[reg] = test.reset_index()[reg]\n",
    "        future = future.fillna(method = 'ffill')\n",
    "    forecast = m.predict(future)\n",
    "    train_pred = m.predict(train)\n",
    "    scoreR2 = r2_score(test[:num_pounts_to_pred].y, forecast.yhat)\n",
    "    scoreR2_train = r2_score(train.y, train_pred.yhat)\n",
    "    scoreRMSE = np.sqrt(mse(test[:num_pounts_to_pred].y, forecast.yhat))\n",
    "    return forecast.yhat"
   ]
  },
  {
   "cell_type": "code",
   "execution_count": 134,
   "metadata": {},
   "outputs": [],
   "source": [
    "client = Client()"
   ]
  },
  {
   "cell_type": "code",
   "execution_count": 212,
   "metadata": {},
   "outputs": [
    {
     "data": {
      "text/html": [
       "<div>\n",
       "<style scoped>\n",
       "    .dataframe tbody tr th:only-of-type {\n",
       "        vertical-align: middle;\n",
       "    }\n",
       "\n",
       "    .dataframe tbody tr th {\n",
       "        vertical-align: top;\n",
       "    }\n",
       "\n",
       "    .dataframe thead th {\n",
       "        text-align: right;\n",
       "    }\n",
       "</style>\n",
       "<table border=\"1\" class=\"dataframe\">\n",
       "  <thead>\n",
       "    <tr style=\"text-align: right;\">\n",
       "      <th></th>\n",
       "      <th>weekend</th>\n",
       "      <th>since_2018</th>\n",
       "      <th>AWND</th>\n",
       "      <th>PRCP</th>\n",
       "      <th>SNOW</th>\n",
       "      <th>SNWD</th>\n",
       "      <th>TAVG</th>\n",
       "      <th>TMAX</th>\n",
       "      <th>TMIN</th>\n",
       "      <th>WDF2</th>\n",
       "      <th>...</th>\n",
       "      <th>month_December</th>\n",
       "      <th>month_February</th>\n",
       "      <th>month_January</th>\n",
       "      <th>month_July</th>\n",
       "      <th>month_June</th>\n",
       "      <th>month_March</th>\n",
       "      <th>month_May</th>\n",
       "      <th>month_November</th>\n",
       "      <th>month_October</th>\n",
       "      <th>month_September</th>\n",
       "    </tr>\n",
       "  </thead>\n",
       "  <tbody>\n",
       "    <tr>\n",
       "      <th>0</th>\n",
       "      <td>0</td>\n",
       "      <td>0</td>\n",
       "      <td>17.67</td>\n",
       "      <td>0.0</td>\n",
       "      <td>0.0</td>\n",
       "      <td>0.0</td>\n",
       "      <td>12.0</td>\n",
       "      <td>18.0</td>\n",
       "      <td>7.0</td>\n",
       "      <td>310.0</td>\n",
       "      <td>...</td>\n",
       "      <td>0</td>\n",
       "      <td>0</td>\n",
       "      <td>1</td>\n",
       "      <td>0</td>\n",
       "      <td>0</td>\n",
       "      <td>0</td>\n",
       "      <td>0</td>\n",
       "      <td>0</td>\n",
       "      <td>0</td>\n",
       "      <td>0</td>\n",
       "    </tr>\n",
       "    <tr>\n",
       "      <th>1</th>\n",
       "      <td>0</td>\n",
       "      <td>0</td>\n",
       "      <td>17.67</td>\n",
       "      <td>0.0</td>\n",
       "      <td>0.0</td>\n",
       "      <td>0.0</td>\n",
       "      <td>12.0</td>\n",
       "      <td>18.0</td>\n",
       "      <td>7.0</td>\n",
       "      <td>310.0</td>\n",
       "      <td>...</td>\n",
       "      <td>0</td>\n",
       "      <td>0</td>\n",
       "      <td>1</td>\n",
       "      <td>0</td>\n",
       "      <td>0</td>\n",
       "      <td>0</td>\n",
       "      <td>0</td>\n",
       "      <td>0</td>\n",
       "      <td>0</td>\n",
       "      <td>0</td>\n",
       "    </tr>\n",
       "    <tr>\n",
       "      <th>2</th>\n",
       "      <td>0</td>\n",
       "      <td>0</td>\n",
       "      <td>17.67</td>\n",
       "      <td>0.0</td>\n",
       "      <td>0.0</td>\n",
       "      <td>0.0</td>\n",
       "      <td>12.0</td>\n",
       "      <td>18.0</td>\n",
       "      <td>7.0</td>\n",
       "      <td>310.0</td>\n",
       "      <td>...</td>\n",
       "      <td>0</td>\n",
       "      <td>0</td>\n",
       "      <td>1</td>\n",
       "      <td>0</td>\n",
       "      <td>0</td>\n",
       "      <td>0</td>\n",
       "      <td>0</td>\n",
       "      <td>0</td>\n",
       "      <td>0</td>\n",
       "      <td>0</td>\n",
       "    </tr>\n",
       "    <tr>\n",
       "      <th>3</th>\n",
       "      <td>0</td>\n",
       "      <td>0</td>\n",
       "      <td>17.67</td>\n",
       "      <td>0.0</td>\n",
       "      <td>0.0</td>\n",
       "      <td>0.0</td>\n",
       "      <td>12.0</td>\n",
       "      <td>18.0</td>\n",
       "      <td>7.0</td>\n",
       "      <td>310.0</td>\n",
       "      <td>...</td>\n",
       "      <td>0</td>\n",
       "      <td>0</td>\n",
       "      <td>1</td>\n",
       "      <td>0</td>\n",
       "      <td>0</td>\n",
       "      <td>0</td>\n",
       "      <td>0</td>\n",
       "      <td>0</td>\n",
       "      <td>0</td>\n",
       "      <td>0</td>\n",
       "    </tr>\n",
       "    <tr>\n",
       "      <th>4</th>\n",
       "      <td>0</td>\n",
       "      <td>0</td>\n",
       "      <td>17.67</td>\n",
       "      <td>0.0</td>\n",
       "      <td>0.0</td>\n",
       "      <td>0.0</td>\n",
       "      <td>12.0</td>\n",
       "      <td>18.0</td>\n",
       "      <td>7.0</td>\n",
       "      <td>310.0</td>\n",
       "      <td>...</td>\n",
       "      <td>0</td>\n",
       "      <td>0</td>\n",
       "      <td>1</td>\n",
       "      <td>0</td>\n",
       "      <td>0</td>\n",
       "      <td>0</td>\n",
       "      <td>0</td>\n",
       "      <td>0</td>\n",
       "      <td>0</td>\n",
       "      <td>0</td>\n",
       "    </tr>\n",
       "  </tbody>\n",
       "</table>\n",
       "<p>5 rows × 33 columns</p>\n",
       "</div>"
      ],
      "text/plain": [
       "   weekend  since_2018   AWND  PRCP  SNOW  SNWD  TAVG  TMAX  TMIN   WDF2  ...  \\\n",
       "0        0           0  17.67   0.0   0.0   0.0  12.0  18.0   7.0  310.0  ...   \n",
       "1        0           0  17.67   0.0   0.0   0.0  12.0  18.0   7.0  310.0  ...   \n",
       "2        0           0  17.67   0.0   0.0   0.0  12.0  18.0   7.0  310.0  ...   \n",
       "3        0           0  17.67   0.0   0.0   0.0  12.0  18.0   7.0  310.0  ...   \n",
       "4        0           0  17.67   0.0   0.0   0.0  12.0  18.0   7.0  310.0  ...   \n",
       "\n",
       "   month_December  month_February  month_January  month_July  month_June  \\\n",
       "0               0               0              1           0           0   \n",
       "1               0               0              1           0           0   \n",
       "2               0               0              1           0           0   \n",
       "3               0               0              1           0           0   \n",
       "4               0               0              1           0           0   \n",
       "\n",
       "   month_March  month_May  month_November  month_October  month_September  \n",
       "0            0          0               0              0                0  \n",
       "1            0          0               0              0                0  \n",
       "2            0          0               0              0                0  \n",
       "3            0          0               0              0                0  \n",
       "4            0          0               0              0                0  \n",
       "\n",
       "[5 rows x 33 columns]"
      ]
     },
     "execution_count": 212,
     "metadata": {},
     "output_type": "execute_result"
    }
   ],
   "source": [
    "exog = pd.read_csv('date_weather_bike_hr_features_2018.csv')\n",
    "\n",
    "exog = pd.get_dummies(exog.drop(['DATE'], axis=1))\n",
    "\n",
    "exog.head()"
   ]
  },
  {
   "cell_type": "code",
   "execution_count": 215,
   "metadata": {},
   "outputs": [],
   "source": [
    "hol = pd.read_csv('holidays-2018.csv')"
   ]
  },
  {
   "cell_type": "markdown",
   "metadata": {},
   "source": [
    "### Queens"
   ]
  },
  {
   "cell_type": "code",
   "execution_count": 234,
   "metadata": {},
   "outputs": [
    {
     "name": "stdout",
     "output_type": "stream",
     "text": [
      "2019-12-01 17:18:56.180687\n",
      "2019-12-01 17:18:56.194442\n",
      "2019-12-01 17:30:13.928264\n",
      "2019-12-01 17:30:14.067399\n",
      "CPU times: user 1min 9s, sys: 11.9 s, total: 1min 21s\n",
      "Wall time: 11min 17s\n"
     ]
    }
   ],
   "source": [
    "%%time\n",
    "print(datetime.now())\n",
    "output_fc_q_12 = []\n",
    "for i in (queens_neigh):\n",
    "    forecasted_series_q_12 = dask.delayed(run_model_for_neigh)(queens_neigh[i],\n",
    "                                                               exog, add_regressor = ['weekend', \n",
    "                                                                                 'since_2018', 'demand',\n",
    "                                                                                 'SNOW', 'WT01', 'TAVG'],\n",
    "                                                               date1='2018-11-01', date2 = '2018-12-31')\n",
    "    output_fc_q_12.append(forecasted_series_q_12)\n",
    "\n",
    "print(datetime.now())\n",
    "\n",
    "total_q_12 = dask.delayed(output_fc_q_12).compute()\n",
    "\n",
    "print(datetime.now())\n",
    "\n",
    "full_fc_df_q_12 = pd.concat(total_q_12,ignore_index=False,keys=queens_neigh.columns,axis=1)\n",
    "\n",
    "print(datetime.now())"
   ]
  },
  {
   "cell_type": "code",
   "execution_count": 240,
   "metadata": {},
   "outputs": [],
   "source": [
    "full_fc_df_q_12_date = full_fc_df_q_12.copy().set_index(queens_neigh['2018-11-01':'2018-12-30'].index)"
   ]
  },
  {
   "cell_type": "code",
   "execution_count": 242,
   "metadata": {},
   "outputs": [
    {
     "data": {
      "text/plain": [
       "<matplotlib.axes._subplots.AxesSubplot at 0x1c3f77cac8>"
      ]
     },
     "execution_count": 242,
     "metadata": {},
     "output_type": "execute_result"
    },
    {
     "data": {
      "image/png": "[encoded data removed]",
      "text/plain": [
       "<Figure size 1080x720 with 1 Axes>"
      ]
     },
     "metadata": {
      "needs_background": "light"
     },
     "output_type": "display_data"
    }
   ],
   "source": [
    "plt.figure(figsize = (15,10))\n",
    "plt.plot(queens_neigh['2018-12-12':'2018-12-16'].index, full_fc_df_q_12_date['2018-12-12':'2018-12-16']['215'], color='orange')\n",
    "queens_neigh['2018-12-12':'2018-12-16']['215'].plot()"
   ]
  },
  {
   "cell_type": "code",
   "execution_count": 243,
   "metadata": {},
   "outputs": [],
   "source": [
    "full_fc_df_q_12_date.to_csv(\"./models/queens_neigh_demand_forecast_date_12.csv\")"
   ]
  },
  {
   "cell_type": "markdown",
   "metadata": {},
   "source": [
    "### Manhattan"
   ]
  },
  {
   "cell_type": "code",
   "execution_count": 244,
   "metadata": {},
   "outputs": [],
   "source": [
    "manhattan_neigh_demand = pd.read_csv(\"./models/manhattan_neigh_demand.csv\", parse_dates = ['ds'], index_col ='ds')"
   ]
  },
  {
   "cell_type": "code",
   "execution_count": 246,
   "metadata": {},
   "outputs": [
    {
     "data": {
      "text/html": [
       "<div>\n",
       "<style scoped>\n",
       "    .dataframe tbody tr th:only-of-type {\n",
       "        vertical-align: middle;\n",
       "    }\n",
       "\n",
       "    .dataframe tbody tr th {\n",
       "        vertical-align: top;\n",
       "    }\n",
       "\n",
       "    .dataframe thead th {\n",
       "        text-align: right;\n",
       "    }\n",
       "</style>\n",
       "<table border=\"1\" class=\"dataframe\">\n",
       "  <thead>\n",
       "    <tr style=\"text-align: right;\">\n",
       "      <th></th>\n",
       "      <th>4</th>\n",
       "      <th>13</th>\n",
       "      <th>24</th>\n",
       "      <th>41</th>\n",
       "      <th>42</th>\n",
       "      <th>43</th>\n",
       "      <th>45</th>\n",
       "      <th>48</th>\n",
       "      <th>50</th>\n",
       "      <th>68</th>\n",
       "      <th>...</th>\n",
       "      <th>236</th>\n",
       "      <th>237</th>\n",
       "      <th>238</th>\n",
       "      <th>239</th>\n",
       "      <th>243</th>\n",
       "      <th>246</th>\n",
       "      <th>249</th>\n",
       "      <th>261</th>\n",
       "      <th>262</th>\n",
       "      <th>263</th>\n",
       "    </tr>\n",
       "    <tr>\n",
       "      <th>ds</th>\n",
       "      <th></th>\n",
       "      <th></th>\n",
       "      <th></th>\n",
       "      <th></th>\n",
       "      <th></th>\n",
       "      <th></th>\n",
       "      <th></th>\n",
       "      <th></th>\n",
       "      <th></th>\n",
       "      <th></th>\n",
       "      <th></th>\n",
       "      <th></th>\n",
       "      <th></th>\n",
       "      <th></th>\n",
       "      <th></th>\n",
       "      <th></th>\n",
       "      <th></th>\n",
       "      <th></th>\n",
       "      <th></th>\n",
       "      <th></th>\n",
       "      <th></th>\n",
       "    </tr>\n",
       "  </thead>\n",
       "  <tbody>\n",
       "    <tr>\n",
       "      <th>2018-12-31 19:00:00</th>\n",
       "      <td>30.0</td>\n",
       "      <td>123.0</td>\n",
       "      <td>69.0</td>\n",
       "      <td>85.0</td>\n",
       "      <td>37.0</td>\n",
       "      <td>113.0</td>\n",
       "      <td>38.0</td>\n",
       "      <td>498.0</td>\n",
       "      <td>153.0</td>\n",
       "      <td>354.0</td>\n",
       "      <td>...</td>\n",
       "      <td>511.0</td>\n",
       "      <td>436.0</td>\n",
       "      <td>441.0</td>\n",
       "      <td>525.0</td>\n",
       "      <td>61.0</td>\n",
       "      <td>152.0</td>\n",
       "      <td>231.0</td>\n",
       "      <td>84.0</td>\n",
       "      <td>264.0</td>\n",
       "      <td>485.0</td>\n",
       "    </tr>\n",
       "    <tr>\n",
       "      <th>2018-12-31 20:00:00</th>\n",
       "      <td>39.0</td>\n",
       "      <td>100.0</td>\n",
       "      <td>81.0</td>\n",
       "      <td>96.0</td>\n",
       "      <td>54.0</td>\n",
       "      <td>138.0</td>\n",
       "      <td>40.0</td>\n",
       "      <td>533.0</td>\n",
       "      <td>131.0</td>\n",
       "      <td>346.0</td>\n",
       "      <td>...</td>\n",
       "      <td>460.0</td>\n",
       "      <td>451.0</td>\n",
       "      <td>385.0</td>\n",
       "      <td>483.0</td>\n",
       "      <td>55.0</td>\n",
       "      <td>164.0</td>\n",
       "      <td>267.0</td>\n",
       "      <td>101.0</td>\n",
       "      <td>230.0</td>\n",
       "      <td>460.0</td>\n",
       "    </tr>\n",
       "    <tr>\n",
       "      <th>2018-12-31 21:00:00</th>\n",
       "      <td>57.0</td>\n",
       "      <td>95.0</td>\n",
       "      <td>76.0</td>\n",
       "      <td>123.0</td>\n",
       "      <td>65.0</td>\n",
       "      <td>83.0</td>\n",
       "      <td>35.0</td>\n",
       "      <td>455.0</td>\n",
       "      <td>133.0</td>\n",
       "      <td>302.0</td>\n",
       "      <td>...</td>\n",
       "      <td>455.0</td>\n",
       "      <td>451.0</td>\n",
       "      <td>371.0</td>\n",
       "      <td>444.0</td>\n",
       "      <td>60.0</td>\n",
       "      <td>148.0</td>\n",
       "      <td>290.0</td>\n",
       "      <td>60.0</td>\n",
       "      <td>216.0</td>\n",
       "      <td>439.0</td>\n",
       "    </tr>\n",
       "    <tr>\n",
       "      <th>2018-12-31 22:00:00</th>\n",
       "      <td>38.0</td>\n",
       "      <td>57.0</td>\n",
       "      <td>52.0</td>\n",
       "      <td>85.0</td>\n",
       "      <td>75.0</td>\n",
       "      <td>88.0</td>\n",
       "      <td>25.0</td>\n",
       "      <td>459.0</td>\n",
       "      <td>124.0</td>\n",
       "      <td>267.0</td>\n",
       "      <td>...</td>\n",
       "      <td>306.0</td>\n",
       "      <td>285.0</td>\n",
       "      <td>284.0</td>\n",
       "      <td>376.0</td>\n",
       "      <td>59.0</td>\n",
       "      <td>89.0</td>\n",
       "      <td>251.0</td>\n",
       "      <td>48.0</td>\n",
       "      <td>116.0</td>\n",
       "      <td>314.0</td>\n",
       "    </tr>\n",
       "    <tr>\n",
       "      <th>2018-12-31 23:00:00</th>\n",
       "      <td>18.0</td>\n",
       "      <td>31.0</td>\n",
       "      <td>51.0</td>\n",
       "      <td>79.0</td>\n",
       "      <td>50.0</td>\n",
       "      <td>94.0</td>\n",
       "      <td>16.0</td>\n",
       "      <td>289.0</td>\n",
       "      <td>94.0</td>\n",
       "      <td>222.0</td>\n",
       "      <td>...</td>\n",
       "      <td>238.0</td>\n",
       "      <td>259.0</td>\n",
       "      <td>211.0</td>\n",
       "      <td>246.0</td>\n",
       "      <td>50.0</td>\n",
       "      <td>70.0</td>\n",
       "      <td>202.0</td>\n",
       "      <td>34.0</td>\n",
       "      <td>94.0</td>\n",
       "      <td>211.0</td>\n",
       "    </tr>\n",
       "  </tbody>\n",
       "</table>\n",
       "<p>5 rows × 58 columns</p>\n",
       "</div>"
      ],
      "text/plain": [
       "                        4     13    24     41    42     43    45     48  \\\n",
       "ds                                                                        \n",
       "2018-12-31 19:00:00  30.0  123.0  69.0   85.0  37.0  113.0  38.0  498.0   \n",
       "2018-12-31 20:00:00  39.0  100.0  81.0   96.0  54.0  138.0  40.0  533.0   \n",
       "2018-12-31 21:00:00  57.0   95.0  76.0  123.0  65.0   83.0  35.0  455.0   \n",
       "2018-12-31 22:00:00  38.0   57.0  52.0   85.0  75.0   88.0  25.0  459.0   \n",
       "2018-12-31 23:00:00  18.0   31.0  51.0   79.0  50.0   94.0  16.0  289.0   \n",
       "\n",
       "                        50     68  ...    236    237    238    239   243  \\\n",
       "ds                                 ...                                     \n",
       "2018-12-31 19:00:00  153.0  354.0  ...  511.0  436.0  441.0  525.0  61.0   \n",
       "2018-12-31 20:00:00  131.0  346.0  ...  460.0  451.0  385.0  483.0  55.0   \n",
       "2018-12-31 21:00:00  133.0  302.0  ...  455.0  451.0  371.0  444.0  60.0   \n",
       "2018-12-31 22:00:00  124.0  267.0  ...  306.0  285.0  284.0  376.0  59.0   \n",
       "2018-12-31 23:00:00   94.0  222.0  ...  238.0  259.0  211.0  246.0  50.0   \n",
       "\n",
       "                       246    249    261    262    263  \n",
       "ds                                                      \n",
       "2018-12-31 19:00:00  152.0  231.0   84.0  264.0  485.0  \n",
       "2018-12-31 20:00:00  164.0  267.0  101.0  230.0  460.0  \n",
       "2018-12-31 21:00:00  148.0  290.0   60.0  216.0  439.0  \n",
       "2018-12-31 22:00:00   89.0  251.0   48.0  116.0  314.0  \n",
       "2018-12-31 23:00:00   70.0  202.0   34.0   94.0  211.0  \n",
       "\n",
       "[5 rows x 58 columns]"
      ]
     },
     "execution_count": 246,
     "metadata": {},
     "output_type": "execute_result"
    }
   ],
   "source": [
    "manhattan_neigh_demand.tail()"
   ]
  },
  {
   "cell_type": "code",
   "execution_count": 247,
   "metadata": {},
   "outputs": [
    {
     "name": "stdout",
     "output_type": "stream",
     "text": [
      "2019-12-01 17:57:39.960534\n",
      "2019-12-01 17:57:40.145505\n",
      "2019-12-01 18:35:04.012584\n",
      "2019-12-01 18:35:04.265296\n",
      "CPU times: user 3min 52s, sys: 45.9 s, total: 4min 38s\n",
      "Wall time: 37min 24s\n"
     ]
    }
   ],
   "source": [
    "%%time\n",
    "print(datetime.now())\n",
    "output_fc_m_12 = []\n",
    "for i in (manhattan_neigh_demand):\n",
    "    forecasted_series_m_12 = dask.delayed(run_model_for_neigh)(manhattan_neigh_demand[i],\n",
    "                                                               exog, add_regressor = ['weekend', \n",
    "                                                                                 'since_2018', 'demand',\n",
    "                                                                                 'SNOW', 'WT01', 'TAVG'],\n",
    "                                                               date1='2018-11-01', date2 = '2018-12-31')\n",
    "    output_fc_m_12.append(forecasted_series_m_12)\n",
    "\n",
    "print(datetime.now())\n",
    "\n",
    "total_m_12 = dask.delayed(output_fc_m_12).compute()\n",
    "\n",
    "print(datetime.now())\n",
    "\n",
    "full_fc_df_m_12 = pd.concat(total_m_12,ignore_index=False,keys=manhattan_neigh_demand.columns,axis=1)\n",
    "\n",
    "print(datetime.now())"
   ]
  },
  {
   "cell_type": "code",
   "execution_count": 250,
   "metadata": {},
   "outputs": [],
   "source": [
    "full_fc_df_m_12.copy().set_index(manhattan_neigh_demand['2018-11-01':'2018-12-30'].index).to_csv(\"./models/manhattan_neigh_demand_forecast_date_12.csv\")"
   ]
  },
  {
   "cell_type": "markdown",
   "metadata": {},
   "source": [
    "### Brooklyn"
   ]
  },
  {
   "cell_type": "code",
   "execution_count": 251,
   "metadata": {},
   "outputs": [],
   "source": [
    "brooklyn_neigh_demand = pd.read_csv(\"./models/brooklyn_neigh_demand.csv\", parse_dates = ['ds'], index_col ='ds')"
   ]
  },
  {
   "cell_type": "code",
   "execution_count": 252,
   "metadata": {},
   "outputs": [
    {
     "data": {
      "text/html": [
       "<div>\n",
       "<style scoped>\n",
       "    .dataframe tbody tr th:only-of-type {\n",
       "        vertical-align: middle;\n",
       "    }\n",
       "\n",
       "    .dataframe tbody tr th {\n",
       "        vertical-align: top;\n",
       "    }\n",
       "\n",
       "    .dataframe thead th {\n",
       "        text-align: right;\n",
       "    }\n",
       "</style>\n",
       "<table border=\"1\" class=\"dataframe\">\n",
       "  <thead>\n",
       "    <tr style=\"text-align: right;\">\n",
       "      <th></th>\n",
       "      <th>14</th>\n",
       "      <th>17</th>\n",
       "      <th>25</th>\n",
       "      <th>33</th>\n",
       "      <th>37</th>\n",
       "      <th>40</th>\n",
       "      <th>49</th>\n",
       "      <th>54</th>\n",
       "      <th>55</th>\n",
       "      <th>61</th>\n",
       "      <th>...</th>\n",
       "      <th>80</th>\n",
       "      <th>89</th>\n",
       "      <th>97</th>\n",
       "      <th>106</th>\n",
       "      <th>112</th>\n",
       "      <th>181</th>\n",
       "      <th>189</th>\n",
       "      <th>228</th>\n",
       "      <th>255</th>\n",
       "      <th>256</th>\n",
       "    </tr>\n",
       "    <tr>\n",
       "      <th>ds</th>\n",
       "      <th></th>\n",
       "      <th></th>\n",
       "      <th></th>\n",
       "      <th></th>\n",
       "      <th></th>\n",
       "      <th></th>\n",
       "      <th></th>\n",
       "      <th></th>\n",
       "      <th></th>\n",
       "      <th></th>\n",
       "      <th></th>\n",
       "      <th></th>\n",
       "      <th></th>\n",
       "      <th></th>\n",
       "      <th></th>\n",
       "      <th></th>\n",
       "      <th></th>\n",
       "      <th></th>\n",
       "      <th></th>\n",
       "      <th></th>\n",
       "      <th></th>\n",
       "    </tr>\n",
       "  </thead>\n",
       "  <tbody>\n",
       "    <tr>\n",
       "      <th>2018-12-31 19:00:00</th>\n",
       "      <td>3.0</td>\n",
       "      <td>6.0</td>\n",
       "      <td>13.0</td>\n",
       "      <td>9.0</td>\n",
       "      <td>8.0</td>\n",
       "      <td>16.0</td>\n",
       "      <td>3.0</td>\n",
       "      <td>7.0</td>\n",
       "      <td>6.0</td>\n",
       "      <td>5.0</td>\n",
       "      <td>...</td>\n",
       "      <td>8.0</td>\n",
       "      <td>2.0</td>\n",
       "      <td>14.0</td>\n",
       "      <td>3.0</td>\n",
       "      <td>6.0</td>\n",
       "      <td>17.0</td>\n",
       "      <td>1.0</td>\n",
       "      <td>8.0</td>\n",
       "      <td>10.0</td>\n",
       "      <td>8.0</td>\n",
       "    </tr>\n",
       "    <tr>\n",
       "      <th>2018-12-31 20:00:00</th>\n",
       "      <td>8.0</td>\n",
       "      <td>7.0</td>\n",
       "      <td>13.0</td>\n",
       "      <td>13.0</td>\n",
       "      <td>7.0</td>\n",
       "      <td>10.0</td>\n",
       "      <td>4.0</td>\n",
       "      <td>9.0</td>\n",
       "      <td>4.0</td>\n",
       "      <td>7.0</td>\n",
       "      <td>...</td>\n",
       "      <td>7.0</td>\n",
       "      <td>10.0</td>\n",
       "      <td>14.0</td>\n",
       "      <td>1.0</td>\n",
       "      <td>5.0</td>\n",
       "      <td>17.0</td>\n",
       "      <td>8.0</td>\n",
       "      <td>7.0</td>\n",
       "      <td>20.0</td>\n",
       "      <td>18.0</td>\n",
       "    </tr>\n",
       "    <tr>\n",
       "      <th>2018-12-31 21:00:00</th>\n",
       "      <td>4.0</td>\n",
       "      <td>11.0</td>\n",
       "      <td>14.0</td>\n",
       "      <td>16.0</td>\n",
       "      <td>22.0</td>\n",
       "      <td>8.0</td>\n",
       "      <td>8.0</td>\n",
       "      <td>9.0</td>\n",
       "      <td>5.0</td>\n",
       "      <td>16.0</td>\n",
       "      <td>...</td>\n",
       "      <td>6.0</td>\n",
       "      <td>4.0</td>\n",
       "      <td>12.0</td>\n",
       "      <td>2.0</td>\n",
       "      <td>4.0</td>\n",
       "      <td>20.0</td>\n",
       "      <td>5.0</td>\n",
       "      <td>6.0</td>\n",
       "      <td>17.0</td>\n",
       "      <td>13.0</td>\n",
       "    </tr>\n",
       "    <tr>\n",
       "      <th>2018-12-31 22:00:00</th>\n",
       "      <td>2.0</td>\n",
       "      <td>9.0</td>\n",
       "      <td>11.0</td>\n",
       "      <td>6.0</td>\n",
       "      <td>22.0</td>\n",
       "      <td>4.0</td>\n",
       "      <td>7.0</td>\n",
       "      <td>6.0</td>\n",
       "      <td>3.0</td>\n",
       "      <td>12.0</td>\n",
       "      <td>...</td>\n",
       "      <td>10.0</td>\n",
       "      <td>9.0</td>\n",
       "      <td>18.0</td>\n",
       "      <td>0.0</td>\n",
       "      <td>4.0</td>\n",
       "      <td>13.0</td>\n",
       "      <td>9.0</td>\n",
       "      <td>2.0</td>\n",
       "      <td>10.0</td>\n",
       "      <td>12.0</td>\n",
       "    </tr>\n",
       "    <tr>\n",
       "      <th>2018-12-31 23:00:00</th>\n",
       "      <td>0.0</td>\n",
       "      <td>4.0</td>\n",
       "      <td>5.0</td>\n",
       "      <td>3.0</td>\n",
       "      <td>14.0</td>\n",
       "      <td>3.0</td>\n",
       "      <td>5.0</td>\n",
       "      <td>2.0</td>\n",
       "      <td>3.0</td>\n",
       "      <td>8.0</td>\n",
       "      <td>...</td>\n",
       "      <td>3.0</td>\n",
       "      <td>2.0</td>\n",
       "      <td>7.0</td>\n",
       "      <td>2.0</td>\n",
       "      <td>4.0</td>\n",
       "      <td>16.0</td>\n",
       "      <td>9.0</td>\n",
       "      <td>6.0</td>\n",
       "      <td>16.0</td>\n",
       "      <td>13.0</td>\n",
       "    </tr>\n",
       "  </tbody>\n",
       "</table>\n",
       "<p>5 rows × 24 columns</p>\n",
       "</div>"
      ],
      "text/plain": [
       "                      14    17    25    33    37    40   49   54   55    61  \\\n",
       "ds                                                                            \n",
       "2018-12-31 19:00:00  3.0   6.0  13.0   9.0   8.0  16.0  3.0  7.0  6.0   5.0   \n",
       "2018-12-31 20:00:00  8.0   7.0  13.0  13.0   7.0  10.0  4.0  9.0  4.0   7.0   \n",
       "2018-12-31 21:00:00  4.0  11.0  14.0  16.0  22.0   8.0  8.0  9.0  5.0  16.0   \n",
       "2018-12-31 22:00:00  2.0   9.0  11.0   6.0  22.0   4.0  7.0  6.0  3.0  12.0   \n",
       "2018-12-31 23:00:00  0.0   4.0   5.0   3.0  14.0   3.0  5.0  2.0  3.0   8.0   \n",
       "\n",
       "                     ...    80    89    97  106  112   181  189  228   255  \\\n",
       "ds                   ...                                                     \n",
       "2018-12-31 19:00:00  ...   8.0   2.0  14.0  3.0  6.0  17.0  1.0  8.0  10.0   \n",
       "2018-12-31 20:00:00  ...   7.0  10.0  14.0  1.0  5.0  17.0  8.0  7.0  20.0   \n",
       "2018-12-31 21:00:00  ...   6.0   4.0  12.0  2.0  4.0  20.0  5.0  6.0  17.0   \n",
       "2018-12-31 22:00:00  ...  10.0   9.0  18.0  0.0  4.0  13.0  9.0  2.0  10.0   \n",
       "2018-12-31 23:00:00  ...   3.0   2.0   7.0  2.0  4.0  16.0  9.0  6.0  16.0   \n",
       "\n",
       "                      256  \n",
       "ds                         \n",
       "2018-12-31 19:00:00   8.0  \n",
       "2018-12-31 20:00:00  18.0  \n",
       "2018-12-31 21:00:00  13.0  \n",
       "2018-12-31 22:00:00  12.0  \n",
       "2018-12-31 23:00:00  13.0  \n",
       "\n",
       "[5 rows x 24 columns]"
      ]
     },
     "execution_count": 252,
     "metadata": {},
     "output_type": "execute_result"
    }
   ],
   "source": [
    "brooklyn_neigh_demand.tail()"
   ]
  },
  {
   "cell_type": "code",
   "execution_count": 253,
   "metadata": {},
   "outputs": [
    {
     "name": "stdout",
     "output_type": "stream",
     "text": [
      "2019-12-01 18:55:12.144608\n",
      "2019-12-01 18:55:12.243815\n",
      "2019-12-01 19:07:07.304505\n",
      "2019-12-01 19:07:07.507095\n",
      "CPU times: user 1min 13s, sys: 15.1 s, total: 1min 28s\n",
      "Wall time: 11min 55s\n"
     ]
    }
   ],
   "source": [
    "%%time\n",
    "print(datetime.now())\n",
    "output_fc_b_12 = []\n",
    "for i in (brooklyn_neigh_demand):\n",
    "    forecasted_series_b_12 = dask.delayed(run_model_for_neigh)(brooklyn_neigh_demand[i],\n",
    "                                                               exog, add_regressor = ['weekend', \n",
    "                                                                                 'since_2018', 'demand',\n",
    "                                                                                 'SNOW', 'WT01', 'TAVG'],\n",
    "                                                               date1='2018-11-01', date2 = '2018-12-31')\n",
    "    output_fc_b_12.append(forecasted_series_b_12)\n",
    "\n",
    "print(datetime.now())\n",
    "\n",
    "total_b_12 = dask.delayed(output_fc_b_12).compute()\n",
    "\n",
    "print(datetime.now())\n",
    "\n",
    "full_fc_df_b_12 = pd.concat(total_b_12,ignore_index=False,keys=brooklyn_neigh_demand.columns,axis=1)\n",
    "\n",
    "print(datetime.now())"
   ]
  },
  {
   "cell_type": "code",
   "execution_count": 255,
   "metadata": {},
   "outputs": [],
   "source": [
    "full_fc_df_b_12.copy().set_index(brooklyn_neigh_demand['2018-11-01':'2018-12-30'].index).to_csv(\"./models/brooklyn_neigh_demand_forecast_date_12.csv\")"
   ]
  }
 ],
 "metadata": {
  "kernelspec": {
   "display_name": "Python 3",
   "language": "python",
   "name": "python3"
  },
  "language_info": {
   "codemirror_mode": {
    "name": "ipython",
    "version": 3
   },
   "file_extension": ".py",
   "mimetype": "text/x-python",
   "name": "python",
   "nbconvert_exporter": "python",
   "pygments_lexer": "ipython3",
   "version": "3.7.3"
  }
 },
 "nbformat": 4,
 "nbformat_minor": 2
}
